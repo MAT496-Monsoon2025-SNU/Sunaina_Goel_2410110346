{
 "cells": [
  {
   "cell_type": "code",
   "execution_count": 1,
   "id": "27f9f027",
   "metadata": {},
   "outputs": [
    {
     "name": "stdout",
     "output_type": "stream",
     "text": [
      "zsh:1: /Users/sunainagoel/Downloads/llm/.conda/bin/pip: bad interpreter: /Users/sunainagoel/llm/.conda/bin/python3.11: no such file or directory\n"
     ]
    }
   ],
   "source": [
    "!pip install -qU \"langchain[groq]\""
   ]
  },
  {
   "cell_type": "code",
   "execution_count": 3,
   "id": "f8415305",
   "metadata": {},
   "outputs": [
    {
     "data": {
      "text/plain": [
       "True"
      ]
     },
     "execution_count": 3,
     "metadata": {},
     "output_type": "execute_result"
    }
   ],
   "source": [
    "from dotenv import load_dotenv\n",
    "load_dotenv()"
   ]
  },
  {
   "cell_type": "code",
   "execution_count": 4,
   "id": "70d584b6",
   "metadata": {},
   "outputs": [],
   "source": [
    "from langchain.chat_models import init_chat_model\n",
    "\n",
    "model = init_chat_model(\"llama-3.3-70b-versatile\", model_provider=\"groq\")"
   ]
  },
  {
   "cell_type": "code",
   "execution_count": 5,
   "id": "5422c90e",
   "metadata": {},
   "outputs": [],
   "source": [
    "prompt_template = \"\"\"Find out the capital of the given country:\n",
    "Country: {country}\n",
    "\"\"\""
   ]
  },
  {
   "cell_type": "code",
   "execution_count": 6,
   "id": "98ad7ebf",
   "metadata": {},
   "outputs": [
    {
     "name": "stdout",
     "output_type": "stream",
     "text": [
      "Find out the capital of the given country:\n",
      "Country: India\n",
      "\n"
     ]
    }
   ],
   "source": [
    "prompt = prompt_template.format(country=\"India\")\n",
    "print(prompt)"
   ]
  },
  {
   "cell_type": "code",
   "execution_count": 8,
   "id": "8f432a31",
   "metadata": {},
   "outputs": [
    {
     "name": "stdout",
     "output_type": "stream",
     "text": [
      "The capital of India is New Delhi.\n"
     ]
    }
   ],
   "source": [
    "response = model.invoke(prompt)\n",
    "print(response.content)"
   ]
  },
  {
   "cell_type": "markdown",
   "id": "cdfe946e",
   "metadata": {},
   "source": [
    "RAG"
   ]
  },
  {
   "cell_type": "code",
   "execution_count": 9,
   "id": "9d135fe6",
   "metadata": {},
   "outputs": [],
   "source": [
    "news_context = \"\"\"Donald Trump's top economic adviser has warned that if India fails to curb its Russian crude trade, the US President will not ease his stance on Washington's punitive tariffs on Indian imports. US National Economic Council Director Kevin Hassett called trade negotiations with New Delhi \"complicated\", as he accused India of \"intransigence\" in opening its markets to American products. \n",
    "\n",
    "\"If the Indians don't budge, I don't think President Trump will,\" he said. The United States on Wednesday doubled tariffs on Indian goods to a staggering 50 per cent, the highest for any country other than Brazil. This includes a 25 per cent additional duty for India's purchase of Russian crude oil.\n",
    "\n",
    "Add NDTV As A Trusted Source\n",
    "\n",
    "\"Indian Intransigence\" 🤯: US Economic Adviser - \"If the Indians Don't Budge, I Don't Think Trump Will Either\"\n",
    "\n",
    "Kevin Hassett seems to think that protecting India's rights and rejecting elements of an FTA that aren't mutually beneficial is INTRANSIGENT - simply India refusing to… https://t.co/gBZ3C9DEFS pic.twitter.com/cnWGXmUwAP\n",
    "\n",
    "— RT_India (@RT_India_news) August 28, 2025\n",
    "Hassett said trade negotiations with India were \"complicated\", claiming part of it \"has been tied to the pressure we've been trying to put on Russia in order to secure a peace deal and save millions of lives. And then there's the Indian intransigence about opening their markets to our products.\"\n",
    "\n",
    "Linking India-US trade negotiations to a marathon, Hassett said talks require a long-term outlook and acceptance of \"ebbs and flows\" before New Delhi and Washington reach the final position.\n",
    "\n",
    "\n",
    "\"When you look at trade negotiations, one lesson we've all learnt is that you need to keep your eyes on the horizon and recognise that there are going to be ebbs and flows before we reach the final position,\" he said.\n",
    "\n",
    "Team Trump's Tariff Outlook\n",
    "The Trump adviser's remarks echoed US Treasury Secretary Scott Bessent's earlier comments, where he said high tariffs on India are \"not just over India's purchase of Russian oil\" but also due to the protracted nature of the ongoing trade deal talks.\n",
    "\n",
    "\"I'd thought we'd have a deal in May or June; that India could be one of the earliest deals. But they, kind of, tapped us along,\" Bessent told Fox Business on Wednesday. \n",
    "\n",
    "He claimed New Delhi had been \"a bit uncooperative\" during negotiations and said, \"This is a very complicated relationship.\"\n",
    "\n",
    "\"I do think India is the world's largest democracy, and the US is the world's largest economy. I think at the end of the day we will come together,\" he added.\n",
    "\n",
    "India's Stand\n",
    "India has asserted that it is prepared to stand firm against US pressure, with Prime Minister Narendra Modi vowing he would \"never compromise\" the interests of the country's farmers.\n",
    "\n",
    "The government estimates the tariffs will impact $48.2 billion worth of Indian exports to the US. Officials have warned that, though the immediate impact of new duties appears limited, the ripple effects on the economy pose challenges that must be addressed.\n",
    "\n",
    "The new duties could make shipments to the US commercially unviable, triggering job losses and slower economic growth, they said.\"\"\""
   ]
  },
  {
   "cell_type": "code",
   "execution_count": 10,
   "id": "4d5f3ec8",
   "metadata": {},
   "outputs": [],
   "source": [
    "prompt_template = \"\"\"You are an assistant for question-answering tasks. Use the following pieces of retrieved context to answer the question. If you don't know the answer, just say that you don't know. Use three sentences maximum and keep the answer concise.\n",
    "Question: {question} \n",
    "Context: {context} \n",
    "Answer:\"\"\""
   ]
  },
  {
   "cell_type": "code",
   "execution_count": 11,
   "id": "9c317bd5",
   "metadata": {},
   "outputs": [
    {
     "name": "stdout",
     "output_type": "stream",
     "text": [
      "Here are three bullet points summarizing the news: \n",
      "* The US has doubled tariffs on Indian goods to 50%, citing India's refusal to curb its Russian crude trade and open its markets to American products.\n",
      "* US National Economic Council Director Kevin Hassett warned that President Trump will not ease his stance on tariffs if India does not \"budge\" on these issues.\n",
      "* India has vowed to stand firm against US pressure, with Prime Minister Narendra Modi asserting that he will \"never compromise\" the interests of the country's farmers, despite the tariffs potentially impacting $48.2 billion worth of Indian exports.\n"
     ]
    }
   ],
   "source": [
    "prompt = prompt_template.format(\n",
    "    context = news_context,\n",
    "    question = \"Summarize the news in three bullet points.\"\n",
    ")\n",
    "\n",
    "from langchain.chat_models import init_chat_model\n",
    "model = init_chat_model(\"llama-3.3-70b-versatile\", model_provider=\"groq\")\n",
    "\n",
    "response = model.invoke(prompt)\n",
    "print(response.content)"
   ]
  },
  {
   "cell_type": "code",
   "execution_count": 12,
   "id": "1e26baaf",
   "metadata": {},
   "outputs": [],
   "source": [
    "with open(\"news_article.txt\", 'r') as file:\n",
    "    news_context_from_file = file.read()"
   ]
  },
  {
   "cell_type": "code",
   "execution_count": 13,
   "id": "6ae2743a",
   "metadata": {},
   "outputs": [
    {
     "name": "stdout",
     "output_type": "stream",
     "text": [
      "The article highlights the tense trade negotiations between the US and India, with the US threatening to maintain punitive tariffs on Indian imports unless India curbs its Russian crude trade. The US National Economic Council Director, Kevin Hassett, accused India of \"intransigence\" in opening its markets to American products, which could lead to a prolonged trade dispute. The tariffs imposed by the US may have significant economic implications for India, impacting $48.2 billion worth of exports and potentially leading to job losses and slower growth.\n"
     ]
    }
   ],
   "source": [
    "prompt_template = \"\"\"You are an assistant for question-answering tasks. Use the following pieces of retrieved context to answer the question. If you don't know the answer, just say that you don't know. Use three sentences maximum and keep the answer concise.\n",
    "Question: {question} \n",
    "Context: {context} \n",
    "Answer:\"\"\"\n",
    "\n",
    "prompt = prompt_template.format(\n",
    "    context = news_context_from_file, \n",
    "    question=\"Give a critical insight of this article\"\n",
    ")\n",
    "\n",
    "from langchain.chat_models import init_chat_model\n",
    "model = init_chat_model(\"llama-3.3-70b-versatile\", model_provider=\"groq\")\n",
    "\n",
    "response = model.invoke(prompt)\n",
    "print(response.content)"
   ]
  },
  {
   "cell_type": "code",
   "execution_count": 14,
   "id": "784e02cd",
   "metadata": {},
   "outputs": [],
   "source": [
    "with open(\"book.txt\", 'r') as file:\n",
    "    book_context = file.read()"
   ]
  },
  {
   "cell_type": "code",
   "execution_count": 15,
   "id": "cbd6615f",
   "metadata": {},
   "outputs": [
    {
     "data": {
      "text/plain": [
       "35374"
      ]
     },
     "execution_count": 15,
     "metadata": {},
     "output_type": "execute_result"
    }
   ],
   "source": [
    "len(book_context) // 40"
   ]
  },
  {
   "cell_type": "code",
   "execution_count": 16,
   "id": "1a32da35",
   "metadata": {},
   "outputs": [
    {
     "name": "stdout",
     "output_type": "stream",
     "text": [
      "This book is about the history of the Peninsular War, specifically covering the period from September 1809 to December 1810. It focuses on the central crisis of the war, including the arrival of the French in front of the Lines of Torres Vedras and their first short retreat. The book is written by Charles Oman and is the third volume of his history of the Peninsular War.\n"
     ]
    }
   ],
   "source": [
    "prompt_template = \"\"\"You are an assistant for question-answering tasks. Use the following pieces of retrieved context to answer the question. If you don't know the answer, just say that you don't know. Use three sentences maximum and keep the answer concise.\n",
    "Question: {question} \n",
    "Context: {context} \n",
    "Answer:\"\"\"\n",
    "\n",
    "prompt = prompt_template.format(\n",
    "    context = book_context[:len(book_context) // 40], # we only take a small part of the book to fit in the context window\n",
    "    question=\"What is this book about?\"\n",
    ")\n",
    "\n",
    "from langchain.chat_models import init_chat_model\n",
    "model = init_chat_model(\"llama-3.3-70b-versatile\", model_provider=\"groq\")\n",
    "\n",
    "response = model.invoke(prompt)\n",
    "print(response.content)"
   ]
  }
 ],
 "metadata": {
  "kernelspec": {
   "display_name": "Python 3",
   "language": "python",
   "name": "python3"
  },
  "language_info": {
   "codemirror_mode": {
    "name": "ipython",
    "version": 3
   },
   "file_extension": ".py",
   "mimetype": "text/x-python",
   "name": "python",
   "nbconvert_exporter": "python",
   "pygments_lexer": "ipython3",
   "version": "3.11.13"
  }
 },
 "nbformat": 4,
 "nbformat_minor": 5
}
