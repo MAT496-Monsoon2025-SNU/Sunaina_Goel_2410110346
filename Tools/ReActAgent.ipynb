{
 "cells": [
  {
   "cell_type": "code",
   "execution_count": 11,
   "id": "40a52c12",
   "metadata": {},
   "outputs": [
    {
     "data": {
      "text/plain": [
       "True"
      ]
     },
     "execution_count": 11,
     "metadata": {},
     "output_type": "execute_result"
    }
   ],
   "source": [
    "from dotenv import load_dotenv\n",
    "load_dotenv(override=True)"
   ]
  },
  {
   "cell_type": "code",
   "execution_count": 12,
   "id": "8781ad05",
   "metadata": {},
   "outputs": [],
   "source": [
    "from langchain_core.tools import tool\n",
    "\n",
    "@tool\n",
    "def laugh() -> str:\n",
    "    \"\"\" Call this tool if the mood is funny\"\"\"\n",
    "    return \"HAHAHAHAHAH :D\"\n",
    "\n",
    "@tool\n",
    "def sad() -> str:\n",
    "    \"\"\" Call this tool if you want to show sadness\"\"\"\n",
    "    return \"I am sad :(\"\n",
    "\n",
    "@tool\n",
    "def happy() -> str:\n",
    "    \"\"\" Call this tool if you want to show happiness or positive feeling\"\"\"\n",
    "    return \"I am happy :)\"\n",
    "\n",
    "@tool\n",
    "def cry() -> str:\n",
    "    \"\"\" Call this tool if you want to show cryiness\"\"\"\n",
    "    return \"*sniff sniff* I am crying :'( \"\n",
    "\n",
    "@tool\n",
    "def angry() -> str:\n",
    "    \"\"\" Call this tool if you want to show anger or frustration\"\"\"\n",
    "    return \"I am angry >:( \"\n",
    "\n",
    "@tool\n",
    "def sleepy() -> str:\n",
    "    \"\"\" Call this tool if you want to show sleepiness\"\"\"\n",
    "    return \"I am sleepy zzzZZZzzz\""
   ]
  },
  {
   "cell_type": "code",
   "execution_count": 13,
   "id": "5f3f86e6",
   "metadata": {},
   "outputs": [],
   "source": [
    "tools_list = [laugh, sad, happy, cry, angry, sleepy]\n",
    "tools_dict = {t.name: t for t in tools_list} "
   ]
  },
  {
   "cell_type": "code",
   "execution_count": 14,
   "id": "3647544e",
   "metadata": {},
   "outputs": [],
   "source": [
    "from langgraph.prebuilt import create_react_agent\n",
    "\n",
    "agent = create_react_agent(\"groq:openai/gpt-oss-120b\", tools_list)"
   ]
  },
  {
   "cell_type": "code",
   "execution_count": 15,
   "id": "d064d6c5",
   "metadata": {},
   "outputs": [
    {
     "data": {
      "text/plain": [
       "{'messages': [HumanMessage(content='Life is mean.', additional_kwargs={}, response_metadata={}, id='e4181067-54af-483b-b80c-0cbbc5a76271'),\n",
       "  AIMessage(content='', additional_kwargs={'reasoning_content': 'The user says \"Life is mean.\" They seem to express a negative sentiment, possibly feeling down. The assistant should respond empathetically, offering support, acknowledging feelings, maybe encouraging them. Should we use a tool? The user expresses sadness or frustration. Could use sad or angry? Probably sad. The tool \"sad\" is to show sadness. Use that.\\n\\nWe can respond with empathy and perhaps ask if they\\'d like to talk about what\\'s bothering them, offering supportive words. Use the sad tool.', 'tool_calls': [{'id': 'fc_0435f94d-c894-42b2-a5f4-25f6ad7af1d7', 'function': {'arguments': '{\"\":{}}', 'name': 'sad'}, 'type': 'function'}]}, response_metadata={'token_usage': {'completion_tokens': 124, 'prompt_tokens': 228, 'total_tokens': 352, 'completion_time': 0.249150297, 'prompt_time': 0.011496076, 'queue_time': 0.052127324, 'total_time': 0.260646373}, 'model_name': 'openai/gpt-oss-120b', 'system_fingerprint': 'fp_82669fd91d', 'service_tier': 'on_demand', 'finish_reason': 'tool_calls', 'logprobs': None}, id='run--b6ad6cf5-8216-46a7-815b-c9ba8e54e511-0', tool_calls=[{'name': 'sad', 'args': {'': {}}, 'id': 'fc_0435f94d-c894-42b2-a5f4-25f6ad7af1d7', 'type': 'tool_call'}], usage_metadata={'input_tokens': 228, 'output_tokens': 124, 'total_tokens': 352}),\n",
       "  ToolMessage(content='I am sad :(', name='sad', id='a2346be7-f7fd-4970-ad9f-d994a23e022f', tool_call_id='fc_0435f94d-c894-42b2-a5f4-25f6ad7af1d7'),\n",
       "  AIMessage(content='I’m really sorry you’re feeling that way.\\u202fIt can be exhausting when it seems like everything’s working against you. If you’d like to share what’s been going on, I’m here to listen. Sometimes just talking it out—or even taking a tiny break to do something you enjoy, even for a few minutes—can help shift the perspective a bit. You don’t have to face the weight of it all alone. 🌱', additional_kwargs={'reasoning_content': 'User says \"Life is mean.\" This is a statement of frustration. We should respond empathetically, maybe offering support. Use appropriate tone. Possibly ask if they want to talk more. No need to call functions unless we want to show sadness, which we already did. We can respond with empathy and maybe some uplifting suggestions.'}, response_metadata={'token_usage': {'completion_tokens': 164, 'prompt_tokens': 255, 'total_tokens': 419, 'completion_time': 0.335368741, 'prompt_time': 0.012473321, 'queue_time': 0.054445059, 'total_time': 0.347842062}, 'model_name': 'openai/gpt-oss-120b', 'system_fingerprint': 'fp_ed9190d8b7', 'service_tier': 'on_demand', 'finish_reason': 'stop', 'logprobs': None}, id='run--7b7c3812-99cd-46cb-bed0-9eb88afbc9d2-0', usage_metadata={'input_tokens': 255, 'output_tokens': 164, 'total_tokens': 419})]}"
      ]
     },
     "execution_count": 15,
     "metadata": {},
     "output_type": "execute_result"
    }
   ],
   "source": [
    "agent.invoke({\"messages\": \"Life is mean.\"})"
   ]
  },
  {
   "cell_type": "code",
   "execution_count": 16,
   "id": "c8539f63",
   "metadata": {},
   "outputs": [
    {
     "data": {
      "text/plain": [
       "{'messages': [HumanMessage(content=\"I haven't slept all night.\", additional_kwargs={}, response_metadata={}, id='0c6d252e-a14e-4440-938d-897092a6f282'),\n",
       "  AIMessage(content='', additional_kwargs={'reasoning_content': 'The user says they haven\\'t slept all night. They might be feeling tired. We can respond empathetically and maybe suggest ways to cope, ask how they feel, maybe suggest rest tips. Also could use the \"sleepy\" function to show sleepiness. Let\\'s do that.', 'tool_calls': [{'id': 'fc_0137f1a0-4fae-4cfe-ae69-07e8589fc662', 'function': {'arguments': '{}', 'name': 'sleepy'}, 'type': 'function'}]}, response_metadata={'token_usage': {'completion_tokens': 75, 'prompt_tokens': 230, 'total_tokens': 305, 'completion_time': 0.149125769, 'prompt_time': 0.009135306, 'queue_time': 0.053582614, 'total_time': 0.158261075}, 'model_name': 'openai/gpt-oss-120b', 'system_fingerprint': 'fp_3a688838c3', 'service_tier': 'on_demand', 'finish_reason': 'tool_calls', 'logprobs': None}, id='run--99965dd6-e5f9-4da7-983f-589f7f46b53d-0', tool_calls=[{'name': 'sleepy', 'args': {}, 'id': 'fc_0137f1a0-4fae-4cfe-ae69-07e8589fc662', 'type': 'tool_call'}], usage_metadata={'input_tokens': 230, 'output_tokens': 75, 'total_tokens': 305}),\n",
       "  ToolMessage(content='I am sleepy zzzZZZzzz', name='sleepy', id='48b78251-5bd1-4dd1-b86e-ee54ce17706d', tool_call_id='fc_0137f1a0-4fae-4cfe-ae69-07e8589fc662'),\n",
       "  AIMessage(content='I’m sorry to hear you’ve had a sleepless night—it can be rough when the hours just keep slipping by. If you need a little boost to get through the day, here are a few gentle ideas:\\n\\n- **Stay hydrated** – sip water or a calming herbal tea (like chamomile or peppermint) to keep your body refreshed.\\n- **Take short breaks** – a 5‑minute walk, some light stretching, or even a quick splash of cool water on your face can help reset your focus.\\n- **Bright light** – exposure to natural daylight (or a bright lamp) can signal to your brain that it’s time to be alert.\\n- **Power‑nap (if possible)** – a brief 10‑20 minute nap can improve alertness without making you feel groggy later.\\n\\nWhen you finally get a chance to rest, try to create a calming pre‑sleep routine: dim the lights, put away screens, and maybe listen to some gentle music or a short guided meditation. Your body will thank you.\\n\\nIf you’d like any specific tips—like quick energizing snacks, breathing exercises, or ways to unwind before you finally hit the pillow—just let me know! Hang in there; you’ve got this. 🌙✨', additional_kwargs={'reasoning_content': 'The user says \"I haven\\'t slept all night.\" Likely they are expressing fatigue, maybe need empathy. Should respond with empathy, perhaps ask if they need help staying awake or suggestions for sleep later. Also maybe express concern. Use a supportive tone.'}, response_metadata={'token_usage': {'completion_tokens': 314, 'prompt_tokens': 259, 'total_tokens': 573, 'completion_time': 0.624174506, 'prompt_time': 0.011165059, 'queue_time': 0.237194141, 'total_time': 0.635339565}, 'model_name': 'openai/gpt-oss-120b', 'system_fingerprint': 'fp_82669fd91d', 'service_tier': 'on_demand', 'finish_reason': 'stop', 'logprobs': None}, id='run--08b45895-37ce-4d73-a469-69304201ca1f-0', usage_metadata={'input_tokens': 259, 'output_tokens': 314, 'total_tokens': 573})]}"
      ]
     },
     "execution_count": 16,
     "metadata": {},
     "output_type": "execute_result"
    }
   ],
   "source": [
    "agent.invoke({\"messages\": \"I haven't slept all night.\"})"
   ]
  },
  {
   "cell_type": "code",
   "execution_count": 20,
   "id": "5dfb70e7",
   "metadata": {},
   "outputs": [
    {
     "data": {
      "text/plain": [
       "{'messages': [HumanMessage(content='My friend told a funny joke.', additional_kwargs={}, response_metadata={}, id='5f17c2dd-2f76-4bf2-ab0f-59230d056c40'),\n",
       "  AIMessage(content='', additional_kwargs={'reasoning_content': 'User says \"My friend told a funny joke.\" Likely they want a reaction, maybe laugh. Use laugh function.', 'tool_calls': [{'id': 'fc_b9cdf67d-2a08-440f-9e1c-a472fccdec93', 'function': {'arguments': '{}', 'name': 'laugh'}, 'type': 'function'}]}, response_metadata={'token_usage': {'completion_tokens': 44, 'prompt_tokens': 231, 'total_tokens': 275, 'completion_time': 0.088820297, 'prompt_time': 0.012158412, 'queue_time': 0.150436687, 'total_time': 0.100978709}, 'model_name': 'openai/gpt-oss-120b', 'system_fingerprint': 'fp_82669fd91d', 'service_tier': 'on_demand', 'finish_reason': 'tool_calls', 'logprobs': None}, id='run--c8f4cf59-5fa1-4723-99df-6e8af11a8211-0', tool_calls=[{'name': 'laugh', 'args': {}, 'id': 'fc_b9cdf67d-2a08-440f-9e1c-a472fccdec93', 'type': 'tool_call'}], usage_metadata={'input_tokens': 231, 'output_tokens': 44, 'total_tokens': 275}),\n",
       "  ToolMessage(content='HAHAHAHAHAH :D', name='laugh', id='da7502ca-9621-4f57-b80a-0efd03f3700b', tool_call_id='fc_b9cdf67d-2a08-440f-9e1c-a472fccdec93'),\n",
       "  AIMessage(content=\"That sounds great! 😂 What was the joke? I'd love to hear it!\", additional_kwargs={'reasoning_content': 'The user says \"My friend told a funny joke.\" The assistant should respond acknowledging that and maybe ask about the joke, show amusement. Could also use laugh tool. Already used laugh. Should respond with a friendly message.'}, response_metadata={'token_usage': {'completion_tokens': 70, 'prompt_tokens': 257, 'total_tokens': 327, 'completion_time': 0.139549811, 'prompt_time': 0.010944078, 'queue_time': 0.047984743, 'total_time': 0.150493889}, 'model_name': 'openai/gpt-oss-120b', 'system_fingerprint': 'fp_3a688838c3', 'service_tier': 'on_demand', 'finish_reason': 'stop', 'logprobs': None}, id='run--c5382d81-7d07-4530-98af-8e63c6e5ec89-0', usage_metadata={'input_tokens': 257, 'output_tokens': 70, 'total_tokens': 327})]}"
      ]
     },
     "execution_count": 20,
     "metadata": {},
     "output_type": "execute_result"
    }
   ],
   "source": [
    "agent.invoke({\"messages\": \"My friend told a funny joke.\"})"
   ]
  },
  {
   "cell_type": "code",
   "execution_count": 21,
   "id": "657922b6",
   "metadata": {},
   "outputs": [
    {
     "data": {
      "text/plain": [
       "{'messages': [HumanMessage(content='My sister stole my clothes and I am furious!', additional_kwargs={}, response_metadata={}, id='c2cb398d-a63f-47c1-8b60-d075078492cc'),\n",
       "  AIMessage(content='', additional_kwargs={'reasoning_content': 'We need to respond with empathy, possibly humor. The user is furious because sister stole clothes. We can show anger or frustration. Use angry function.', 'tool_calls': [{'id': 'fc_68f45c3a-bdb4-4afa-acc2-030a149d50b2', 'function': {'arguments': '{}', 'name': 'angry'}, 'type': 'function'}]}, response_metadata={'token_usage': {'completion_tokens': 51, 'prompt_tokens': 234, 'total_tokens': 285, 'completion_time': 0.10239585, 'prompt_time': 0.009393408, 'queue_time': 0.047874992, 'total_time': 0.111789258}, 'model_name': 'openai/gpt-oss-120b', 'system_fingerprint': 'fp_3a688838c3', 'service_tier': 'on_demand', 'finish_reason': 'tool_calls', 'logprobs': None}, id='run--d0df8fea-e2d7-4c8c-a49a-eadbfb730fc6-0', tool_calls=[{'name': 'angry', 'args': {}, 'id': 'fc_68f45c3a-bdb4-4afa-acc2-030a149d50b2', 'type': 'tool_call'}], usage_metadata={'input_tokens': 234, 'output_tokens': 51, 'total_tokens': 285}),\n",
       "  ToolMessage(content='I am angry >:( ', name='angry', id='a514a177-1bea-4b26-812c-a0468e0744a2', tool_call_id='fc_68f45c3a-bdb4-4afa-acc2-030a149d50b2'),\n",
       "  AIMessage(content='I’m really sorry you’re dealing with that—having your stuff taken, especially something personal like clothes, can feel like a total invasion of your space. It’s completely understandable to be furious. \\n\\nIf you feel up to it, you might try a calm conversation with your sister (or a parent/guardian if you need help) to let her know how upset you are and ask for your items back. Setting clear boundaries about personal belongings can help prevent this from happening again. In the meantime, maybe you can pull together a quick “borrow‑something‑else” plan (like a spare tee or hoodie) so you’re not left without anything while you sort it out. \\n\\nIf you need to vent more or want ideas on how to handle the situation, I’m here for you.', additional_kwargs={'reasoning_content': 'The user says: \"My sister stole my clothes and I am furious!\" The user expresses anger. The system expects us to respond appropriately, using the angry function to show anger. Already used angry function. Now we should respond with empathy, acknowledging the frustration, maybe suggest ways to address. Use appropriate tone.'}, response_metadata={'token_usage': {'completion_tokens': 231, 'prompt_tokens': 262, 'total_tokens': 493, 'completion_time': 0.47074298, 'prompt_time': 0.013153727, 'queue_time': 0.369837642, 'total_time': 0.483896707}, 'model_name': 'openai/gpt-oss-120b', 'system_fingerprint': 'fp_3a688838c3', 'service_tier': 'on_demand', 'finish_reason': 'stop', 'logprobs': None}, id='run--31d12ad6-1263-49d1-a171-713bacb78909-0', usage_metadata={'input_tokens': 262, 'output_tokens': 231, 'total_tokens': 493})]}"
      ]
     },
     "execution_count": 21,
     "metadata": {},
     "output_type": "execute_result"
    }
   ],
   "source": [
    "agent.invoke({\"messages\": \"My sister stole my clothes and I am furious!\"})"
   ]
  },
  {
   "cell_type": "code",
   "execution_count": 26,
   "id": "c5131347",
   "metadata": {},
   "outputs": [
    {
     "data": {
      "text/plain": [
       "{'messages': [HumanMessage(content='My dog died. I feel like crying.', additional_kwargs={}, response_metadata={}, id='04cbe72f-1acb-4109-85bf-0e43b4213e0e'),\n",
       "  AIMessage(content='', additional_kwargs={'reasoning_content': 'We need to respond with empathy, possibly using the \"cry\" tool to show crying. The user is expressing grief. We should be supportive, empathetic, maybe ask if they\\'d like to talk about their dog, share memories, etc. Use the \"cry\" tool.', 'tool_calls': [{'id': 'fc_667aa37c-3231-40d4-a30a-652e6eb5d377', 'function': {'arguments': '{\"\":{}}', 'name': 'cry'}, 'type': 'function'}]}, response_metadata={'token_usage': {'completion_tokens': 80, 'prompt_tokens': 233, 'total_tokens': 313, 'completion_time': 0.158929386, 'prompt_time': 0.011279199, 'queue_time': 0.277176451, 'total_time': 0.170208585}, 'model_name': 'openai/gpt-oss-120b', 'system_fingerprint': 'fp_3a688838c3', 'service_tier': 'on_demand', 'finish_reason': 'tool_calls', 'logprobs': None}, id='run--0b1739bf-0f80-46cf-b1fa-330d0ec8b971-0', tool_calls=[{'name': 'cry', 'args': {'': {}}, 'id': 'fc_667aa37c-3231-40d4-a30a-652e6eb5d377', 'type': 'tool_call'}], usage_metadata={'input_tokens': 233, 'output_tokens': 80, 'total_tokens': 313}),\n",
       "  ToolMessage(content=\"*sniff sniff* I am crying :'( \", name='cry', id='9906632a-e641-4853-a9d7-0604cd7542f5', tool_call_id='fc_667aa37c-3231-40d4-a30a-652e6eb5d377'),\n",
       "  AIMessage(content='I’m so sorry for your loss. Losing a beloved pet is incredibly painful, and it’s completely natural to feel like crying. Your dog was a special companion, and it’s okay to let those emotions flow. If you’d like to talk about any memories you cherish, or just need someone to listen, I’m here for you. Take all the time you need to grieve, and remember that it’s okay to lean on friends, family, or a support group when you’re ready. Sending you a big, gentle hug. 🌼', additional_kwargs={'reasoning_content': 'The user expresses grief, wants empathy. Should respond with sympathy, supportive words. Possibly offer resources. No tool needed beyond cry which was used. Provide comforting response.'}, response_metadata={'token_usage': {'completion_tokens': 153, 'prompt_tokens': 267, 'total_tokens': 420, 'completion_time': 0.30515641, 'prompt_time': 0.011591844, 'queue_time': 0.304589055, 'total_time': 0.316748254}, 'model_name': 'openai/gpt-oss-120b', 'system_fingerprint': 'fp_ed9190d8b7', 'service_tier': 'on_demand', 'finish_reason': 'stop', 'logprobs': None}, id='run--6879b8f0-194d-4c11-beae-226d810371d2-0', usage_metadata={'input_tokens': 267, 'output_tokens': 153, 'total_tokens': 420})]}"
      ]
     },
     "execution_count": 26,
     "metadata": {},
     "output_type": "execute_result"
    }
   ],
   "source": [
    "agent.invoke({\"messages\": \"My dog died. I feel like crying.\"})"
   ]
  },
  {
   "cell_type": "code",
   "execution_count": 27,
   "id": "7e01218d",
   "metadata": {},
   "outputs": [
    {
     "data": {
      "text/plain": [
       "{'messages': [HumanMessage(content='I feel blessed to have such a wonderful family.', additional_kwargs={}, response_metadata={}, id='6816cee5-db77-48fe-af2e-1f28e3060862'),\n",
       "  AIMessage(content='', additional_kwargs={'reasoning_content': 'User expresses positive sentiment about family. We should respond positively, perhaps with a happy emoticon or use the happy function. Use the happy function to show happiness.', 'tool_calls': [{'id': 'fc_53478af4-145f-4f71-ba23-e9073acdd16c', 'function': {'arguments': '{}', 'name': 'happy'}, 'type': 'function'}]}, response_metadata={'token_usage': {'completion_tokens': 52, 'prompt_tokens': 234, 'total_tokens': 286, 'completion_time': 0.103494249, 'prompt_time': 0.009402549, 'queue_time': 0.054238971, 'total_time': 0.112896798}, 'model_name': 'openai/gpt-oss-120b', 'system_fingerprint': 'fp_3a688838c3', 'service_tier': 'on_demand', 'finish_reason': 'tool_calls', 'logprobs': None}, id='run--285b5b8c-5b48-4d4f-92ba-572fdd923681-0', tool_calls=[{'name': 'happy', 'args': {}, 'id': 'fc_53478af4-145f-4f71-ba23-e9073acdd16c', 'type': 'tool_call'}], usage_metadata={'input_tokens': 234, 'output_tokens': 52, 'total_tokens': 286}),\n",
       "  ToolMessage(content='I am happy :)', name='happy', id='89c97b74-ebfb-4c60-ac80-8e1a99d4feb3', tool_call_id='fc_53478af4-145f-4f71-ba23-e9073acdd16c'),\n",
       "  AIMessage(content='That’s truly beautiful! It’s such a gift to have a family that fills your heart with gratitude and joy. May those wonderful moments keep growing and bring you endless happiness. 🌟', additional_kwargs={'reasoning_content': 'The user expresses feeling blessed to have a wonderful family. The appropriate response is a positive, supportive reply. The system already called happy. So just respond warmly.'}, response_metadata={'token_usage': {'completion_tokens': 79, 'prompt_tokens': 258, 'total_tokens': 337, 'completion_time': 0.157218233, 'prompt_time': 0.010943607, 'queue_time': 0.053743003, 'total_time': 0.16816184}, 'model_name': 'openai/gpt-oss-120b', 'system_fingerprint': 'fp_82669fd91d', 'service_tier': 'on_demand', 'finish_reason': 'stop', 'logprobs': None}, id='run--d946bcc6-c9ff-42e1-b5f6-d88334d46fc1-0', usage_metadata={'input_tokens': 258, 'output_tokens': 79, 'total_tokens': 337})]}"
      ]
     },
     "execution_count": 27,
     "metadata": {},
     "output_type": "execute_result"
    }
   ],
   "source": [
    "agent.invoke({\"messages\": \"I feel blessed to have such a wonderful family.\"})"
   ]
  }
 ],
 "metadata": {
  "kernelspec": {
   "display_name": "Python 3",
   "language": "python",
   "name": "python3"
  },
  "language_info": {
   "codemirror_mode": {
    "name": "ipython",
    "version": 3
   },
   "file_extension": ".py",
   "mimetype": "text/x-python",
   "name": "python",
   "nbconvert_exporter": "python",
   "pygments_lexer": "ipython3",
   "version": "3.11.13"
  }
 },
 "nbformat": 4,
 "nbformat_minor": 5
}
