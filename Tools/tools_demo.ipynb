{
 "cells": [
  {
   "cell_type": "code",
   "execution_count": 2,
   "id": "7963b495",
   "metadata": {},
   "outputs": [
    {
     "data": {
      "text/plain": [
       "True"
      ]
     },
     "execution_count": 2,
     "metadata": {},
     "output_type": "execute_result"
    }
   ],
   "source": [
    "import os\n",
    "from dotenv import load_dotenv\n",
    "load_dotenv(override=True)\n"
   ]
  },
  {
   "cell_type": "markdown",
   "id": "f29aceec",
   "metadata": {},
   "source": [
    "# Web Search"
   ]
  },
  {
   "cell_type": "markdown",
   "id": "596550b2",
   "metadata": {},
   "source": [
    "## Google Serper"
   ]
  },
  {
   "cell_type": "code",
   "execution_count": null,
   "id": "0af8195b",
   "metadata": {},
   "outputs": [
    {
     "name": "stdout",
     "output_type": "stream",
     "text": [
      "Note: you may need to restart the kernel to use updated packages.\n"
     ]
    }
   ],
   "source": [
    "pip install --upgrade --quiet  langchain-community langchain-openai\n",
    "pip install --upgrade --quiet langgraph langchain-openai"
   ]
  },
  {
   "cell_type": "code",
   "execution_count": 26,
   "id": "c37124a3",
   "metadata": {},
   "outputs": [
    {
     "name": "stdout",
     "output_type": "stream",
     "text": [
      "{'searchParameters': {'q': 'Ajit Kumar Shiv Nadar University', 'gl': 'in', 'type': 'search', 'engine': 'google'}, 'organic': [{'title': 'Ajit Kumar', 'link': 'https://snu.edu.in/faculty/ajit-kumar/', 'snippet': 'Assistant Professor, School of Natural Sciences. Contact Information: Biography, Scholarly Activities, Research Interest, Education, 2011, Ph.D., Mathematics, ...', 'position': 1}, {'title': 'Ajit Kumar', 'subtitle': 'Noida, Uttar Pradesh, India · Assistant Professor of Mathematics · Shiv Nadar University', 'link': 'https://in.linkedin.com/in/ajit-kumar-81346352', 'snippet': 'As a faculty member, my primary expertise lies in teaching Applied Mathematics courses. I enjoy developing applications and writing code to solve real-world ...', 'position': 2}, {'title': 'Ajit Kumar | School of Engineering', 'link': 'https://snu.edu.in/schools/school-of-engineering/faculty/ajit-kumar/', 'snippet': 'Ajit Kumar. Assistant Professor School of Natural Sciences. Contact Information. Email: ajit.kumar@snu.edu.in; Number: Ext 270. Biography. Research Interest.', 'position': 3}, {'title': 'Ajit KUMAR | Shiv Nadar University, Dādri | Mathematics', 'link': 'https://www.researchgate.net/profile/Ajit-Kumar-76', 'snippet': 'Ajit KUMAR | Cited by 100 | of Shiv Nadar University, Dādri | Read 7 publications | Contact Ajit KUMAR.', 'position': 4}, {'title': 'B.Sc. ( Research ) In Mathematics India', 'link': 'https://snu.edu.in/departments/department-of-mathematics/', 'snippet': 'Faculty at Department of Mathematics · A. Satyanarayana Reddy · Ajit Kumar · Amber Habib · Chandranandan Gangopadhyay · Charu Sharma · Dipti Dubey · Indranil Biswas.', 'position': 5}, {'title': 'Dr. Ajit Kumar', 'link': 'https://scholar.google.com/citations?user=IVuwuEwAAAAJ&hl=en', 'snippet': 'Bimlesh LochabProfessor, Shiv Nadar UniversityVerified email at snu.edu.in ... SM Abhinanda Sengupta, Ajit Kumar, Gayatree Barik, Aakash Ahuja, Jit Ghosh ...', 'position': 6}, {'title': 'Faculty | School of Natural Sciences', 'link': 'https://snu.edu.in/schools/school-of-natural-sciences/faculty/', 'snippet': 'Aastha Dheer. Ramalingaswami Re-entry Fellow. Department of Life Sciences. Ajit Kumar. Assistant Professor School of Natural Sciences. Department ...', 'position': 7}, {'title': 'Ajit Kumar - Graphy', 'link': 'https://krajit.graphy.com/', 'snippet': 'Join Ajit Kumar and dive into diverse subjects and linguistic richness. ... Shiv Nadar University. Features.. Comprehensive Courses. Explore a wide range ...', 'position': 8}, {'title': 'Faculty', 'link': 'https://snu.edu.in/faculty/', 'snippet': 'Ajit Kumar. Assistant Professor School of Natural Sciences. Department of Mathematics. Ajmal Khan. Assistant Professor Rural Management ...', 'position': 9}, {'title': 'Research Excellence Initiatives', 'link': 'https://snu.edu.in/research/research-excellence-initiatives/', 'snippet': 'Ajit Kumar (Mathematics) | External Investigator: Dr. Gopalakrishnan Ananthanarayanan, Associate Professor, Center for Computational Engineering ...', 'position': 10}], 'credits': 1}\n"
     ]
    }
   ],
   "source": [
    "import requests\n",
    "import os\n",
    "import json\n",
    "\n",
    "url = \"https://google.serper.dev/search\"\n",
    "headers = {\n",
    "    \"X-API-KEY\": os.environ.get(\"SERPER_API_KEY\"),\n",
    "    \"Content-Type\": \"application/json\"\n",
    "}\n",
    "payload = {\n",
    "    \"q\": \"Ajit Kumar Shiv Nadar University\",\n",
    "    \"gl\": \"in\"\n",
    "}\n",
    "\n",
    "response = requests.post(url, headers=headers, json=payload)\n",
    "print(response.json())\n"
   ]
  },
  {
   "cell_type": "code",
   "execution_count": 28,
   "id": "b9202b95",
   "metadata": {},
   "outputs": [
    {
     "data": {
      "text/plain": [
       "{'searchParameters': {'q': 'Ajit Kumar Shiv Nadar University',\n",
       "  'gl': 'in',\n",
       "  'type': 'search',\n",
       "  'engine': 'google'},\n",
       " 'organic': [{'title': 'Ajit Kumar',\n",
       "   'link': 'https://snu.edu.in/faculty/ajit-kumar/',\n",
       "   'snippet': 'Assistant Professor, School of Natural Sciences. Contact Information: Biography, Scholarly Activities, Research Interest, Education, 2011, Ph.D., Mathematics, ...',\n",
       "   'position': 1},\n",
       "  {'title': 'Ajit Kumar',\n",
       "   'subtitle': 'Noida, Uttar Pradesh, India · Assistant Professor of Mathematics · Shiv Nadar University',\n",
       "   'link': 'https://in.linkedin.com/in/ajit-kumar-81346352',\n",
       "   'snippet': 'As a faculty member, my primary expertise lies in teaching Applied Mathematics courses. I enjoy developing applications and writing code to solve real-world ...',\n",
       "   'position': 2},\n",
       "  {'title': 'Ajit Kumar | School of Engineering',\n",
       "   'link': 'https://snu.edu.in/schools/school-of-engineering/faculty/ajit-kumar/',\n",
       "   'snippet': 'Ajit Kumar. Assistant Professor School of Natural Sciences. Contact Information. Email: ajit.kumar@snu.edu.in; Number: Ext 270. Biography. Research Interest.',\n",
       "   'position': 3},\n",
       "  {'title': 'Ajit KUMAR | Shiv Nadar University, Dādri | Mathematics',\n",
       "   'link': 'https://www.researchgate.net/profile/Ajit-Kumar-76',\n",
       "   'snippet': 'Ajit KUMAR | Cited by 100 | of Shiv Nadar University, Dādri | Read 7 publications | Contact Ajit KUMAR.',\n",
       "   'position': 4},\n",
       "  {'title': 'B.Sc. ( Research ) In Mathematics India',\n",
       "   'link': 'https://snu.edu.in/departments/department-of-mathematics/',\n",
       "   'snippet': 'Faculty at Department of Mathematics · A. Satyanarayana Reddy · Ajit Kumar · Amber Habib · Chandranandan Gangopadhyay · Charu Sharma · Dipti Dubey · Indranil Biswas.',\n",
       "   'position': 5},\n",
       "  {'title': 'Dr. Ajit Kumar',\n",
       "   'link': 'https://scholar.google.com/citations?user=IVuwuEwAAAAJ&hl=en',\n",
       "   'snippet': 'Bimlesh LochabProfessor, Shiv Nadar UniversityVerified email at snu.edu.in ... SM Abhinanda Sengupta, Ajit Kumar, Gayatree Barik, Aakash Ahuja, Jit Ghosh ...',\n",
       "   'position': 6},\n",
       "  {'title': 'Faculty | School of Natural Sciences',\n",
       "   'link': 'https://snu.edu.in/schools/school-of-natural-sciences/faculty/',\n",
       "   'snippet': 'Aastha Dheer. Ramalingaswami Re-entry Fellow. Department of Life Sciences. Ajit Kumar. Assistant Professor School of Natural Sciences. Department ...',\n",
       "   'position': 7},\n",
       "  {'title': 'Ajit Kumar - Graphy',\n",
       "   'link': 'https://krajit.graphy.com/',\n",
       "   'snippet': 'Join Ajit Kumar and dive into diverse subjects and linguistic richness. ... Shiv Nadar University. Features.. Comprehensive Courses. Explore a wide range ...',\n",
       "   'position': 8},\n",
       "  {'title': 'Faculty',\n",
       "   'link': 'https://snu.edu.in/faculty/',\n",
       "   'snippet': 'Ajit Kumar. Assistant Professor School of Natural Sciences. Department of Mathematics. Ajmal Khan. Assistant Professor Rural Management ...',\n",
       "   'position': 9},\n",
       "  {'title': 'Research Excellence Initiatives',\n",
       "   'link': 'https://snu.edu.in/research/research-excellence-initiatives/',\n",
       "   'snippet': 'Ajit Kumar (Mathematics) | External Investigator: Dr. Gopalakrishnan Ananthanarayanan, Associate Professor, Center for Computational Engineering ...',\n",
       "   'position': 10}],\n",
       " 'credits': 1}"
      ]
     },
     "execution_count": 28,
     "metadata": {},
     "output_type": "execute_result"
    }
   ],
   "source": [
    "response.json()"
   ]
  },
  {
   "cell_type": "code",
   "execution_count": 31,
   "id": "b3095312",
   "metadata": {},
   "outputs": [],
   "source": [
    "import json\n",
    "\n",
    "data_dict = response.json()"
   ]
  },
  {
   "cell_type": "code",
   "execution_count": 34,
   "id": "bcf3ca55",
   "metadata": {},
   "outputs": [
    {
     "data": {
      "text/plain": [
       "[{'title': 'Ajit Kumar',\n",
       "  'link': 'https://snu.edu.in/faculty/ajit-kumar/',\n",
       "  'snippet': 'Assistant Professor, School of Natural Sciences. Contact Information: Biography, Scholarly Activities, Research Interest, Education, 2011, Ph.D., Mathematics, ...',\n",
       "  'position': 1},\n",
       " {'title': 'Ajit Kumar',\n",
       "  'subtitle': 'Noida, Uttar Pradesh, India · Assistant Professor of Mathematics · Shiv Nadar University',\n",
       "  'link': 'https://in.linkedin.com/in/ajit-kumar-81346352',\n",
       "  'snippet': 'As a faculty member, my primary expertise lies in teaching Applied Mathematics courses. I enjoy developing applications and writing code to solve real-world ...',\n",
       "  'position': 2},\n",
       " {'title': 'Ajit Kumar | School of Engineering',\n",
       "  'link': 'https://snu.edu.in/schools/school-of-engineering/faculty/ajit-kumar/',\n",
       "  'snippet': 'Ajit Kumar. Assistant Professor School of Natural Sciences. Contact Information. Email: ajit.kumar@snu.edu.in; Number: Ext 270. Biography. Research Interest.',\n",
       "  'position': 3},\n",
       " {'title': 'Ajit KUMAR | Shiv Nadar University, Dādri | Mathematics',\n",
       "  'link': 'https://www.researchgate.net/profile/Ajit-Kumar-76',\n",
       "  'snippet': 'Ajit KUMAR | Cited by 100 | of Shiv Nadar University, Dādri | Read 7 publications | Contact Ajit KUMAR.',\n",
       "  'position': 4},\n",
       " {'title': 'B.Sc. ( Research ) In Mathematics India',\n",
       "  'link': 'https://snu.edu.in/departments/department-of-mathematics/',\n",
       "  'snippet': 'Faculty at Department of Mathematics · A. Satyanarayana Reddy · Ajit Kumar · Amber Habib · Chandranandan Gangopadhyay · Charu Sharma · Dipti Dubey · Indranil Biswas.',\n",
       "  'position': 5},\n",
       " {'title': 'Dr. Ajit Kumar',\n",
       "  'link': 'https://scholar.google.com/citations?user=IVuwuEwAAAAJ&hl=en',\n",
       "  'snippet': 'Bimlesh LochabProfessor, Shiv Nadar UniversityVerified email at snu.edu.in ... SM Abhinanda Sengupta, Ajit Kumar, Gayatree Barik, Aakash Ahuja, Jit Ghosh ...',\n",
       "  'position': 6},\n",
       " {'title': 'Faculty | School of Natural Sciences',\n",
       "  'link': 'https://snu.edu.in/schools/school-of-natural-sciences/faculty/',\n",
       "  'snippet': 'Aastha Dheer. Ramalingaswami Re-entry Fellow. Department of Life Sciences. Ajit Kumar. Assistant Professor School of Natural Sciences. Department ...',\n",
       "  'position': 7},\n",
       " {'title': 'Ajit Kumar - Graphy',\n",
       "  'link': 'https://krajit.graphy.com/',\n",
       "  'snippet': 'Join Ajit Kumar and dive into diverse subjects and linguistic richness. ... Shiv Nadar University. Features.. Comprehensive Courses. Explore a wide range ...',\n",
       "  'position': 8},\n",
       " {'title': 'Faculty',\n",
       "  'link': 'https://snu.edu.in/faculty/',\n",
       "  'snippet': 'Ajit Kumar. Assistant Professor School of Natural Sciences. Department of Mathematics. Ajmal Khan. Assistant Professor Rural Management ...',\n",
       "  'position': 9},\n",
       " {'title': 'Research Excellence Initiatives',\n",
       "  'link': 'https://snu.edu.in/research/research-excellence-initiatives/',\n",
       "  'snippet': 'Ajit Kumar (Mathematics) | External Investigator: Dr. Gopalakrishnan Ananthanarayanan, Associate Professor, Center for Computational Engineering ...',\n",
       "  'position': 10}]"
      ]
     },
     "execution_count": 34,
     "metadata": {},
     "output_type": "execute_result"
    }
   ],
   "source": [
    "data_dict['organic']"
   ]
  }
 ],
 "metadata": {
  "kernelspec": {
   "display_name": "Python 3",
   "language": "python",
   "name": "python3"
  },
  "language_info": {
   "codemirror_mode": {
    "name": "ipython",
    "version": 3
   },
   "file_extension": ".py",
   "mimetype": "text/x-python",
   "name": "python",
   "nbconvert_exporter": "python",
   "pygments_lexer": "ipython3",
   "version": "3.11.13"
  }
 },
 "nbformat": 4,
 "nbformat_minor": 5
}
