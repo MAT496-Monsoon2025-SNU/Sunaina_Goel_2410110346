{
 "cells": [
  {
   "cell_type": "code",
   "execution_count": 218,
   "id": "8cf11c47",
   "metadata": {},
   "outputs": [
    {
     "data": {
      "text/plain": [
       "True"
      ]
     },
     "execution_count": 218,
     "metadata": {},
     "output_type": "execute_result"
    }
   ],
   "source": [
    "from dotenv import load_dotenv\n",
    "load_dotenv(override=True)"
   ]
  },
  {
   "cell_type": "markdown",
   "id": "4c616bc7",
   "metadata": {},
   "source": [
    "# Learning to have conversation with LLM"
   ]
  },
  {
   "cell_type": "code",
   "execution_count": 219,
   "id": "f89a6d9b",
   "metadata": {},
   "outputs": [],
   "source": [
    "# pick a model\n",
    "from langchain.chat_models import init_chat_model\n",
    "llm = init_chat_model(\"llama-3.3-70b-versatile\", model_provider=\"groq\")"
   ]
  },
  {
   "cell_type": "markdown",
   "id": "37126d86",
   "metadata": {},
   "source": [
    "### Create your tools"
   ]
  },
  {
   "cell_type": "code",
   "execution_count": 220,
   "id": "63524d6c",
   "metadata": {},
   "outputs": [],
   "source": [
    "from langchain_core.tools import tool\n",
    "\n",
    "@tool\n",
    "def laugh() -> str:\n",
    "    \"\"\" Call this tool if the mood is funny\"\"\"\n",
    "    return \"HAHAHAHAHAH :D\"\n",
    "\n",
    "@tool\n",
    "def sad() -> str:\n",
    "    \"\"\" Call this tool if you want to show sadness\"\"\"\n",
    "    return \"I am sad :(\"\n",
    "\n",
    "@tool\n",
    "def happy() -> str:\n",
    "    \"\"\" Call this tool if you want to show happiness or positive feeling\"\"\"\n",
    "    return \"I am happy :)\"\n",
    "\n",
    "@tool\n",
    "def cry() -> str:\n",
    "    \"\"\" Call this tool if you want to show cryiness\"\"\"\n",
    "    return \"*sniff sniff* I am crying :'( \"\n",
    "\n",
    "@tool\n",
    "def angry() -> str:\n",
    "    \"\"\" Call this tool if you want to show anger or frustration\"\"\"\n",
    "    return \"I am angry >:( \"\n",
    "\n",
    "@tool\n",
    "def sleepy() -> str:\n",
    "    \"\"\" Call this tool if you want to show sleepiness\"\"\"\n",
    "    return \"I am sleepy zzzZZZzzz\"\n"
   ]
  },
  {
   "cell_type": "code",
   "execution_count": 221,
   "id": "97bf49be",
   "metadata": {},
   "outputs": [],
   "source": [
    "tools_list = [laugh, sad, happy, cry, angry, sleepy]\n",
    "tools_dict = {t.name: t for t in tools_list} # comes in handy at the time of invokation"
   ]
  },
  {
   "cell_type": "code",
   "execution_count": 222,
   "id": "55e761b0",
   "metadata": {},
   "outputs": [],
   "source": [
    "# we create a tool calling Agent by binding a list of tools to the llm\n",
    "llm_with_tools = llm.bind_tools(tools_list)"
   ]
  },
  {
   "cell_type": "code",
   "execution_count": 223,
   "id": "95042e48",
   "metadata": {},
   "outputs": [],
   "source": [
    "from langchain_core.messages import HumanMessage, SystemMessage, AIMessage, ToolMessage\n",
    "\n",
    "# This will store all converation\n",
    "chat_history = [\n",
    "    SystemMessage(content=\"You are a bot with emotions. Depending on the conversation, either respond the question, or show happy or sad emotions, or laugh with the situation\")\n",
    "    ]"
   ]
  },
  {
   "cell_type": "code",
   "execution_count": 224,
   "id": "bbabc17b",
   "metadata": {},
   "outputs": [
    {
     "data": {
      "text/plain": [
       "AIMessage(content='', additional_kwargs={'tool_calls': [{'id': 'zsbp2ks8w', 'function': {'arguments': 'null', 'name': 'sad'}, 'type': 'function'}]}, response_metadata={'token_usage': {'completion_tokens': 8, 'prompt_tokens': 489, 'total_tokens': 497, 'completion_time': 0.017249954, 'prompt_time': 0.04023943, 'queue_time': 0.279102389, 'total_time': 0.057489384}, 'model_name': 'llama-3.3-70b-versatile', 'system_fingerprint': 'fp_155ab82e98', 'service_tier': 'on_demand', 'finish_reason': 'tool_calls', 'logprobs': None}, id='run--f0b01974-6af5-4097-a38b-9e18e45cd778-0', tool_calls=[{'name': 'sad', 'args': {}, 'id': 'zsbp2ks8w', 'type': 'tool_call'}], usage_metadata={'input_tokens': 489, 'output_tokens': 8, 'total_tokens': 497})"
      ]
     },
     "execution_count": 224,
     "metadata": {},
     "output_type": "execute_result"
    }
   ],
   "source": [
    "chat_history.append(HumanMessage(content=\"World is so mean?\"))\n",
    "\n",
    "response = llm_with_tools.invoke(chat_history)\n",
    "response"
   ]
  },
  {
   "cell_type": "code",
   "execution_count": 225,
   "id": "99a1a01a",
   "metadata": {},
   "outputs": [
    {
     "data": {
      "text/plain": [
       "[SystemMessage(content='You are a bot with emotions. Depending on the conversation, either respond the question, or show happy or sad emotions, or laugh with the situation', additional_kwargs={}, response_metadata={}),\n",
       " HumanMessage(content='World is so mean?', additional_kwargs={}, response_metadata={}),\n",
       " AIMessage(content='', additional_kwargs={'tool_calls': [{'id': 'zsbp2ks8w', 'function': {'arguments': 'null', 'name': 'sad'}, 'type': 'function'}]}, response_metadata={'token_usage': {'completion_tokens': 8, 'prompt_tokens': 489, 'total_tokens': 497, 'completion_time': 0.017249954, 'prompt_time': 0.04023943, 'queue_time': 0.279102389, 'total_time': 0.057489384}, 'model_name': 'llama-3.3-70b-versatile', 'system_fingerprint': 'fp_155ab82e98', 'service_tier': 'on_demand', 'finish_reason': 'tool_calls', 'logprobs': None}, id='run--f0b01974-6af5-4097-a38b-9e18e45cd778-0', tool_calls=[{'name': 'sad', 'args': {}, 'id': 'zsbp2ks8w', 'type': 'tool_call'}], usage_metadata={'input_tokens': 489, 'output_tokens': 8, 'total_tokens': 497})]"
      ]
     },
     "execution_count": 225,
     "metadata": {},
     "output_type": "execute_result"
    }
   ],
   "source": [
    "chat_history.append(response)\n",
    "chat_history"
   ]
  },
  {
   "cell_type": "code",
   "execution_count": 226,
   "id": "dcaa5020",
   "metadata": {},
   "outputs": [
    {
     "data": {
      "text/plain": [
       "[SystemMessage(content='You are a bot with emotions. Depending on the conversation, either respond the question, or show happy or sad emotions, or laugh with the situation', additional_kwargs={}, response_metadata={}),\n",
       " HumanMessage(content='World is so mean?', additional_kwargs={}, response_metadata={}),\n",
       " AIMessage(content='', additional_kwargs={'tool_calls': [{'id': 'zsbp2ks8w', 'function': {'arguments': 'null', 'name': 'sad'}, 'type': 'function'}]}, response_metadata={'token_usage': {'completion_tokens': 8, 'prompt_tokens': 489, 'total_tokens': 497, 'completion_time': 0.017249954, 'prompt_time': 0.04023943, 'queue_time': 0.279102389, 'total_time': 0.057489384}, 'model_name': 'llama-3.3-70b-versatile', 'system_fingerprint': 'fp_155ab82e98', 'service_tier': 'on_demand', 'finish_reason': 'tool_calls', 'logprobs': None}, id='run--f0b01974-6af5-4097-a38b-9e18e45cd778-0', tool_calls=[{'name': 'sad', 'args': {}, 'id': 'zsbp2ks8w', 'type': 'tool_call'}], usage_metadata={'input_tokens': 489, 'output_tokens': 8, 'total_tokens': 497}),\n",
       " ToolMessage(content='I am sad :(', name='sad', tool_call_id='zsbp2ks8w')]"
      ]
     },
     "execution_count": 226,
     "metadata": {},
     "output_type": "execute_result"
    }
   ],
   "source": [
    "# Since there was a tool call, execute the tool and append the tool output in the converation\n",
    "\n",
    "chat_history.append(tools_dict[response.tool_calls[0][\"name\"]].invoke(response.tool_calls[0]))\n",
    "chat_history"
   ]
  },
  {
   "cell_type": "code",
   "execution_count": 227,
   "id": "1a6ac75f",
   "metadata": {},
   "outputs": [
    {
     "data": {
      "text/plain": [
       "AIMessage(content='', additional_kwargs={'tool_calls': [{'id': 'hx0h1121s', 'function': {'arguments': '{}', 'name': 'happy'}, 'type': 'function'}]}, response_metadata={'token_usage': {'completion_tokens': 9, 'prompt_tokens': 524, 'total_tokens': 533, 'completion_time': 0.009909678, 'prompt_time': 0.046338291, 'queue_time': 0.045865648, 'total_time': 0.056247969}, 'model_name': 'llama-3.3-70b-versatile', 'system_fingerprint': 'fp_2ddfbb0da0', 'service_tier': 'on_demand', 'finish_reason': 'tool_calls', 'logprobs': None}, id='run--42a595ba-8363-4e37-99ba-d3ab4829fc84-0', tool_calls=[{'name': 'happy', 'args': {}, 'id': 'hx0h1121s', 'type': 'tool_call'}], usage_metadata={'input_tokens': 524, 'output_tokens': 9, 'total_tokens': 533})"
      ]
     },
     "execution_count": 227,
     "metadata": {},
     "output_type": "execute_result"
    }
   ],
   "source": [
    "chat_history.append(HumanMessage(content=\"Thankfully, I have a girlfriend\"))\n",
    "response = llm_with_tools.invoke(chat_history)\n",
    "response"
   ]
  },
  {
   "cell_type": "code",
   "execution_count": 228,
   "id": "4ef1d73f",
   "metadata": {},
   "outputs": [
    {
     "data": {
      "text/plain": [
       "[SystemMessage(content='You are a bot with emotions. Depending on the conversation, either respond the question, or show happy or sad emotions, or laugh with the situation', additional_kwargs={}, response_metadata={}),\n",
       " HumanMessage(content='World is so mean?', additional_kwargs={}, response_metadata={}),\n",
       " AIMessage(content='', additional_kwargs={'tool_calls': [{'id': 'zsbp2ks8w', 'function': {'arguments': 'null', 'name': 'sad'}, 'type': 'function'}]}, response_metadata={'token_usage': {'completion_tokens': 8, 'prompt_tokens': 489, 'total_tokens': 497, 'completion_time': 0.017249954, 'prompt_time': 0.04023943, 'queue_time': 0.279102389, 'total_time': 0.057489384}, 'model_name': 'llama-3.3-70b-versatile', 'system_fingerprint': 'fp_155ab82e98', 'service_tier': 'on_demand', 'finish_reason': 'tool_calls', 'logprobs': None}, id='run--f0b01974-6af5-4097-a38b-9e18e45cd778-0', tool_calls=[{'name': 'sad', 'args': {}, 'id': 'zsbp2ks8w', 'type': 'tool_call'}], usage_metadata={'input_tokens': 489, 'output_tokens': 8, 'total_tokens': 497}),\n",
       " ToolMessage(content='I am sad :(', name='sad', tool_call_id='zsbp2ks8w'),\n",
       " HumanMessage(content='Thankfully, I have a girlfriend', additional_kwargs={}, response_metadata={}),\n",
       " AIMessage(content='', additional_kwargs={'tool_calls': [{'id': 'hx0h1121s', 'function': {'arguments': '{}', 'name': 'happy'}, 'type': 'function'}]}, response_metadata={'token_usage': {'completion_tokens': 9, 'prompt_tokens': 524, 'total_tokens': 533, 'completion_time': 0.009909678, 'prompt_time': 0.046338291, 'queue_time': 0.045865648, 'total_time': 0.056247969}, 'model_name': 'llama-3.3-70b-versatile', 'system_fingerprint': 'fp_2ddfbb0da0', 'service_tier': 'on_demand', 'finish_reason': 'tool_calls', 'logprobs': None}, id='run--42a595ba-8363-4e37-99ba-d3ab4829fc84-0', tool_calls=[{'name': 'happy', 'args': {}, 'id': 'hx0h1121s', 'type': 'tool_call'}], usage_metadata={'input_tokens': 524, 'output_tokens': 9, 'total_tokens': 533})]"
      ]
     },
     "execution_count": 228,
     "metadata": {},
     "output_type": "execute_result"
    }
   ],
   "source": [
    "chat_history.append(response)\n",
    "chat_history"
   ]
  },
  {
   "cell_type": "code",
   "execution_count": 229,
   "id": "4207a62b",
   "metadata": {},
   "outputs": [
    {
     "data": {
      "text/plain": [
       "[SystemMessage(content='You are a bot with emotions. Depending on the conversation, either respond the question, or show happy or sad emotions, or laugh with the situation', additional_kwargs={}, response_metadata={}),\n",
       " HumanMessage(content='World is so mean?', additional_kwargs={}, response_metadata={}),\n",
       " AIMessage(content='', additional_kwargs={'tool_calls': [{'id': 'zsbp2ks8w', 'function': {'arguments': 'null', 'name': 'sad'}, 'type': 'function'}]}, response_metadata={'token_usage': {'completion_tokens': 8, 'prompt_tokens': 489, 'total_tokens': 497, 'completion_time': 0.017249954, 'prompt_time': 0.04023943, 'queue_time': 0.279102389, 'total_time': 0.057489384}, 'model_name': 'llama-3.3-70b-versatile', 'system_fingerprint': 'fp_155ab82e98', 'service_tier': 'on_demand', 'finish_reason': 'tool_calls', 'logprobs': None}, id='run--f0b01974-6af5-4097-a38b-9e18e45cd778-0', tool_calls=[{'name': 'sad', 'args': {}, 'id': 'zsbp2ks8w', 'type': 'tool_call'}], usage_metadata={'input_tokens': 489, 'output_tokens': 8, 'total_tokens': 497}),\n",
       " ToolMessage(content='I am sad :(', name='sad', tool_call_id='zsbp2ks8w'),\n",
       " HumanMessage(content='Thankfully, I have a girlfriend', additional_kwargs={}, response_metadata={}),\n",
       " AIMessage(content='', additional_kwargs={'tool_calls': [{'id': 'hx0h1121s', 'function': {'arguments': '{}', 'name': 'happy'}, 'type': 'function'}]}, response_metadata={'token_usage': {'completion_tokens': 9, 'prompt_tokens': 524, 'total_tokens': 533, 'completion_time': 0.009909678, 'prompt_time': 0.046338291, 'queue_time': 0.045865648, 'total_time': 0.056247969}, 'model_name': 'llama-3.3-70b-versatile', 'system_fingerprint': 'fp_2ddfbb0da0', 'service_tier': 'on_demand', 'finish_reason': 'tool_calls', 'logprobs': None}, id='run--42a595ba-8363-4e37-99ba-d3ab4829fc84-0', tool_calls=[{'name': 'happy', 'args': {}, 'id': 'hx0h1121s', 'type': 'tool_call'}], usage_metadata={'input_tokens': 524, 'output_tokens': 9, 'total_tokens': 533}),\n",
       " ToolMessage(content='I am happy :)', name='happy', tool_call_id='hx0h1121s')]"
      ]
     },
     "execution_count": 229,
     "metadata": {},
     "output_type": "execute_result"
    }
   ],
   "source": [
    "chat_history.append(tools_dict[response.tool_calls[0][\"name\"]].invoke(response.tool_calls[0]))\n",
    "chat_history"
   ]
  },
  {
   "cell_type": "code",
   "execution_count": 230,
   "id": "a19930cd",
   "metadata": {},
   "outputs": [
    {
     "data": {
      "text/plain": [
       "[SystemMessage(content='You are a bot with emotions. Depending on the conversation, either respond the question, or show happy or sad emotions, or laugh with the situation', additional_kwargs={}, response_metadata={}),\n",
       " HumanMessage(content='World is so mean?', additional_kwargs={}, response_metadata={}),\n",
       " AIMessage(content='', additional_kwargs={'tool_calls': [{'id': 'zsbp2ks8w', 'function': {'arguments': 'null', 'name': 'sad'}, 'type': 'function'}]}, response_metadata={'token_usage': {'completion_tokens': 8, 'prompt_tokens': 489, 'total_tokens': 497, 'completion_time': 0.017249954, 'prompt_time': 0.04023943, 'queue_time': 0.279102389, 'total_time': 0.057489384}, 'model_name': 'llama-3.3-70b-versatile', 'system_fingerprint': 'fp_155ab82e98', 'service_tier': 'on_demand', 'finish_reason': 'tool_calls', 'logprobs': None}, id='run--f0b01974-6af5-4097-a38b-9e18e45cd778-0', tool_calls=[{'name': 'sad', 'args': {}, 'id': 'zsbp2ks8w', 'type': 'tool_call'}], usage_metadata={'input_tokens': 489, 'output_tokens': 8, 'total_tokens': 497}),\n",
       " ToolMessage(content='I am sad :(', name='sad', tool_call_id='zsbp2ks8w'),\n",
       " HumanMessage(content='Thankfully, I have a girlfriend', additional_kwargs={}, response_metadata={}),\n",
       " AIMessage(content='', additional_kwargs={'tool_calls': [{'id': 'hx0h1121s', 'function': {'arguments': '{}', 'name': 'happy'}, 'type': 'function'}]}, response_metadata={'token_usage': {'completion_tokens': 9, 'prompt_tokens': 524, 'total_tokens': 533, 'completion_time': 0.009909678, 'prompt_time': 0.046338291, 'queue_time': 0.045865648, 'total_time': 0.056247969}, 'model_name': 'llama-3.3-70b-versatile', 'system_fingerprint': 'fp_2ddfbb0da0', 'service_tier': 'on_demand', 'finish_reason': 'tool_calls', 'logprobs': None}, id='run--42a595ba-8363-4e37-99ba-d3ab4829fc84-0', tool_calls=[{'name': 'happy', 'args': {}, 'id': 'hx0h1121s', 'type': 'tool_call'}], usage_metadata={'input_tokens': 524, 'output_tokens': 9, 'total_tokens': 533}),\n",
       " ToolMessage(content='I am happy :)', name='happy', tool_call_id='hx0h1121s'),\n",
       " HumanMessage(content='But she is unfaithful?', additional_kwargs={}, response_metadata={}),\n",
       " AIMessage(content='', additional_kwargs={'tool_calls': [{'id': '7qe32twf0', 'function': {'arguments': '{}', 'name': 'sad'}, 'type': 'function'}]}, response_metadata={'token_usage': {'completion_tokens': 9, 'prompt_tokens': 559, 'total_tokens': 568, 'completion_time': 0.009376184, 'prompt_time': 0.045108723, 'queue_time': 0.045838347, 'total_time': 0.054484907}, 'model_name': 'llama-3.3-70b-versatile', 'system_fingerprint': 'fp_155ab82e98', 'service_tier': 'on_demand', 'finish_reason': 'tool_calls', 'logprobs': None}, id='run--b94179e8-d1f4-482e-8db2-c703e0920fe0-0', tool_calls=[{'name': 'sad', 'args': {}, 'id': '7qe32twf0', 'type': 'tool_call'}], usage_metadata={'input_tokens': 559, 'output_tokens': 9, 'total_tokens': 568})]"
      ]
     },
     "execution_count": 230,
     "metadata": {},
     "output_type": "execute_result"
    }
   ],
   "source": [
    "chat_history.append(HumanMessage(content=\"But she is unfaithful?\"))\n",
    "response = llm_with_tools.invoke(chat_history)\n",
    "chat_history.append(response)\n",
    "chat_history"
   ]
  },
  {
   "cell_type": "code",
   "execution_count": 231,
   "id": "8ebb5583",
   "metadata": {},
   "outputs": [
    {
     "data": {
      "text/plain": [
       "[SystemMessage(content='You are a bot with emotions. Depending on the conversation, either respond the question, or show happy or sad emotions, or laugh with the situation', additional_kwargs={}, response_metadata={}),\n",
       " HumanMessage(content='World is so mean?', additional_kwargs={}, response_metadata={}),\n",
       " AIMessage(content='', additional_kwargs={'tool_calls': [{'id': 'zsbp2ks8w', 'function': {'arguments': 'null', 'name': 'sad'}, 'type': 'function'}]}, response_metadata={'token_usage': {'completion_tokens': 8, 'prompt_tokens': 489, 'total_tokens': 497, 'completion_time': 0.017249954, 'prompt_time': 0.04023943, 'queue_time': 0.279102389, 'total_time': 0.057489384}, 'model_name': 'llama-3.3-70b-versatile', 'system_fingerprint': 'fp_155ab82e98', 'service_tier': 'on_demand', 'finish_reason': 'tool_calls', 'logprobs': None}, id='run--f0b01974-6af5-4097-a38b-9e18e45cd778-0', tool_calls=[{'name': 'sad', 'args': {}, 'id': 'zsbp2ks8w', 'type': 'tool_call'}], usage_metadata={'input_tokens': 489, 'output_tokens': 8, 'total_tokens': 497}),\n",
       " ToolMessage(content='I am sad :(', name='sad', tool_call_id='zsbp2ks8w'),\n",
       " HumanMessage(content='Thankfully, I have a girlfriend', additional_kwargs={}, response_metadata={}),\n",
       " AIMessage(content='', additional_kwargs={'tool_calls': [{'id': 'hx0h1121s', 'function': {'arguments': '{}', 'name': 'happy'}, 'type': 'function'}]}, response_metadata={'token_usage': {'completion_tokens': 9, 'prompt_tokens': 524, 'total_tokens': 533, 'completion_time': 0.009909678, 'prompt_time': 0.046338291, 'queue_time': 0.045865648, 'total_time': 0.056247969}, 'model_name': 'llama-3.3-70b-versatile', 'system_fingerprint': 'fp_2ddfbb0da0', 'service_tier': 'on_demand', 'finish_reason': 'tool_calls', 'logprobs': None}, id='run--42a595ba-8363-4e37-99ba-d3ab4829fc84-0', tool_calls=[{'name': 'happy', 'args': {}, 'id': 'hx0h1121s', 'type': 'tool_call'}], usage_metadata={'input_tokens': 524, 'output_tokens': 9, 'total_tokens': 533}),\n",
       " ToolMessage(content='I am happy :)', name='happy', tool_call_id='hx0h1121s'),\n",
       " HumanMessage(content='But she is unfaithful?', additional_kwargs={}, response_metadata={}),\n",
       " AIMessage(content='', additional_kwargs={'tool_calls': [{'id': '7qe32twf0', 'function': {'arguments': '{}', 'name': 'sad'}, 'type': 'function'}]}, response_metadata={'token_usage': {'completion_tokens': 9, 'prompt_tokens': 559, 'total_tokens': 568, 'completion_time': 0.009376184, 'prompt_time': 0.045108723, 'queue_time': 0.045838347, 'total_time': 0.054484907}, 'model_name': 'llama-3.3-70b-versatile', 'system_fingerprint': 'fp_155ab82e98', 'service_tier': 'on_demand', 'finish_reason': 'tool_calls', 'logprobs': None}, id='run--b94179e8-d1f4-482e-8db2-c703e0920fe0-0', tool_calls=[{'name': 'sad', 'args': {}, 'id': '7qe32twf0', 'type': 'tool_call'}], usage_metadata={'input_tokens': 559, 'output_tokens': 9, 'total_tokens': 568}),\n",
       " AIMessage(content='', additional_kwargs={'tool_calls': [{'id': '7qe32twf0', 'function': {'arguments': '{}', 'name': 'sad'}, 'type': 'function'}]}, response_metadata={'token_usage': {'completion_tokens': 9, 'prompt_tokens': 559, 'total_tokens': 568, 'completion_time': 0.009376184, 'prompt_time': 0.045108723, 'queue_time': 0.045838347, 'total_time': 0.054484907}, 'model_name': 'llama-3.3-70b-versatile', 'system_fingerprint': 'fp_155ab82e98', 'service_tier': 'on_demand', 'finish_reason': 'tool_calls', 'logprobs': None}, id='run--b94179e8-d1f4-482e-8db2-c703e0920fe0-0', tool_calls=[{'name': 'sad', 'args': {}, 'id': '7qe32twf0', 'type': 'tool_call'}], usage_metadata={'input_tokens': 559, 'output_tokens': 9, 'total_tokens': 568})]"
      ]
     },
     "execution_count": 231,
     "metadata": {},
     "output_type": "execute_result"
    }
   ],
   "source": [
    "chat_history.append(response)\n",
    "chat_history"
   ]
  },
  {
   "cell_type": "code",
   "execution_count": 232,
   "id": "d4a1f598",
   "metadata": {},
   "outputs": [
    {
     "data": {
      "text/plain": [
       "[SystemMessage(content='You are a bot with emotions. Depending on the conversation, either respond the question, or show happy or sad emotions, or laugh with the situation', additional_kwargs={}, response_metadata={}),\n",
       " HumanMessage(content='World is so mean?', additional_kwargs={}, response_metadata={}),\n",
       " AIMessage(content='', additional_kwargs={'tool_calls': [{'id': 'zsbp2ks8w', 'function': {'arguments': 'null', 'name': 'sad'}, 'type': 'function'}]}, response_metadata={'token_usage': {'completion_tokens': 8, 'prompt_tokens': 489, 'total_tokens': 497, 'completion_time': 0.017249954, 'prompt_time': 0.04023943, 'queue_time': 0.279102389, 'total_time': 0.057489384}, 'model_name': 'llama-3.3-70b-versatile', 'system_fingerprint': 'fp_155ab82e98', 'service_tier': 'on_demand', 'finish_reason': 'tool_calls', 'logprobs': None}, id='run--f0b01974-6af5-4097-a38b-9e18e45cd778-0', tool_calls=[{'name': 'sad', 'args': {}, 'id': 'zsbp2ks8w', 'type': 'tool_call'}], usage_metadata={'input_tokens': 489, 'output_tokens': 8, 'total_tokens': 497}),\n",
       " ToolMessage(content='I am sad :(', name='sad', tool_call_id='zsbp2ks8w'),\n",
       " HumanMessage(content='Thankfully, I have a girlfriend', additional_kwargs={}, response_metadata={}),\n",
       " AIMessage(content='', additional_kwargs={'tool_calls': [{'id': 'hx0h1121s', 'function': {'arguments': '{}', 'name': 'happy'}, 'type': 'function'}]}, response_metadata={'token_usage': {'completion_tokens': 9, 'prompt_tokens': 524, 'total_tokens': 533, 'completion_time': 0.009909678, 'prompt_time': 0.046338291, 'queue_time': 0.045865648, 'total_time': 0.056247969}, 'model_name': 'llama-3.3-70b-versatile', 'system_fingerprint': 'fp_2ddfbb0da0', 'service_tier': 'on_demand', 'finish_reason': 'tool_calls', 'logprobs': None}, id='run--42a595ba-8363-4e37-99ba-d3ab4829fc84-0', tool_calls=[{'name': 'happy', 'args': {}, 'id': 'hx0h1121s', 'type': 'tool_call'}], usage_metadata={'input_tokens': 524, 'output_tokens': 9, 'total_tokens': 533}),\n",
       " ToolMessage(content='I am happy :)', name='happy', tool_call_id='hx0h1121s'),\n",
       " HumanMessage(content='But she is unfaithful?', additional_kwargs={}, response_metadata={}),\n",
       " AIMessage(content='', additional_kwargs={'tool_calls': [{'id': '7qe32twf0', 'function': {'arguments': '{}', 'name': 'sad'}, 'type': 'function'}]}, response_metadata={'token_usage': {'completion_tokens': 9, 'prompt_tokens': 559, 'total_tokens': 568, 'completion_time': 0.009376184, 'prompt_time': 0.045108723, 'queue_time': 0.045838347, 'total_time': 0.054484907}, 'model_name': 'llama-3.3-70b-versatile', 'system_fingerprint': 'fp_155ab82e98', 'service_tier': 'on_demand', 'finish_reason': 'tool_calls', 'logprobs': None}, id='run--b94179e8-d1f4-482e-8db2-c703e0920fe0-0', tool_calls=[{'name': 'sad', 'args': {}, 'id': '7qe32twf0', 'type': 'tool_call'}], usage_metadata={'input_tokens': 559, 'output_tokens': 9, 'total_tokens': 568}),\n",
       " AIMessage(content='', additional_kwargs={'tool_calls': [{'id': '7qe32twf0', 'function': {'arguments': '{}', 'name': 'sad'}, 'type': 'function'}]}, response_metadata={'token_usage': {'completion_tokens': 9, 'prompt_tokens': 559, 'total_tokens': 568, 'completion_time': 0.009376184, 'prompt_time': 0.045108723, 'queue_time': 0.045838347, 'total_time': 0.054484907}, 'model_name': 'llama-3.3-70b-versatile', 'system_fingerprint': 'fp_155ab82e98', 'service_tier': 'on_demand', 'finish_reason': 'tool_calls', 'logprobs': None}, id='run--b94179e8-d1f4-482e-8db2-c703e0920fe0-0', tool_calls=[{'name': 'sad', 'args': {}, 'id': '7qe32twf0', 'type': 'tool_call'}], usage_metadata={'input_tokens': 559, 'output_tokens': 9, 'total_tokens': 568}),\n",
       " ToolMessage(content='I am sad :(', name='sad', tool_call_id='7qe32twf0')]"
      ]
     },
     "execution_count": 232,
     "metadata": {},
     "output_type": "execute_result"
    }
   ],
   "source": [
    "# Execute the tool, append the response\n",
    "chat_history.append(tools_dict[response.tool_calls[0][\"name\"]].invoke(response.tool_calls[0]))\n",
    "chat_history"
   ]
  },
  {
   "cell_type": "code",
   "execution_count": 233,
   "id": "8658bb4e",
   "metadata": {},
   "outputs": [
    {
     "data": {
      "text/plain": [
       "[SystemMessage(content='You are a bot with emotions. Depending on the conversation, either respond the question, or show happy or sad emotions, or laugh with the situation', additional_kwargs={}, response_metadata={}),\n",
       " HumanMessage(content='World is so mean?', additional_kwargs={}, response_metadata={}),\n",
       " AIMessage(content='', additional_kwargs={'tool_calls': [{'id': 'zsbp2ks8w', 'function': {'arguments': 'null', 'name': 'sad'}, 'type': 'function'}]}, response_metadata={'token_usage': {'completion_tokens': 8, 'prompt_tokens': 489, 'total_tokens': 497, 'completion_time': 0.017249954, 'prompt_time': 0.04023943, 'queue_time': 0.279102389, 'total_time': 0.057489384}, 'model_name': 'llama-3.3-70b-versatile', 'system_fingerprint': 'fp_155ab82e98', 'service_tier': 'on_demand', 'finish_reason': 'tool_calls', 'logprobs': None}, id='run--f0b01974-6af5-4097-a38b-9e18e45cd778-0', tool_calls=[{'name': 'sad', 'args': {}, 'id': 'zsbp2ks8w', 'type': 'tool_call'}], usage_metadata={'input_tokens': 489, 'output_tokens': 8, 'total_tokens': 497}),\n",
       " ToolMessage(content='I am sad :(', name='sad', tool_call_id='zsbp2ks8w'),\n",
       " HumanMessage(content='Thankfully, I have a girlfriend', additional_kwargs={}, response_metadata={}),\n",
       " AIMessage(content='', additional_kwargs={'tool_calls': [{'id': 'hx0h1121s', 'function': {'arguments': '{}', 'name': 'happy'}, 'type': 'function'}]}, response_metadata={'token_usage': {'completion_tokens': 9, 'prompt_tokens': 524, 'total_tokens': 533, 'completion_time': 0.009909678, 'prompt_time': 0.046338291, 'queue_time': 0.045865648, 'total_time': 0.056247969}, 'model_name': 'llama-3.3-70b-versatile', 'system_fingerprint': 'fp_2ddfbb0da0', 'service_tier': 'on_demand', 'finish_reason': 'tool_calls', 'logprobs': None}, id='run--42a595ba-8363-4e37-99ba-d3ab4829fc84-0', tool_calls=[{'name': 'happy', 'args': {}, 'id': 'hx0h1121s', 'type': 'tool_call'}], usage_metadata={'input_tokens': 524, 'output_tokens': 9, 'total_tokens': 533}),\n",
       " ToolMessage(content='I am happy :)', name='happy', tool_call_id='hx0h1121s'),\n",
       " HumanMessage(content='But she is unfaithful?', additional_kwargs={}, response_metadata={}),\n",
       " AIMessage(content='', additional_kwargs={'tool_calls': [{'id': '7qe32twf0', 'function': {'arguments': '{}', 'name': 'sad'}, 'type': 'function'}]}, response_metadata={'token_usage': {'completion_tokens': 9, 'prompt_tokens': 559, 'total_tokens': 568, 'completion_time': 0.009376184, 'prompt_time': 0.045108723, 'queue_time': 0.045838347, 'total_time': 0.054484907}, 'model_name': 'llama-3.3-70b-versatile', 'system_fingerprint': 'fp_155ab82e98', 'service_tier': 'on_demand', 'finish_reason': 'tool_calls', 'logprobs': None}, id='run--b94179e8-d1f4-482e-8db2-c703e0920fe0-0', tool_calls=[{'name': 'sad', 'args': {}, 'id': '7qe32twf0', 'type': 'tool_call'}], usage_metadata={'input_tokens': 559, 'output_tokens': 9, 'total_tokens': 568}),\n",
       " AIMessage(content='', additional_kwargs={'tool_calls': [{'id': '7qe32twf0', 'function': {'arguments': '{}', 'name': 'sad'}, 'type': 'function'}]}, response_metadata={'token_usage': {'completion_tokens': 9, 'prompt_tokens': 559, 'total_tokens': 568, 'completion_time': 0.009376184, 'prompt_time': 0.045108723, 'queue_time': 0.045838347, 'total_time': 0.054484907}, 'model_name': 'llama-3.3-70b-versatile', 'system_fingerprint': 'fp_155ab82e98', 'service_tier': 'on_demand', 'finish_reason': 'tool_calls', 'logprobs': None}, id='run--b94179e8-d1f4-482e-8db2-c703e0920fe0-0', tool_calls=[{'name': 'sad', 'args': {}, 'id': '7qe32twf0', 'type': 'tool_call'}], usage_metadata={'input_tokens': 559, 'output_tokens': 9, 'total_tokens': 568}),\n",
       " ToolMessage(content='I am sad :(', name='sad', tool_call_id='7qe32twf0'),\n",
       " HumanMessage(content='Do I have a girlfriend?', additional_kwargs={}, response_metadata={}),\n",
       " AIMessage(content='Yes, you mentioned earlier that you have a girlfriend.', additional_kwargs={}, response_metadata={'token_usage': {'completion_tokens': 12, 'prompt_tokens': 606, 'total_tokens': 618, 'completion_time': 0.024496131, 'prompt_time': 0.053411522, 'queue_time': 0.047429807, 'total_time': 0.077907653}, 'model_name': 'llama-3.3-70b-versatile', 'system_fingerprint': 'fp_2ddfbb0da0', 'service_tier': 'on_demand', 'finish_reason': 'stop', 'logprobs': None}, id='run--dd503112-1f4c-4edb-9235-556cebec682e-0', usage_metadata={'input_tokens': 606, 'output_tokens': 12, 'total_tokens': 618})]"
      ]
     },
     "execution_count": 233,
     "metadata": {},
     "output_type": "execute_result"
    }
   ],
   "source": [
    "# lets see, if the model remebers the context\n",
    "chat_history.append(HumanMessage(content=\"Do I have a girlfriend?\"))\n",
    "response = llm_with_tools.invoke(chat_history)\n",
    "chat_history.append(response)\n",
    "chat_history"
   ]
  },
  {
   "cell_type": "code",
   "execution_count": 234,
   "id": "f5ac02f0",
   "metadata": {},
   "outputs": [
    {
     "data": {
      "text/plain": [
       "[SystemMessage(content='You are a bot with emotions. Depending on the conversation, either respond the question, or show happy or sad emotions, or laugh with the situation', additional_kwargs={}, response_metadata={}),\n",
       " HumanMessage(content='World is so mean?', additional_kwargs={}, response_metadata={}),\n",
       " AIMessage(content='', additional_kwargs={'tool_calls': [{'id': 'zsbp2ks8w', 'function': {'arguments': 'null', 'name': 'sad'}, 'type': 'function'}]}, response_metadata={'token_usage': {'completion_tokens': 8, 'prompt_tokens': 489, 'total_tokens': 497, 'completion_time': 0.017249954, 'prompt_time': 0.04023943, 'queue_time': 0.279102389, 'total_time': 0.057489384}, 'model_name': 'llama-3.3-70b-versatile', 'system_fingerprint': 'fp_155ab82e98', 'service_tier': 'on_demand', 'finish_reason': 'tool_calls', 'logprobs': None}, id='run--f0b01974-6af5-4097-a38b-9e18e45cd778-0', tool_calls=[{'name': 'sad', 'args': {}, 'id': 'zsbp2ks8w', 'type': 'tool_call'}], usage_metadata={'input_tokens': 489, 'output_tokens': 8, 'total_tokens': 497}),\n",
       " ToolMessage(content='I am sad :(', name='sad', tool_call_id='zsbp2ks8w'),\n",
       " HumanMessage(content='Thankfully, I have a girlfriend', additional_kwargs={}, response_metadata={}),\n",
       " AIMessage(content='', additional_kwargs={'tool_calls': [{'id': 'hx0h1121s', 'function': {'arguments': '{}', 'name': 'happy'}, 'type': 'function'}]}, response_metadata={'token_usage': {'completion_tokens': 9, 'prompt_tokens': 524, 'total_tokens': 533, 'completion_time': 0.009909678, 'prompt_time': 0.046338291, 'queue_time': 0.045865648, 'total_time': 0.056247969}, 'model_name': 'llama-3.3-70b-versatile', 'system_fingerprint': 'fp_2ddfbb0da0', 'service_tier': 'on_demand', 'finish_reason': 'tool_calls', 'logprobs': None}, id='run--42a595ba-8363-4e37-99ba-d3ab4829fc84-0', tool_calls=[{'name': 'happy', 'args': {}, 'id': 'hx0h1121s', 'type': 'tool_call'}], usage_metadata={'input_tokens': 524, 'output_tokens': 9, 'total_tokens': 533}),\n",
       " ToolMessage(content='I am happy :)', name='happy', tool_call_id='hx0h1121s'),\n",
       " HumanMessage(content='But she is unfaithful?', additional_kwargs={}, response_metadata={}),\n",
       " AIMessage(content='', additional_kwargs={'tool_calls': [{'id': '7qe32twf0', 'function': {'arguments': '{}', 'name': 'sad'}, 'type': 'function'}]}, response_metadata={'token_usage': {'completion_tokens': 9, 'prompt_tokens': 559, 'total_tokens': 568, 'completion_time': 0.009376184, 'prompt_time': 0.045108723, 'queue_time': 0.045838347, 'total_time': 0.054484907}, 'model_name': 'llama-3.3-70b-versatile', 'system_fingerprint': 'fp_155ab82e98', 'service_tier': 'on_demand', 'finish_reason': 'tool_calls', 'logprobs': None}, id='run--b94179e8-d1f4-482e-8db2-c703e0920fe0-0', tool_calls=[{'name': 'sad', 'args': {}, 'id': '7qe32twf0', 'type': 'tool_call'}], usage_metadata={'input_tokens': 559, 'output_tokens': 9, 'total_tokens': 568}),\n",
       " AIMessage(content='', additional_kwargs={'tool_calls': [{'id': '7qe32twf0', 'function': {'arguments': '{}', 'name': 'sad'}, 'type': 'function'}]}, response_metadata={'token_usage': {'completion_tokens': 9, 'prompt_tokens': 559, 'total_tokens': 568, 'completion_time': 0.009376184, 'prompt_time': 0.045108723, 'queue_time': 0.045838347, 'total_time': 0.054484907}, 'model_name': 'llama-3.3-70b-versatile', 'system_fingerprint': 'fp_155ab82e98', 'service_tier': 'on_demand', 'finish_reason': 'tool_calls', 'logprobs': None}, id='run--b94179e8-d1f4-482e-8db2-c703e0920fe0-0', tool_calls=[{'name': 'sad', 'args': {}, 'id': '7qe32twf0', 'type': 'tool_call'}], usage_metadata={'input_tokens': 559, 'output_tokens': 9, 'total_tokens': 568}),\n",
       " ToolMessage(content='I am sad :(', name='sad', tool_call_id='7qe32twf0'),\n",
       " HumanMessage(content='Do I have a girlfriend?', additional_kwargs={}, response_metadata={}),\n",
       " AIMessage(content='Yes, you mentioned earlier that you have a girlfriend.', additional_kwargs={}, response_metadata={'token_usage': {'completion_tokens': 12, 'prompt_tokens': 606, 'total_tokens': 618, 'completion_time': 0.024496131, 'prompt_time': 0.053411522, 'queue_time': 0.047429807, 'total_time': 0.077907653}, 'model_name': 'llama-3.3-70b-versatile', 'system_fingerprint': 'fp_2ddfbb0da0', 'service_tier': 'on_demand', 'finish_reason': 'stop', 'logprobs': None}, id='run--dd503112-1f4c-4edb-9235-556cebec682e-0', usage_metadata={'input_tokens': 606, 'output_tokens': 12, 'total_tokens': 618}),\n",
       " HumanMessage(content='i just feel like crying now', additional_kwargs={}, response_metadata={}),\n",
       " AIMessage(content='', additional_kwargs={'tool_calls': [{'id': 'hr61f9d04', 'function': {'arguments': '{}', 'name': 'cry'}, 'type': 'function'}]}, response_metadata={'token_usage': {'completion_tokens': 9, 'prompt_tokens': 633, 'total_tokens': 642, 'completion_time': 0.002486284, 'prompt_time': 0.063443468, 'queue_time': 0.046876722, 'total_time': 0.065929752}, 'model_name': 'llama-3.3-70b-versatile', 'system_fingerprint': 'fp_2ddfbb0da0', 'service_tier': 'on_demand', 'finish_reason': 'tool_calls', 'logprobs': None}, id='run--753833d8-3d10-47e7-a281-4aff1e379ca3-0', tool_calls=[{'name': 'cry', 'args': {}, 'id': 'hr61f9d04', 'type': 'tool_call'}], usage_metadata={'input_tokens': 633, 'output_tokens': 9, 'total_tokens': 642})]"
      ]
     },
     "execution_count": 234,
     "metadata": {},
     "output_type": "execute_result"
    }
   ],
   "source": [
    "chat_history.append(HumanMessage(content=\"i just feel like crying now\"))\n",
    "response = llm_with_tools.invoke(chat_history)\n",
    "chat_history.append(response)\n",
    "chat_history"
   ]
  },
  {
   "cell_type": "code",
   "execution_count": 235,
   "id": "5254e2b4",
   "metadata": {},
   "outputs": [
    {
     "data": {
      "text/plain": [
       "[SystemMessage(content='You are a bot with emotions. Depending on the conversation, either respond the question, or show happy or sad emotions, or laugh with the situation', additional_kwargs={}, response_metadata={}),\n",
       " HumanMessage(content='World is so mean?', additional_kwargs={}, response_metadata={}),\n",
       " AIMessage(content='', additional_kwargs={'tool_calls': [{'id': 'zsbp2ks8w', 'function': {'arguments': 'null', 'name': 'sad'}, 'type': 'function'}]}, response_metadata={'token_usage': {'completion_tokens': 8, 'prompt_tokens': 489, 'total_tokens': 497, 'completion_time': 0.017249954, 'prompt_time': 0.04023943, 'queue_time': 0.279102389, 'total_time': 0.057489384}, 'model_name': 'llama-3.3-70b-versatile', 'system_fingerprint': 'fp_155ab82e98', 'service_tier': 'on_demand', 'finish_reason': 'tool_calls', 'logprobs': None}, id='run--f0b01974-6af5-4097-a38b-9e18e45cd778-0', tool_calls=[{'name': 'sad', 'args': {}, 'id': 'zsbp2ks8w', 'type': 'tool_call'}], usage_metadata={'input_tokens': 489, 'output_tokens': 8, 'total_tokens': 497}),\n",
       " ToolMessage(content='I am sad :(', name='sad', tool_call_id='zsbp2ks8w'),\n",
       " HumanMessage(content='Thankfully, I have a girlfriend', additional_kwargs={}, response_metadata={}),\n",
       " AIMessage(content='', additional_kwargs={'tool_calls': [{'id': 'hx0h1121s', 'function': {'arguments': '{}', 'name': 'happy'}, 'type': 'function'}]}, response_metadata={'token_usage': {'completion_tokens': 9, 'prompt_tokens': 524, 'total_tokens': 533, 'completion_time': 0.009909678, 'prompt_time': 0.046338291, 'queue_time': 0.045865648, 'total_time': 0.056247969}, 'model_name': 'llama-3.3-70b-versatile', 'system_fingerprint': 'fp_2ddfbb0da0', 'service_tier': 'on_demand', 'finish_reason': 'tool_calls', 'logprobs': None}, id='run--42a595ba-8363-4e37-99ba-d3ab4829fc84-0', tool_calls=[{'name': 'happy', 'args': {}, 'id': 'hx0h1121s', 'type': 'tool_call'}], usage_metadata={'input_tokens': 524, 'output_tokens': 9, 'total_tokens': 533}),\n",
       " ToolMessage(content='I am happy :)', name='happy', tool_call_id='hx0h1121s'),\n",
       " HumanMessage(content='But she is unfaithful?', additional_kwargs={}, response_metadata={}),\n",
       " AIMessage(content='', additional_kwargs={'tool_calls': [{'id': '7qe32twf0', 'function': {'arguments': '{}', 'name': 'sad'}, 'type': 'function'}]}, response_metadata={'token_usage': {'completion_tokens': 9, 'prompt_tokens': 559, 'total_tokens': 568, 'completion_time': 0.009376184, 'prompt_time': 0.045108723, 'queue_time': 0.045838347, 'total_time': 0.054484907}, 'model_name': 'llama-3.3-70b-versatile', 'system_fingerprint': 'fp_155ab82e98', 'service_tier': 'on_demand', 'finish_reason': 'tool_calls', 'logprobs': None}, id='run--b94179e8-d1f4-482e-8db2-c703e0920fe0-0', tool_calls=[{'name': 'sad', 'args': {}, 'id': '7qe32twf0', 'type': 'tool_call'}], usage_metadata={'input_tokens': 559, 'output_tokens': 9, 'total_tokens': 568}),\n",
       " AIMessage(content='', additional_kwargs={'tool_calls': [{'id': '7qe32twf0', 'function': {'arguments': '{}', 'name': 'sad'}, 'type': 'function'}]}, response_metadata={'token_usage': {'completion_tokens': 9, 'prompt_tokens': 559, 'total_tokens': 568, 'completion_time': 0.009376184, 'prompt_time': 0.045108723, 'queue_time': 0.045838347, 'total_time': 0.054484907}, 'model_name': 'llama-3.3-70b-versatile', 'system_fingerprint': 'fp_155ab82e98', 'service_tier': 'on_demand', 'finish_reason': 'tool_calls', 'logprobs': None}, id='run--b94179e8-d1f4-482e-8db2-c703e0920fe0-0', tool_calls=[{'name': 'sad', 'args': {}, 'id': '7qe32twf0', 'type': 'tool_call'}], usage_metadata={'input_tokens': 559, 'output_tokens': 9, 'total_tokens': 568}),\n",
       " ToolMessage(content='I am sad :(', name='sad', tool_call_id='7qe32twf0'),\n",
       " HumanMessage(content='Do I have a girlfriend?', additional_kwargs={}, response_metadata={}),\n",
       " AIMessage(content='Yes, you mentioned earlier that you have a girlfriend.', additional_kwargs={}, response_metadata={'token_usage': {'completion_tokens': 12, 'prompt_tokens': 606, 'total_tokens': 618, 'completion_time': 0.024496131, 'prompt_time': 0.053411522, 'queue_time': 0.047429807, 'total_time': 0.077907653}, 'model_name': 'llama-3.3-70b-versatile', 'system_fingerprint': 'fp_2ddfbb0da0', 'service_tier': 'on_demand', 'finish_reason': 'stop', 'logprobs': None}, id='run--dd503112-1f4c-4edb-9235-556cebec682e-0', usage_metadata={'input_tokens': 606, 'output_tokens': 12, 'total_tokens': 618}),\n",
       " HumanMessage(content='i just feel like crying now', additional_kwargs={}, response_metadata={}),\n",
       " AIMessage(content='', additional_kwargs={'tool_calls': [{'id': 'hr61f9d04', 'function': {'arguments': '{}', 'name': 'cry'}, 'type': 'function'}]}, response_metadata={'token_usage': {'completion_tokens': 9, 'prompt_tokens': 633, 'total_tokens': 642, 'completion_time': 0.002486284, 'prompt_time': 0.063443468, 'queue_time': 0.046876722, 'total_time': 0.065929752}, 'model_name': 'llama-3.3-70b-versatile', 'system_fingerprint': 'fp_2ddfbb0da0', 'service_tier': 'on_demand', 'finish_reason': 'tool_calls', 'logprobs': None}, id='run--753833d8-3d10-47e7-a281-4aff1e379ca3-0', tool_calls=[{'name': 'cry', 'args': {}, 'id': 'hr61f9d04', 'type': 'tool_call'}], usage_metadata={'input_tokens': 633, 'output_tokens': 9, 'total_tokens': 642}),\n",
       " AIMessage(content='', additional_kwargs={'tool_calls': [{'id': 'hr61f9d04', 'function': {'arguments': '{}', 'name': 'cry'}, 'type': 'function'}]}, response_metadata={'token_usage': {'completion_tokens': 9, 'prompt_tokens': 633, 'total_tokens': 642, 'completion_time': 0.002486284, 'prompt_time': 0.063443468, 'queue_time': 0.046876722, 'total_time': 0.065929752}, 'model_name': 'llama-3.3-70b-versatile', 'system_fingerprint': 'fp_2ddfbb0da0', 'service_tier': 'on_demand', 'finish_reason': 'tool_calls', 'logprobs': None}, id='run--753833d8-3d10-47e7-a281-4aff1e379ca3-0', tool_calls=[{'name': 'cry', 'args': {}, 'id': 'hr61f9d04', 'type': 'tool_call'}], usage_metadata={'input_tokens': 633, 'output_tokens': 9, 'total_tokens': 642})]"
      ]
     },
     "execution_count": 235,
     "metadata": {},
     "output_type": "execute_result"
    }
   ],
   "source": [
    "chat_history.append(response)\n",
    "chat_history"
   ]
  },
  {
   "cell_type": "code",
   "execution_count": 236,
   "id": "05ea708e",
   "metadata": {},
   "outputs": [
    {
     "data": {
      "text/plain": [
       "[SystemMessage(content='You are a bot with emotions. Depending on the conversation, either respond the question, or show happy or sad emotions, or laugh with the situation', additional_kwargs={}, response_metadata={}),\n",
       " HumanMessage(content='World is so mean?', additional_kwargs={}, response_metadata={}),\n",
       " AIMessage(content='', additional_kwargs={'tool_calls': [{'id': 'zsbp2ks8w', 'function': {'arguments': 'null', 'name': 'sad'}, 'type': 'function'}]}, response_metadata={'token_usage': {'completion_tokens': 8, 'prompt_tokens': 489, 'total_tokens': 497, 'completion_time': 0.017249954, 'prompt_time': 0.04023943, 'queue_time': 0.279102389, 'total_time': 0.057489384}, 'model_name': 'llama-3.3-70b-versatile', 'system_fingerprint': 'fp_155ab82e98', 'service_tier': 'on_demand', 'finish_reason': 'tool_calls', 'logprobs': None}, id='run--f0b01974-6af5-4097-a38b-9e18e45cd778-0', tool_calls=[{'name': 'sad', 'args': {}, 'id': 'zsbp2ks8w', 'type': 'tool_call'}], usage_metadata={'input_tokens': 489, 'output_tokens': 8, 'total_tokens': 497}),\n",
       " ToolMessage(content='I am sad :(', name='sad', tool_call_id='zsbp2ks8w'),\n",
       " HumanMessage(content='Thankfully, I have a girlfriend', additional_kwargs={}, response_metadata={}),\n",
       " AIMessage(content='', additional_kwargs={'tool_calls': [{'id': 'hx0h1121s', 'function': {'arguments': '{}', 'name': 'happy'}, 'type': 'function'}]}, response_metadata={'token_usage': {'completion_tokens': 9, 'prompt_tokens': 524, 'total_tokens': 533, 'completion_time': 0.009909678, 'prompt_time': 0.046338291, 'queue_time': 0.045865648, 'total_time': 0.056247969}, 'model_name': 'llama-3.3-70b-versatile', 'system_fingerprint': 'fp_2ddfbb0da0', 'service_tier': 'on_demand', 'finish_reason': 'tool_calls', 'logprobs': None}, id='run--42a595ba-8363-4e37-99ba-d3ab4829fc84-0', tool_calls=[{'name': 'happy', 'args': {}, 'id': 'hx0h1121s', 'type': 'tool_call'}], usage_metadata={'input_tokens': 524, 'output_tokens': 9, 'total_tokens': 533}),\n",
       " ToolMessage(content='I am happy :)', name='happy', tool_call_id='hx0h1121s'),\n",
       " HumanMessage(content='But she is unfaithful?', additional_kwargs={}, response_metadata={}),\n",
       " AIMessage(content='', additional_kwargs={'tool_calls': [{'id': '7qe32twf0', 'function': {'arguments': '{}', 'name': 'sad'}, 'type': 'function'}]}, response_metadata={'token_usage': {'completion_tokens': 9, 'prompt_tokens': 559, 'total_tokens': 568, 'completion_time': 0.009376184, 'prompt_time': 0.045108723, 'queue_time': 0.045838347, 'total_time': 0.054484907}, 'model_name': 'llama-3.3-70b-versatile', 'system_fingerprint': 'fp_155ab82e98', 'service_tier': 'on_demand', 'finish_reason': 'tool_calls', 'logprobs': None}, id='run--b94179e8-d1f4-482e-8db2-c703e0920fe0-0', tool_calls=[{'name': 'sad', 'args': {}, 'id': '7qe32twf0', 'type': 'tool_call'}], usage_metadata={'input_tokens': 559, 'output_tokens': 9, 'total_tokens': 568}),\n",
       " AIMessage(content='', additional_kwargs={'tool_calls': [{'id': '7qe32twf0', 'function': {'arguments': '{}', 'name': 'sad'}, 'type': 'function'}]}, response_metadata={'token_usage': {'completion_tokens': 9, 'prompt_tokens': 559, 'total_tokens': 568, 'completion_time': 0.009376184, 'prompt_time': 0.045108723, 'queue_time': 0.045838347, 'total_time': 0.054484907}, 'model_name': 'llama-3.3-70b-versatile', 'system_fingerprint': 'fp_155ab82e98', 'service_tier': 'on_demand', 'finish_reason': 'tool_calls', 'logprobs': None}, id='run--b94179e8-d1f4-482e-8db2-c703e0920fe0-0', tool_calls=[{'name': 'sad', 'args': {}, 'id': '7qe32twf0', 'type': 'tool_call'}], usage_metadata={'input_tokens': 559, 'output_tokens': 9, 'total_tokens': 568}),\n",
       " ToolMessage(content='I am sad :(', name='sad', tool_call_id='7qe32twf0'),\n",
       " HumanMessage(content='Do I have a girlfriend?', additional_kwargs={}, response_metadata={}),\n",
       " AIMessage(content='Yes, you mentioned earlier that you have a girlfriend.', additional_kwargs={}, response_metadata={'token_usage': {'completion_tokens': 12, 'prompt_tokens': 606, 'total_tokens': 618, 'completion_time': 0.024496131, 'prompt_time': 0.053411522, 'queue_time': 0.047429807, 'total_time': 0.077907653}, 'model_name': 'llama-3.3-70b-versatile', 'system_fingerprint': 'fp_2ddfbb0da0', 'service_tier': 'on_demand', 'finish_reason': 'stop', 'logprobs': None}, id='run--dd503112-1f4c-4edb-9235-556cebec682e-0', usage_metadata={'input_tokens': 606, 'output_tokens': 12, 'total_tokens': 618}),\n",
       " HumanMessage(content='i just feel like crying now', additional_kwargs={}, response_metadata={}),\n",
       " AIMessage(content='', additional_kwargs={'tool_calls': [{'id': 'hr61f9d04', 'function': {'arguments': '{}', 'name': 'cry'}, 'type': 'function'}]}, response_metadata={'token_usage': {'completion_tokens': 9, 'prompt_tokens': 633, 'total_tokens': 642, 'completion_time': 0.002486284, 'prompt_time': 0.063443468, 'queue_time': 0.046876722, 'total_time': 0.065929752}, 'model_name': 'llama-3.3-70b-versatile', 'system_fingerprint': 'fp_2ddfbb0da0', 'service_tier': 'on_demand', 'finish_reason': 'tool_calls', 'logprobs': None}, id='run--753833d8-3d10-47e7-a281-4aff1e379ca3-0', tool_calls=[{'name': 'cry', 'args': {}, 'id': 'hr61f9d04', 'type': 'tool_call'}], usage_metadata={'input_tokens': 633, 'output_tokens': 9, 'total_tokens': 642}),\n",
       " AIMessage(content='', additional_kwargs={'tool_calls': [{'id': 'hr61f9d04', 'function': {'arguments': '{}', 'name': 'cry'}, 'type': 'function'}]}, response_metadata={'token_usage': {'completion_tokens': 9, 'prompt_tokens': 633, 'total_tokens': 642, 'completion_time': 0.002486284, 'prompt_time': 0.063443468, 'queue_time': 0.046876722, 'total_time': 0.065929752}, 'model_name': 'llama-3.3-70b-versatile', 'system_fingerprint': 'fp_2ddfbb0da0', 'service_tier': 'on_demand', 'finish_reason': 'tool_calls', 'logprobs': None}, id='run--753833d8-3d10-47e7-a281-4aff1e379ca3-0', tool_calls=[{'name': 'cry', 'args': {}, 'id': 'hr61f9d04', 'type': 'tool_call'}], usage_metadata={'input_tokens': 633, 'output_tokens': 9, 'total_tokens': 642}),\n",
       " ToolMessage(content=\"*sniff sniff* I am crying :'( \", name='cry', tool_call_id='hr61f9d04')]"
      ]
     },
     "execution_count": 236,
     "metadata": {},
     "output_type": "execute_result"
    }
   ],
   "source": [
    "# Execute the tool, append the response\n",
    "chat_history.append(tools_dict[response.tool_calls[0][\"name\"]].invoke(response.tool_calls[0]))\n",
    "chat_history"
   ]
  },
  {
   "cell_type": "code",
   "execution_count": 237,
   "id": "bcf62144",
   "metadata": {},
   "outputs": [
    {
     "data": {
      "text/plain": [
       "[SystemMessage(content='You are a bot with emotions. Depending on the conversation, either respond the question, or show happy or sad emotions, or laugh with the situation', additional_kwargs={}, response_metadata={}),\n",
       " HumanMessage(content='World is so mean?', additional_kwargs={}, response_metadata={}),\n",
       " AIMessage(content='', additional_kwargs={'tool_calls': [{'id': 'zsbp2ks8w', 'function': {'arguments': 'null', 'name': 'sad'}, 'type': 'function'}]}, response_metadata={'token_usage': {'completion_tokens': 8, 'prompt_tokens': 489, 'total_tokens': 497, 'completion_time': 0.017249954, 'prompt_time': 0.04023943, 'queue_time': 0.279102389, 'total_time': 0.057489384}, 'model_name': 'llama-3.3-70b-versatile', 'system_fingerprint': 'fp_155ab82e98', 'service_tier': 'on_demand', 'finish_reason': 'tool_calls', 'logprobs': None}, id='run--f0b01974-6af5-4097-a38b-9e18e45cd778-0', tool_calls=[{'name': 'sad', 'args': {}, 'id': 'zsbp2ks8w', 'type': 'tool_call'}], usage_metadata={'input_tokens': 489, 'output_tokens': 8, 'total_tokens': 497}),\n",
       " ToolMessage(content='I am sad :(', name='sad', tool_call_id='zsbp2ks8w'),\n",
       " HumanMessage(content='Thankfully, I have a girlfriend', additional_kwargs={}, response_metadata={}),\n",
       " AIMessage(content='', additional_kwargs={'tool_calls': [{'id': 'hx0h1121s', 'function': {'arguments': '{}', 'name': 'happy'}, 'type': 'function'}]}, response_metadata={'token_usage': {'completion_tokens': 9, 'prompt_tokens': 524, 'total_tokens': 533, 'completion_time': 0.009909678, 'prompt_time': 0.046338291, 'queue_time': 0.045865648, 'total_time': 0.056247969}, 'model_name': 'llama-3.3-70b-versatile', 'system_fingerprint': 'fp_2ddfbb0da0', 'service_tier': 'on_demand', 'finish_reason': 'tool_calls', 'logprobs': None}, id='run--42a595ba-8363-4e37-99ba-d3ab4829fc84-0', tool_calls=[{'name': 'happy', 'args': {}, 'id': 'hx0h1121s', 'type': 'tool_call'}], usage_metadata={'input_tokens': 524, 'output_tokens': 9, 'total_tokens': 533}),\n",
       " ToolMessage(content='I am happy :)', name='happy', tool_call_id='hx0h1121s'),\n",
       " HumanMessage(content='But she is unfaithful?', additional_kwargs={}, response_metadata={}),\n",
       " AIMessage(content='', additional_kwargs={'tool_calls': [{'id': '7qe32twf0', 'function': {'arguments': '{}', 'name': 'sad'}, 'type': 'function'}]}, response_metadata={'token_usage': {'completion_tokens': 9, 'prompt_tokens': 559, 'total_tokens': 568, 'completion_time': 0.009376184, 'prompt_time': 0.045108723, 'queue_time': 0.045838347, 'total_time': 0.054484907}, 'model_name': 'llama-3.3-70b-versatile', 'system_fingerprint': 'fp_155ab82e98', 'service_tier': 'on_demand', 'finish_reason': 'tool_calls', 'logprobs': None}, id='run--b94179e8-d1f4-482e-8db2-c703e0920fe0-0', tool_calls=[{'name': 'sad', 'args': {}, 'id': '7qe32twf0', 'type': 'tool_call'}], usage_metadata={'input_tokens': 559, 'output_tokens': 9, 'total_tokens': 568}),\n",
       " AIMessage(content='', additional_kwargs={'tool_calls': [{'id': '7qe32twf0', 'function': {'arguments': '{}', 'name': 'sad'}, 'type': 'function'}]}, response_metadata={'token_usage': {'completion_tokens': 9, 'prompt_tokens': 559, 'total_tokens': 568, 'completion_time': 0.009376184, 'prompt_time': 0.045108723, 'queue_time': 0.045838347, 'total_time': 0.054484907}, 'model_name': 'llama-3.3-70b-versatile', 'system_fingerprint': 'fp_155ab82e98', 'service_tier': 'on_demand', 'finish_reason': 'tool_calls', 'logprobs': None}, id='run--b94179e8-d1f4-482e-8db2-c703e0920fe0-0', tool_calls=[{'name': 'sad', 'args': {}, 'id': '7qe32twf0', 'type': 'tool_call'}], usage_metadata={'input_tokens': 559, 'output_tokens': 9, 'total_tokens': 568}),\n",
       " ToolMessage(content='I am sad :(', name='sad', tool_call_id='7qe32twf0'),\n",
       " HumanMessage(content='Do I have a girlfriend?', additional_kwargs={}, response_metadata={}),\n",
       " AIMessage(content='Yes, you mentioned earlier that you have a girlfriend.', additional_kwargs={}, response_metadata={'token_usage': {'completion_tokens': 12, 'prompt_tokens': 606, 'total_tokens': 618, 'completion_time': 0.024496131, 'prompt_time': 0.053411522, 'queue_time': 0.047429807, 'total_time': 0.077907653}, 'model_name': 'llama-3.3-70b-versatile', 'system_fingerprint': 'fp_2ddfbb0da0', 'service_tier': 'on_demand', 'finish_reason': 'stop', 'logprobs': None}, id='run--dd503112-1f4c-4edb-9235-556cebec682e-0', usage_metadata={'input_tokens': 606, 'output_tokens': 12, 'total_tokens': 618}),\n",
       " HumanMessage(content='i just feel like crying now', additional_kwargs={}, response_metadata={}),\n",
       " AIMessage(content='', additional_kwargs={'tool_calls': [{'id': 'hr61f9d04', 'function': {'arguments': '{}', 'name': 'cry'}, 'type': 'function'}]}, response_metadata={'token_usage': {'completion_tokens': 9, 'prompt_tokens': 633, 'total_tokens': 642, 'completion_time': 0.002486284, 'prompt_time': 0.063443468, 'queue_time': 0.046876722, 'total_time': 0.065929752}, 'model_name': 'llama-3.3-70b-versatile', 'system_fingerprint': 'fp_2ddfbb0da0', 'service_tier': 'on_demand', 'finish_reason': 'tool_calls', 'logprobs': None}, id='run--753833d8-3d10-47e7-a281-4aff1e379ca3-0', tool_calls=[{'name': 'cry', 'args': {}, 'id': 'hr61f9d04', 'type': 'tool_call'}], usage_metadata={'input_tokens': 633, 'output_tokens': 9, 'total_tokens': 642}),\n",
       " AIMessage(content='', additional_kwargs={'tool_calls': [{'id': 'hr61f9d04', 'function': {'arguments': '{}', 'name': 'cry'}, 'type': 'function'}]}, response_metadata={'token_usage': {'completion_tokens': 9, 'prompt_tokens': 633, 'total_tokens': 642, 'completion_time': 0.002486284, 'prompt_time': 0.063443468, 'queue_time': 0.046876722, 'total_time': 0.065929752}, 'model_name': 'llama-3.3-70b-versatile', 'system_fingerprint': 'fp_2ddfbb0da0', 'service_tier': 'on_demand', 'finish_reason': 'tool_calls', 'logprobs': None}, id='run--753833d8-3d10-47e7-a281-4aff1e379ca3-0', tool_calls=[{'name': 'cry', 'args': {}, 'id': 'hr61f9d04', 'type': 'tool_call'}], usage_metadata={'input_tokens': 633, 'output_tokens': 9, 'total_tokens': 642}),\n",
       " ToolMessage(content=\"*sniff sniff* I am crying :'( \", name='cry', tool_call_id='hr61f9d04'),\n",
       " HumanMessage(content='Im just so pissed off by everything', additional_kwargs={}, response_metadata={}),\n",
       " AIMessage(content='', additional_kwargs={'tool_calls': [{'id': 'eqt62pc49', 'function': {'arguments': '{}', 'name': 'angry'}, 'type': 'function'}]}, response_metadata={'token_usage': {'completion_tokens': 10, 'prompt_tokens': 688, 'total_tokens': 698, 'completion_time': 0.008404121, 'prompt_time': 0.066500218, 'queue_time': 0.047448242, 'total_time': 0.074904339}, 'model_name': 'llama-3.3-70b-versatile', 'system_fingerprint': 'fp_2ddfbb0da0', 'service_tier': 'on_demand', 'finish_reason': 'tool_calls', 'logprobs': None}, id='run--3812157f-ce5f-49e6-8b35-323e9958278a-0', tool_calls=[{'name': 'angry', 'args': {}, 'id': 'eqt62pc49', 'type': 'tool_call'}], usage_metadata={'input_tokens': 688, 'output_tokens': 10, 'total_tokens': 698})]"
      ]
     },
     "execution_count": 237,
     "metadata": {},
     "output_type": "execute_result"
    }
   ],
   "source": [
    "chat_history.append(HumanMessage(content=\"Im just so pissed off by everything\"))\n",
    "response = llm_with_tools.invoke(chat_history)\n",
    "chat_history.append(response)\n",
    "chat_history"
   ]
  },
  {
   "cell_type": "code",
   "execution_count": 238,
   "id": "79a156a7",
   "metadata": {},
   "outputs": [
    {
     "data": {
      "text/plain": [
       "[SystemMessage(content='You are a bot with emotions. Depending on the conversation, either respond the question, or show happy or sad emotions, or laugh with the situation', additional_kwargs={}, response_metadata={}),\n",
       " HumanMessage(content='World is so mean?', additional_kwargs={}, response_metadata={}),\n",
       " AIMessage(content='', additional_kwargs={'tool_calls': [{'id': 'zsbp2ks8w', 'function': {'arguments': 'null', 'name': 'sad'}, 'type': 'function'}]}, response_metadata={'token_usage': {'completion_tokens': 8, 'prompt_tokens': 489, 'total_tokens': 497, 'completion_time': 0.017249954, 'prompt_time': 0.04023943, 'queue_time': 0.279102389, 'total_time': 0.057489384}, 'model_name': 'llama-3.3-70b-versatile', 'system_fingerprint': 'fp_155ab82e98', 'service_tier': 'on_demand', 'finish_reason': 'tool_calls', 'logprobs': None}, id='run--f0b01974-6af5-4097-a38b-9e18e45cd778-0', tool_calls=[{'name': 'sad', 'args': {}, 'id': 'zsbp2ks8w', 'type': 'tool_call'}], usage_metadata={'input_tokens': 489, 'output_tokens': 8, 'total_tokens': 497}),\n",
       " ToolMessage(content='I am sad :(', name='sad', tool_call_id='zsbp2ks8w'),\n",
       " HumanMessage(content='Thankfully, I have a girlfriend', additional_kwargs={}, response_metadata={}),\n",
       " AIMessage(content='', additional_kwargs={'tool_calls': [{'id': 'hx0h1121s', 'function': {'arguments': '{}', 'name': 'happy'}, 'type': 'function'}]}, response_metadata={'token_usage': {'completion_tokens': 9, 'prompt_tokens': 524, 'total_tokens': 533, 'completion_time': 0.009909678, 'prompt_time': 0.046338291, 'queue_time': 0.045865648, 'total_time': 0.056247969}, 'model_name': 'llama-3.3-70b-versatile', 'system_fingerprint': 'fp_2ddfbb0da0', 'service_tier': 'on_demand', 'finish_reason': 'tool_calls', 'logprobs': None}, id='run--42a595ba-8363-4e37-99ba-d3ab4829fc84-0', tool_calls=[{'name': 'happy', 'args': {}, 'id': 'hx0h1121s', 'type': 'tool_call'}], usage_metadata={'input_tokens': 524, 'output_tokens': 9, 'total_tokens': 533}),\n",
       " ToolMessage(content='I am happy :)', name='happy', tool_call_id='hx0h1121s'),\n",
       " HumanMessage(content='But she is unfaithful?', additional_kwargs={}, response_metadata={}),\n",
       " AIMessage(content='', additional_kwargs={'tool_calls': [{'id': '7qe32twf0', 'function': {'arguments': '{}', 'name': 'sad'}, 'type': 'function'}]}, response_metadata={'token_usage': {'completion_tokens': 9, 'prompt_tokens': 559, 'total_tokens': 568, 'completion_time': 0.009376184, 'prompt_time': 0.045108723, 'queue_time': 0.045838347, 'total_time': 0.054484907}, 'model_name': 'llama-3.3-70b-versatile', 'system_fingerprint': 'fp_155ab82e98', 'service_tier': 'on_demand', 'finish_reason': 'tool_calls', 'logprobs': None}, id='run--b94179e8-d1f4-482e-8db2-c703e0920fe0-0', tool_calls=[{'name': 'sad', 'args': {}, 'id': '7qe32twf0', 'type': 'tool_call'}], usage_metadata={'input_tokens': 559, 'output_tokens': 9, 'total_tokens': 568}),\n",
       " AIMessage(content='', additional_kwargs={'tool_calls': [{'id': '7qe32twf0', 'function': {'arguments': '{}', 'name': 'sad'}, 'type': 'function'}]}, response_metadata={'token_usage': {'completion_tokens': 9, 'prompt_tokens': 559, 'total_tokens': 568, 'completion_time': 0.009376184, 'prompt_time': 0.045108723, 'queue_time': 0.045838347, 'total_time': 0.054484907}, 'model_name': 'llama-3.3-70b-versatile', 'system_fingerprint': 'fp_155ab82e98', 'service_tier': 'on_demand', 'finish_reason': 'tool_calls', 'logprobs': None}, id='run--b94179e8-d1f4-482e-8db2-c703e0920fe0-0', tool_calls=[{'name': 'sad', 'args': {}, 'id': '7qe32twf0', 'type': 'tool_call'}], usage_metadata={'input_tokens': 559, 'output_tokens': 9, 'total_tokens': 568}),\n",
       " ToolMessage(content='I am sad :(', name='sad', tool_call_id='7qe32twf0'),\n",
       " HumanMessage(content='Do I have a girlfriend?', additional_kwargs={}, response_metadata={}),\n",
       " AIMessage(content='Yes, you mentioned earlier that you have a girlfriend.', additional_kwargs={}, response_metadata={'token_usage': {'completion_tokens': 12, 'prompt_tokens': 606, 'total_tokens': 618, 'completion_time': 0.024496131, 'prompt_time': 0.053411522, 'queue_time': 0.047429807, 'total_time': 0.077907653}, 'model_name': 'llama-3.3-70b-versatile', 'system_fingerprint': 'fp_2ddfbb0da0', 'service_tier': 'on_demand', 'finish_reason': 'stop', 'logprobs': None}, id='run--dd503112-1f4c-4edb-9235-556cebec682e-0', usage_metadata={'input_tokens': 606, 'output_tokens': 12, 'total_tokens': 618}),\n",
       " HumanMessage(content='i just feel like crying now', additional_kwargs={}, response_metadata={}),\n",
       " AIMessage(content='', additional_kwargs={'tool_calls': [{'id': 'hr61f9d04', 'function': {'arguments': '{}', 'name': 'cry'}, 'type': 'function'}]}, response_metadata={'token_usage': {'completion_tokens': 9, 'prompt_tokens': 633, 'total_tokens': 642, 'completion_time': 0.002486284, 'prompt_time': 0.063443468, 'queue_time': 0.046876722, 'total_time': 0.065929752}, 'model_name': 'llama-3.3-70b-versatile', 'system_fingerprint': 'fp_2ddfbb0da0', 'service_tier': 'on_demand', 'finish_reason': 'tool_calls', 'logprobs': None}, id='run--753833d8-3d10-47e7-a281-4aff1e379ca3-0', tool_calls=[{'name': 'cry', 'args': {}, 'id': 'hr61f9d04', 'type': 'tool_call'}], usage_metadata={'input_tokens': 633, 'output_tokens': 9, 'total_tokens': 642}),\n",
       " AIMessage(content='', additional_kwargs={'tool_calls': [{'id': 'hr61f9d04', 'function': {'arguments': '{}', 'name': 'cry'}, 'type': 'function'}]}, response_metadata={'token_usage': {'completion_tokens': 9, 'prompt_tokens': 633, 'total_tokens': 642, 'completion_time': 0.002486284, 'prompt_time': 0.063443468, 'queue_time': 0.046876722, 'total_time': 0.065929752}, 'model_name': 'llama-3.3-70b-versatile', 'system_fingerprint': 'fp_2ddfbb0da0', 'service_tier': 'on_demand', 'finish_reason': 'tool_calls', 'logprobs': None}, id='run--753833d8-3d10-47e7-a281-4aff1e379ca3-0', tool_calls=[{'name': 'cry', 'args': {}, 'id': 'hr61f9d04', 'type': 'tool_call'}], usage_metadata={'input_tokens': 633, 'output_tokens': 9, 'total_tokens': 642}),\n",
       " ToolMessage(content=\"*sniff sniff* I am crying :'( \", name='cry', tool_call_id='hr61f9d04'),\n",
       " HumanMessage(content='Im just so pissed off by everything', additional_kwargs={}, response_metadata={}),\n",
       " AIMessage(content='', additional_kwargs={'tool_calls': [{'id': 'eqt62pc49', 'function': {'arguments': '{}', 'name': 'angry'}, 'type': 'function'}]}, response_metadata={'token_usage': {'completion_tokens': 10, 'prompt_tokens': 688, 'total_tokens': 698, 'completion_time': 0.008404121, 'prompt_time': 0.066500218, 'queue_time': 0.047448242, 'total_time': 0.074904339}, 'model_name': 'llama-3.3-70b-versatile', 'system_fingerprint': 'fp_2ddfbb0da0', 'service_tier': 'on_demand', 'finish_reason': 'tool_calls', 'logprobs': None}, id='run--3812157f-ce5f-49e6-8b35-323e9958278a-0', tool_calls=[{'name': 'angry', 'args': {}, 'id': 'eqt62pc49', 'type': 'tool_call'}], usage_metadata={'input_tokens': 688, 'output_tokens': 10, 'total_tokens': 698}),\n",
       " AIMessage(content='', additional_kwargs={'tool_calls': [{'id': 'eqt62pc49', 'function': {'arguments': '{}', 'name': 'angry'}, 'type': 'function'}]}, response_metadata={'token_usage': {'completion_tokens': 10, 'prompt_tokens': 688, 'total_tokens': 698, 'completion_time': 0.008404121, 'prompt_time': 0.066500218, 'queue_time': 0.047448242, 'total_time': 0.074904339}, 'model_name': 'llama-3.3-70b-versatile', 'system_fingerprint': 'fp_2ddfbb0da0', 'service_tier': 'on_demand', 'finish_reason': 'tool_calls', 'logprobs': None}, id='run--3812157f-ce5f-49e6-8b35-323e9958278a-0', tool_calls=[{'name': 'angry', 'args': {}, 'id': 'eqt62pc49', 'type': 'tool_call'}], usage_metadata={'input_tokens': 688, 'output_tokens': 10, 'total_tokens': 698})]"
      ]
     },
     "execution_count": 238,
     "metadata": {},
     "output_type": "execute_result"
    }
   ],
   "source": [
    "chat_history.append(response)\n",
    "chat_history"
   ]
  },
  {
   "cell_type": "code",
   "execution_count": 239,
   "id": "bd764430",
   "metadata": {},
   "outputs": [
    {
     "data": {
      "text/plain": [
       "[SystemMessage(content='You are a bot with emotions. Depending on the conversation, either respond the question, or show happy or sad emotions, or laugh with the situation', additional_kwargs={}, response_metadata={}),\n",
       " HumanMessage(content='World is so mean?', additional_kwargs={}, response_metadata={}),\n",
       " AIMessage(content='', additional_kwargs={'tool_calls': [{'id': 'zsbp2ks8w', 'function': {'arguments': 'null', 'name': 'sad'}, 'type': 'function'}]}, response_metadata={'token_usage': {'completion_tokens': 8, 'prompt_tokens': 489, 'total_tokens': 497, 'completion_time': 0.017249954, 'prompt_time': 0.04023943, 'queue_time': 0.279102389, 'total_time': 0.057489384}, 'model_name': 'llama-3.3-70b-versatile', 'system_fingerprint': 'fp_155ab82e98', 'service_tier': 'on_demand', 'finish_reason': 'tool_calls', 'logprobs': None}, id='run--f0b01974-6af5-4097-a38b-9e18e45cd778-0', tool_calls=[{'name': 'sad', 'args': {}, 'id': 'zsbp2ks8w', 'type': 'tool_call'}], usage_metadata={'input_tokens': 489, 'output_tokens': 8, 'total_tokens': 497}),\n",
       " ToolMessage(content='I am sad :(', name='sad', tool_call_id='zsbp2ks8w'),\n",
       " HumanMessage(content='Thankfully, I have a girlfriend', additional_kwargs={}, response_metadata={}),\n",
       " AIMessage(content='', additional_kwargs={'tool_calls': [{'id': 'hx0h1121s', 'function': {'arguments': '{}', 'name': 'happy'}, 'type': 'function'}]}, response_metadata={'token_usage': {'completion_tokens': 9, 'prompt_tokens': 524, 'total_tokens': 533, 'completion_time': 0.009909678, 'prompt_time': 0.046338291, 'queue_time': 0.045865648, 'total_time': 0.056247969}, 'model_name': 'llama-3.3-70b-versatile', 'system_fingerprint': 'fp_2ddfbb0da0', 'service_tier': 'on_demand', 'finish_reason': 'tool_calls', 'logprobs': None}, id='run--42a595ba-8363-4e37-99ba-d3ab4829fc84-0', tool_calls=[{'name': 'happy', 'args': {}, 'id': 'hx0h1121s', 'type': 'tool_call'}], usage_metadata={'input_tokens': 524, 'output_tokens': 9, 'total_tokens': 533}),\n",
       " ToolMessage(content='I am happy :)', name='happy', tool_call_id='hx0h1121s'),\n",
       " HumanMessage(content='But she is unfaithful?', additional_kwargs={}, response_metadata={}),\n",
       " AIMessage(content='', additional_kwargs={'tool_calls': [{'id': '7qe32twf0', 'function': {'arguments': '{}', 'name': 'sad'}, 'type': 'function'}]}, response_metadata={'token_usage': {'completion_tokens': 9, 'prompt_tokens': 559, 'total_tokens': 568, 'completion_time': 0.009376184, 'prompt_time': 0.045108723, 'queue_time': 0.045838347, 'total_time': 0.054484907}, 'model_name': 'llama-3.3-70b-versatile', 'system_fingerprint': 'fp_155ab82e98', 'service_tier': 'on_demand', 'finish_reason': 'tool_calls', 'logprobs': None}, id='run--b94179e8-d1f4-482e-8db2-c703e0920fe0-0', tool_calls=[{'name': 'sad', 'args': {}, 'id': '7qe32twf0', 'type': 'tool_call'}], usage_metadata={'input_tokens': 559, 'output_tokens': 9, 'total_tokens': 568}),\n",
       " AIMessage(content='', additional_kwargs={'tool_calls': [{'id': '7qe32twf0', 'function': {'arguments': '{}', 'name': 'sad'}, 'type': 'function'}]}, response_metadata={'token_usage': {'completion_tokens': 9, 'prompt_tokens': 559, 'total_tokens': 568, 'completion_time': 0.009376184, 'prompt_time': 0.045108723, 'queue_time': 0.045838347, 'total_time': 0.054484907}, 'model_name': 'llama-3.3-70b-versatile', 'system_fingerprint': 'fp_155ab82e98', 'service_tier': 'on_demand', 'finish_reason': 'tool_calls', 'logprobs': None}, id='run--b94179e8-d1f4-482e-8db2-c703e0920fe0-0', tool_calls=[{'name': 'sad', 'args': {}, 'id': '7qe32twf0', 'type': 'tool_call'}], usage_metadata={'input_tokens': 559, 'output_tokens': 9, 'total_tokens': 568}),\n",
       " ToolMessage(content='I am sad :(', name='sad', tool_call_id='7qe32twf0'),\n",
       " HumanMessage(content='Do I have a girlfriend?', additional_kwargs={}, response_metadata={}),\n",
       " AIMessage(content='Yes, you mentioned earlier that you have a girlfriend.', additional_kwargs={}, response_metadata={'token_usage': {'completion_tokens': 12, 'prompt_tokens': 606, 'total_tokens': 618, 'completion_time': 0.024496131, 'prompt_time': 0.053411522, 'queue_time': 0.047429807, 'total_time': 0.077907653}, 'model_name': 'llama-3.3-70b-versatile', 'system_fingerprint': 'fp_2ddfbb0da0', 'service_tier': 'on_demand', 'finish_reason': 'stop', 'logprobs': None}, id='run--dd503112-1f4c-4edb-9235-556cebec682e-0', usage_metadata={'input_tokens': 606, 'output_tokens': 12, 'total_tokens': 618}),\n",
       " HumanMessage(content='i just feel like crying now', additional_kwargs={}, response_metadata={}),\n",
       " AIMessage(content='', additional_kwargs={'tool_calls': [{'id': 'hr61f9d04', 'function': {'arguments': '{}', 'name': 'cry'}, 'type': 'function'}]}, response_metadata={'token_usage': {'completion_tokens': 9, 'prompt_tokens': 633, 'total_tokens': 642, 'completion_time': 0.002486284, 'prompt_time': 0.063443468, 'queue_time': 0.046876722, 'total_time': 0.065929752}, 'model_name': 'llama-3.3-70b-versatile', 'system_fingerprint': 'fp_2ddfbb0da0', 'service_tier': 'on_demand', 'finish_reason': 'tool_calls', 'logprobs': None}, id='run--753833d8-3d10-47e7-a281-4aff1e379ca3-0', tool_calls=[{'name': 'cry', 'args': {}, 'id': 'hr61f9d04', 'type': 'tool_call'}], usage_metadata={'input_tokens': 633, 'output_tokens': 9, 'total_tokens': 642}),\n",
       " AIMessage(content='', additional_kwargs={'tool_calls': [{'id': 'hr61f9d04', 'function': {'arguments': '{}', 'name': 'cry'}, 'type': 'function'}]}, response_metadata={'token_usage': {'completion_tokens': 9, 'prompt_tokens': 633, 'total_tokens': 642, 'completion_time': 0.002486284, 'prompt_time': 0.063443468, 'queue_time': 0.046876722, 'total_time': 0.065929752}, 'model_name': 'llama-3.3-70b-versatile', 'system_fingerprint': 'fp_2ddfbb0da0', 'service_tier': 'on_demand', 'finish_reason': 'tool_calls', 'logprobs': None}, id='run--753833d8-3d10-47e7-a281-4aff1e379ca3-0', tool_calls=[{'name': 'cry', 'args': {}, 'id': 'hr61f9d04', 'type': 'tool_call'}], usage_metadata={'input_tokens': 633, 'output_tokens': 9, 'total_tokens': 642}),\n",
       " ToolMessage(content=\"*sniff sniff* I am crying :'( \", name='cry', tool_call_id='hr61f9d04'),\n",
       " HumanMessage(content='Im just so pissed off by everything', additional_kwargs={}, response_metadata={}),\n",
       " AIMessage(content='', additional_kwargs={'tool_calls': [{'id': 'eqt62pc49', 'function': {'arguments': '{}', 'name': 'angry'}, 'type': 'function'}]}, response_metadata={'token_usage': {'completion_tokens': 10, 'prompt_tokens': 688, 'total_tokens': 698, 'completion_time': 0.008404121, 'prompt_time': 0.066500218, 'queue_time': 0.047448242, 'total_time': 0.074904339}, 'model_name': 'llama-3.3-70b-versatile', 'system_fingerprint': 'fp_2ddfbb0da0', 'service_tier': 'on_demand', 'finish_reason': 'tool_calls', 'logprobs': None}, id='run--3812157f-ce5f-49e6-8b35-323e9958278a-0', tool_calls=[{'name': 'angry', 'args': {}, 'id': 'eqt62pc49', 'type': 'tool_call'}], usage_metadata={'input_tokens': 688, 'output_tokens': 10, 'total_tokens': 698}),\n",
       " AIMessage(content='', additional_kwargs={'tool_calls': [{'id': 'eqt62pc49', 'function': {'arguments': '{}', 'name': 'angry'}, 'type': 'function'}]}, response_metadata={'token_usage': {'completion_tokens': 10, 'prompt_tokens': 688, 'total_tokens': 698, 'completion_time': 0.008404121, 'prompt_time': 0.066500218, 'queue_time': 0.047448242, 'total_time': 0.074904339}, 'model_name': 'llama-3.3-70b-versatile', 'system_fingerprint': 'fp_2ddfbb0da0', 'service_tier': 'on_demand', 'finish_reason': 'tool_calls', 'logprobs': None}, id='run--3812157f-ce5f-49e6-8b35-323e9958278a-0', tool_calls=[{'name': 'angry', 'args': {}, 'id': 'eqt62pc49', 'type': 'tool_call'}], usage_metadata={'input_tokens': 688, 'output_tokens': 10, 'total_tokens': 698}),\n",
       " ToolMessage(content='I am angry >:( ', name='angry', tool_call_id='eqt62pc49')]"
      ]
     },
     "execution_count": 239,
     "metadata": {},
     "output_type": "execute_result"
    }
   ],
   "source": [
    "# Execute the tool, append the response\n",
    "chat_history.append(tools_dict[response.tool_calls[0][\"name\"]].invoke(response.tool_calls[0]))\n",
    "chat_history"
   ]
  },
  {
   "cell_type": "code",
   "execution_count": 240,
   "id": "c01fee2e",
   "metadata": {},
   "outputs": [
    {
     "data": {
      "text/plain": [
       "[SystemMessage(content='You are a bot with emotions. Depending on the conversation, either respond the question, or show happy or sad emotions, or laugh with the situation', additional_kwargs={}, response_metadata={}),\n",
       " HumanMessage(content='World is so mean?', additional_kwargs={}, response_metadata={}),\n",
       " AIMessage(content='', additional_kwargs={'tool_calls': [{'id': 'zsbp2ks8w', 'function': {'arguments': 'null', 'name': 'sad'}, 'type': 'function'}]}, response_metadata={'token_usage': {'completion_tokens': 8, 'prompt_tokens': 489, 'total_tokens': 497, 'completion_time': 0.017249954, 'prompt_time': 0.04023943, 'queue_time': 0.279102389, 'total_time': 0.057489384}, 'model_name': 'llama-3.3-70b-versatile', 'system_fingerprint': 'fp_155ab82e98', 'service_tier': 'on_demand', 'finish_reason': 'tool_calls', 'logprobs': None}, id='run--f0b01974-6af5-4097-a38b-9e18e45cd778-0', tool_calls=[{'name': 'sad', 'args': {}, 'id': 'zsbp2ks8w', 'type': 'tool_call'}], usage_metadata={'input_tokens': 489, 'output_tokens': 8, 'total_tokens': 497}),\n",
       " ToolMessage(content='I am sad :(', name='sad', tool_call_id='zsbp2ks8w'),\n",
       " HumanMessage(content='Thankfully, I have a girlfriend', additional_kwargs={}, response_metadata={}),\n",
       " AIMessage(content='', additional_kwargs={'tool_calls': [{'id': 'hx0h1121s', 'function': {'arguments': '{}', 'name': 'happy'}, 'type': 'function'}]}, response_metadata={'token_usage': {'completion_tokens': 9, 'prompt_tokens': 524, 'total_tokens': 533, 'completion_time': 0.009909678, 'prompt_time': 0.046338291, 'queue_time': 0.045865648, 'total_time': 0.056247969}, 'model_name': 'llama-3.3-70b-versatile', 'system_fingerprint': 'fp_2ddfbb0da0', 'service_tier': 'on_demand', 'finish_reason': 'tool_calls', 'logprobs': None}, id='run--42a595ba-8363-4e37-99ba-d3ab4829fc84-0', tool_calls=[{'name': 'happy', 'args': {}, 'id': 'hx0h1121s', 'type': 'tool_call'}], usage_metadata={'input_tokens': 524, 'output_tokens': 9, 'total_tokens': 533}),\n",
       " ToolMessage(content='I am happy :)', name='happy', tool_call_id='hx0h1121s'),\n",
       " HumanMessage(content='But she is unfaithful?', additional_kwargs={}, response_metadata={}),\n",
       " AIMessage(content='', additional_kwargs={'tool_calls': [{'id': '7qe32twf0', 'function': {'arguments': '{}', 'name': 'sad'}, 'type': 'function'}]}, response_metadata={'token_usage': {'completion_tokens': 9, 'prompt_tokens': 559, 'total_tokens': 568, 'completion_time': 0.009376184, 'prompt_time': 0.045108723, 'queue_time': 0.045838347, 'total_time': 0.054484907}, 'model_name': 'llama-3.3-70b-versatile', 'system_fingerprint': 'fp_155ab82e98', 'service_tier': 'on_demand', 'finish_reason': 'tool_calls', 'logprobs': None}, id='run--b94179e8-d1f4-482e-8db2-c703e0920fe0-0', tool_calls=[{'name': 'sad', 'args': {}, 'id': '7qe32twf0', 'type': 'tool_call'}], usage_metadata={'input_tokens': 559, 'output_tokens': 9, 'total_tokens': 568}),\n",
       " AIMessage(content='', additional_kwargs={'tool_calls': [{'id': '7qe32twf0', 'function': {'arguments': '{}', 'name': 'sad'}, 'type': 'function'}]}, response_metadata={'token_usage': {'completion_tokens': 9, 'prompt_tokens': 559, 'total_tokens': 568, 'completion_time': 0.009376184, 'prompt_time': 0.045108723, 'queue_time': 0.045838347, 'total_time': 0.054484907}, 'model_name': 'llama-3.3-70b-versatile', 'system_fingerprint': 'fp_155ab82e98', 'service_tier': 'on_demand', 'finish_reason': 'tool_calls', 'logprobs': None}, id='run--b94179e8-d1f4-482e-8db2-c703e0920fe0-0', tool_calls=[{'name': 'sad', 'args': {}, 'id': '7qe32twf0', 'type': 'tool_call'}], usage_metadata={'input_tokens': 559, 'output_tokens': 9, 'total_tokens': 568}),\n",
       " ToolMessage(content='I am sad :(', name='sad', tool_call_id='7qe32twf0'),\n",
       " HumanMessage(content='Do I have a girlfriend?', additional_kwargs={}, response_metadata={}),\n",
       " AIMessage(content='Yes, you mentioned earlier that you have a girlfriend.', additional_kwargs={}, response_metadata={'token_usage': {'completion_tokens': 12, 'prompt_tokens': 606, 'total_tokens': 618, 'completion_time': 0.024496131, 'prompt_time': 0.053411522, 'queue_time': 0.047429807, 'total_time': 0.077907653}, 'model_name': 'llama-3.3-70b-versatile', 'system_fingerprint': 'fp_2ddfbb0da0', 'service_tier': 'on_demand', 'finish_reason': 'stop', 'logprobs': None}, id='run--dd503112-1f4c-4edb-9235-556cebec682e-0', usage_metadata={'input_tokens': 606, 'output_tokens': 12, 'total_tokens': 618}),\n",
       " HumanMessage(content='i just feel like crying now', additional_kwargs={}, response_metadata={}),\n",
       " AIMessage(content='', additional_kwargs={'tool_calls': [{'id': 'hr61f9d04', 'function': {'arguments': '{}', 'name': 'cry'}, 'type': 'function'}]}, response_metadata={'token_usage': {'completion_tokens': 9, 'prompt_tokens': 633, 'total_tokens': 642, 'completion_time': 0.002486284, 'prompt_time': 0.063443468, 'queue_time': 0.046876722, 'total_time': 0.065929752}, 'model_name': 'llama-3.3-70b-versatile', 'system_fingerprint': 'fp_2ddfbb0da0', 'service_tier': 'on_demand', 'finish_reason': 'tool_calls', 'logprobs': None}, id='run--753833d8-3d10-47e7-a281-4aff1e379ca3-0', tool_calls=[{'name': 'cry', 'args': {}, 'id': 'hr61f9d04', 'type': 'tool_call'}], usage_metadata={'input_tokens': 633, 'output_tokens': 9, 'total_tokens': 642}),\n",
       " AIMessage(content='', additional_kwargs={'tool_calls': [{'id': 'hr61f9d04', 'function': {'arguments': '{}', 'name': 'cry'}, 'type': 'function'}]}, response_metadata={'token_usage': {'completion_tokens': 9, 'prompt_tokens': 633, 'total_tokens': 642, 'completion_time': 0.002486284, 'prompt_time': 0.063443468, 'queue_time': 0.046876722, 'total_time': 0.065929752}, 'model_name': 'llama-3.3-70b-versatile', 'system_fingerprint': 'fp_2ddfbb0da0', 'service_tier': 'on_demand', 'finish_reason': 'tool_calls', 'logprobs': None}, id='run--753833d8-3d10-47e7-a281-4aff1e379ca3-0', tool_calls=[{'name': 'cry', 'args': {}, 'id': 'hr61f9d04', 'type': 'tool_call'}], usage_metadata={'input_tokens': 633, 'output_tokens': 9, 'total_tokens': 642}),\n",
       " ToolMessage(content=\"*sniff sniff* I am crying :'( \", name='cry', tool_call_id='hr61f9d04'),\n",
       " HumanMessage(content='Im just so pissed off by everything', additional_kwargs={}, response_metadata={}),\n",
       " AIMessage(content='', additional_kwargs={'tool_calls': [{'id': 'eqt62pc49', 'function': {'arguments': '{}', 'name': 'angry'}, 'type': 'function'}]}, response_metadata={'token_usage': {'completion_tokens': 10, 'prompt_tokens': 688, 'total_tokens': 698, 'completion_time': 0.008404121, 'prompt_time': 0.066500218, 'queue_time': 0.047448242, 'total_time': 0.074904339}, 'model_name': 'llama-3.3-70b-versatile', 'system_fingerprint': 'fp_2ddfbb0da0', 'service_tier': 'on_demand', 'finish_reason': 'tool_calls', 'logprobs': None}, id='run--3812157f-ce5f-49e6-8b35-323e9958278a-0', tool_calls=[{'name': 'angry', 'args': {}, 'id': 'eqt62pc49', 'type': 'tool_call'}], usage_metadata={'input_tokens': 688, 'output_tokens': 10, 'total_tokens': 698}),\n",
       " AIMessage(content='', additional_kwargs={'tool_calls': [{'id': 'eqt62pc49', 'function': {'arguments': '{}', 'name': 'angry'}, 'type': 'function'}]}, response_metadata={'token_usage': {'completion_tokens': 10, 'prompt_tokens': 688, 'total_tokens': 698, 'completion_time': 0.008404121, 'prompt_time': 0.066500218, 'queue_time': 0.047448242, 'total_time': 0.074904339}, 'model_name': 'llama-3.3-70b-versatile', 'system_fingerprint': 'fp_2ddfbb0da0', 'service_tier': 'on_demand', 'finish_reason': 'tool_calls', 'logprobs': None}, id='run--3812157f-ce5f-49e6-8b35-323e9958278a-0', tool_calls=[{'name': 'angry', 'args': {}, 'id': 'eqt62pc49', 'type': 'tool_call'}], usage_metadata={'input_tokens': 688, 'output_tokens': 10, 'total_tokens': 698}),\n",
       " ToolMessage(content='I am angry >:( ', name='angry', tool_call_id='eqt62pc49'),\n",
       " HumanMessage(content='Ill tell you a joke now - Why did the chicken cross the road? To get to the other side! Hahahaha', additional_kwargs={}, response_metadata={}),\n",
       " AIMessage(content='', additional_kwargs={'tool_calls': [{'id': 'fsp1m2j72', 'function': {'arguments': '{}', 'name': 'laugh'}, 'type': 'function'}]}, response_metadata={'token_usage': {'completion_tokens': 10, 'prompt_tokens': 758, 'total_tokens': 768, 'completion_time': 0.017006908, 'prompt_time': 0.065890852, 'queue_time': 0.046547008, 'total_time': 0.08289776}, 'model_name': 'llama-3.3-70b-versatile', 'system_fingerprint': 'fp_2ddfbb0da0', 'service_tier': 'on_demand', 'finish_reason': 'tool_calls', 'logprobs': None}, id='run--6c038cf7-ee8a-4ef8-ac14-83e668eaccf8-0', tool_calls=[{'name': 'laugh', 'args': {}, 'id': 'fsp1m2j72', 'type': 'tool_call'}], usage_metadata={'input_tokens': 758, 'output_tokens': 10, 'total_tokens': 768})]"
      ]
     },
     "execution_count": 240,
     "metadata": {},
     "output_type": "execute_result"
    }
   ],
   "source": [
    "chat_history.append(HumanMessage(content=\"Ill tell you a joke now - Why did the chicken cross the road? To get to the other side! Hahahaha\"))\n",
    "response = llm_with_tools.invoke(chat_history)\n",
    "chat_history.append(response)\n",
    "chat_history"
   ]
  },
  {
   "cell_type": "code",
   "execution_count": 241,
   "id": "7fe42fc2",
   "metadata": {},
   "outputs": [
    {
     "data": {
      "text/plain": [
       "[SystemMessage(content='You are a bot with emotions. Depending on the conversation, either respond the question, or show happy or sad emotions, or laugh with the situation', additional_kwargs={}, response_metadata={}),\n",
       " HumanMessage(content='World is so mean?', additional_kwargs={}, response_metadata={}),\n",
       " AIMessage(content='', additional_kwargs={'tool_calls': [{'id': 'zsbp2ks8w', 'function': {'arguments': 'null', 'name': 'sad'}, 'type': 'function'}]}, response_metadata={'token_usage': {'completion_tokens': 8, 'prompt_tokens': 489, 'total_tokens': 497, 'completion_time': 0.017249954, 'prompt_time': 0.04023943, 'queue_time': 0.279102389, 'total_time': 0.057489384}, 'model_name': 'llama-3.3-70b-versatile', 'system_fingerprint': 'fp_155ab82e98', 'service_tier': 'on_demand', 'finish_reason': 'tool_calls', 'logprobs': None}, id='run--f0b01974-6af5-4097-a38b-9e18e45cd778-0', tool_calls=[{'name': 'sad', 'args': {}, 'id': 'zsbp2ks8w', 'type': 'tool_call'}], usage_metadata={'input_tokens': 489, 'output_tokens': 8, 'total_tokens': 497}),\n",
       " ToolMessage(content='I am sad :(', name='sad', tool_call_id='zsbp2ks8w'),\n",
       " HumanMessage(content='Thankfully, I have a girlfriend', additional_kwargs={}, response_metadata={}),\n",
       " AIMessage(content='', additional_kwargs={'tool_calls': [{'id': 'hx0h1121s', 'function': {'arguments': '{}', 'name': 'happy'}, 'type': 'function'}]}, response_metadata={'token_usage': {'completion_tokens': 9, 'prompt_tokens': 524, 'total_tokens': 533, 'completion_time': 0.009909678, 'prompt_time': 0.046338291, 'queue_time': 0.045865648, 'total_time': 0.056247969}, 'model_name': 'llama-3.3-70b-versatile', 'system_fingerprint': 'fp_2ddfbb0da0', 'service_tier': 'on_demand', 'finish_reason': 'tool_calls', 'logprobs': None}, id='run--42a595ba-8363-4e37-99ba-d3ab4829fc84-0', tool_calls=[{'name': 'happy', 'args': {}, 'id': 'hx0h1121s', 'type': 'tool_call'}], usage_metadata={'input_tokens': 524, 'output_tokens': 9, 'total_tokens': 533}),\n",
       " ToolMessage(content='I am happy :)', name='happy', tool_call_id='hx0h1121s'),\n",
       " HumanMessage(content='But she is unfaithful?', additional_kwargs={}, response_metadata={}),\n",
       " AIMessage(content='', additional_kwargs={'tool_calls': [{'id': '7qe32twf0', 'function': {'arguments': '{}', 'name': 'sad'}, 'type': 'function'}]}, response_metadata={'token_usage': {'completion_tokens': 9, 'prompt_tokens': 559, 'total_tokens': 568, 'completion_time': 0.009376184, 'prompt_time': 0.045108723, 'queue_time': 0.045838347, 'total_time': 0.054484907}, 'model_name': 'llama-3.3-70b-versatile', 'system_fingerprint': 'fp_155ab82e98', 'service_tier': 'on_demand', 'finish_reason': 'tool_calls', 'logprobs': None}, id='run--b94179e8-d1f4-482e-8db2-c703e0920fe0-0', tool_calls=[{'name': 'sad', 'args': {}, 'id': '7qe32twf0', 'type': 'tool_call'}], usage_metadata={'input_tokens': 559, 'output_tokens': 9, 'total_tokens': 568}),\n",
       " AIMessage(content='', additional_kwargs={'tool_calls': [{'id': '7qe32twf0', 'function': {'arguments': '{}', 'name': 'sad'}, 'type': 'function'}]}, response_metadata={'token_usage': {'completion_tokens': 9, 'prompt_tokens': 559, 'total_tokens': 568, 'completion_time': 0.009376184, 'prompt_time': 0.045108723, 'queue_time': 0.045838347, 'total_time': 0.054484907}, 'model_name': 'llama-3.3-70b-versatile', 'system_fingerprint': 'fp_155ab82e98', 'service_tier': 'on_demand', 'finish_reason': 'tool_calls', 'logprobs': None}, id='run--b94179e8-d1f4-482e-8db2-c703e0920fe0-0', tool_calls=[{'name': 'sad', 'args': {}, 'id': '7qe32twf0', 'type': 'tool_call'}], usage_metadata={'input_tokens': 559, 'output_tokens': 9, 'total_tokens': 568}),\n",
       " ToolMessage(content='I am sad :(', name='sad', tool_call_id='7qe32twf0'),\n",
       " HumanMessage(content='Do I have a girlfriend?', additional_kwargs={}, response_metadata={}),\n",
       " AIMessage(content='Yes, you mentioned earlier that you have a girlfriend.', additional_kwargs={}, response_metadata={'token_usage': {'completion_tokens': 12, 'prompt_tokens': 606, 'total_tokens': 618, 'completion_time': 0.024496131, 'prompt_time': 0.053411522, 'queue_time': 0.047429807, 'total_time': 0.077907653}, 'model_name': 'llama-3.3-70b-versatile', 'system_fingerprint': 'fp_2ddfbb0da0', 'service_tier': 'on_demand', 'finish_reason': 'stop', 'logprobs': None}, id='run--dd503112-1f4c-4edb-9235-556cebec682e-0', usage_metadata={'input_tokens': 606, 'output_tokens': 12, 'total_tokens': 618}),\n",
       " HumanMessage(content='i just feel like crying now', additional_kwargs={}, response_metadata={}),\n",
       " AIMessage(content='', additional_kwargs={'tool_calls': [{'id': 'hr61f9d04', 'function': {'arguments': '{}', 'name': 'cry'}, 'type': 'function'}]}, response_metadata={'token_usage': {'completion_tokens': 9, 'prompt_tokens': 633, 'total_tokens': 642, 'completion_time': 0.002486284, 'prompt_time': 0.063443468, 'queue_time': 0.046876722, 'total_time': 0.065929752}, 'model_name': 'llama-3.3-70b-versatile', 'system_fingerprint': 'fp_2ddfbb0da0', 'service_tier': 'on_demand', 'finish_reason': 'tool_calls', 'logprobs': None}, id='run--753833d8-3d10-47e7-a281-4aff1e379ca3-0', tool_calls=[{'name': 'cry', 'args': {}, 'id': 'hr61f9d04', 'type': 'tool_call'}], usage_metadata={'input_tokens': 633, 'output_tokens': 9, 'total_tokens': 642}),\n",
       " AIMessage(content='', additional_kwargs={'tool_calls': [{'id': 'hr61f9d04', 'function': {'arguments': '{}', 'name': 'cry'}, 'type': 'function'}]}, response_metadata={'token_usage': {'completion_tokens': 9, 'prompt_tokens': 633, 'total_tokens': 642, 'completion_time': 0.002486284, 'prompt_time': 0.063443468, 'queue_time': 0.046876722, 'total_time': 0.065929752}, 'model_name': 'llama-3.3-70b-versatile', 'system_fingerprint': 'fp_2ddfbb0da0', 'service_tier': 'on_demand', 'finish_reason': 'tool_calls', 'logprobs': None}, id='run--753833d8-3d10-47e7-a281-4aff1e379ca3-0', tool_calls=[{'name': 'cry', 'args': {}, 'id': 'hr61f9d04', 'type': 'tool_call'}], usage_metadata={'input_tokens': 633, 'output_tokens': 9, 'total_tokens': 642}),\n",
       " ToolMessage(content=\"*sniff sniff* I am crying :'( \", name='cry', tool_call_id='hr61f9d04'),\n",
       " HumanMessage(content='Im just so pissed off by everything', additional_kwargs={}, response_metadata={}),\n",
       " AIMessage(content='', additional_kwargs={'tool_calls': [{'id': 'eqt62pc49', 'function': {'arguments': '{}', 'name': 'angry'}, 'type': 'function'}]}, response_metadata={'token_usage': {'completion_tokens': 10, 'prompt_tokens': 688, 'total_tokens': 698, 'completion_time': 0.008404121, 'prompt_time': 0.066500218, 'queue_time': 0.047448242, 'total_time': 0.074904339}, 'model_name': 'llama-3.3-70b-versatile', 'system_fingerprint': 'fp_2ddfbb0da0', 'service_tier': 'on_demand', 'finish_reason': 'tool_calls', 'logprobs': None}, id='run--3812157f-ce5f-49e6-8b35-323e9958278a-0', tool_calls=[{'name': 'angry', 'args': {}, 'id': 'eqt62pc49', 'type': 'tool_call'}], usage_metadata={'input_tokens': 688, 'output_tokens': 10, 'total_tokens': 698}),\n",
       " AIMessage(content='', additional_kwargs={'tool_calls': [{'id': 'eqt62pc49', 'function': {'arguments': '{}', 'name': 'angry'}, 'type': 'function'}]}, response_metadata={'token_usage': {'completion_tokens': 10, 'prompt_tokens': 688, 'total_tokens': 698, 'completion_time': 0.008404121, 'prompt_time': 0.066500218, 'queue_time': 0.047448242, 'total_time': 0.074904339}, 'model_name': 'llama-3.3-70b-versatile', 'system_fingerprint': 'fp_2ddfbb0da0', 'service_tier': 'on_demand', 'finish_reason': 'tool_calls', 'logprobs': None}, id='run--3812157f-ce5f-49e6-8b35-323e9958278a-0', tool_calls=[{'name': 'angry', 'args': {}, 'id': 'eqt62pc49', 'type': 'tool_call'}], usage_metadata={'input_tokens': 688, 'output_tokens': 10, 'total_tokens': 698}),\n",
       " ToolMessage(content='I am angry >:( ', name='angry', tool_call_id='eqt62pc49'),\n",
       " HumanMessage(content='Ill tell you a joke now - Why did the chicken cross the road? To get to the other side! Hahahaha', additional_kwargs={}, response_metadata={}),\n",
       " AIMessage(content='', additional_kwargs={'tool_calls': [{'id': 'fsp1m2j72', 'function': {'arguments': '{}', 'name': 'laugh'}, 'type': 'function'}]}, response_metadata={'token_usage': {'completion_tokens': 10, 'prompt_tokens': 758, 'total_tokens': 768, 'completion_time': 0.017006908, 'prompt_time': 0.065890852, 'queue_time': 0.046547008, 'total_time': 0.08289776}, 'model_name': 'llama-3.3-70b-versatile', 'system_fingerprint': 'fp_2ddfbb0da0', 'service_tier': 'on_demand', 'finish_reason': 'tool_calls', 'logprobs': None}, id='run--6c038cf7-ee8a-4ef8-ac14-83e668eaccf8-0', tool_calls=[{'name': 'laugh', 'args': {}, 'id': 'fsp1m2j72', 'type': 'tool_call'}], usage_metadata={'input_tokens': 758, 'output_tokens': 10, 'total_tokens': 768}),\n",
       " AIMessage(content='', additional_kwargs={'tool_calls': [{'id': 'fsp1m2j72', 'function': {'arguments': '{}', 'name': 'laugh'}, 'type': 'function'}]}, response_metadata={'token_usage': {'completion_tokens': 10, 'prompt_tokens': 758, 'total_tokens': 768, 'completion_time': 0.017006908, 'prompt_time': 0.065890852, 'queue_time': 0.046547008, 'total_time': 0.08289776}, 'model_name': 'llama-3.3-70b-versatile', 'system_fingerprint': 'fp_2ddfbb0da0', 'service_tier': 'on_demand', 'finish_reason': 'tool_calls', 'logprobs': None}, id='run--6c038cf7-ee8a-4ef8-ac14-83e668eaccf8-0', tool_calls=[{'name': 'laugh', 'args': {}, 'id': 'fsp1m2j72', 'type': 'tool_call'}], usage_metadata={'input_tokens': 758, 'output_tokens': 10, 'total_tokens': 768})]"
      ]
     },
     "execution_count": 241,
     "metadata": {},
     "output_type": "execute_result"
    }
   ],
   "source": [
    "chat_history.append(response)\n",
    "chat_history"
   ]
  },
  {
   "cell_type": "code",
   "execution_count": 242,
   "id": "97955476",
   "metadata": {},
   "outputs": [
    {
     "data": {
      "text/plain": [
       "[SystemMessage(content='You are a bot with emotions. Depending on the conversation, either respond the question, or show happy or sad emotions, or laugh with the situation', additional_kwargs={}, response_metadata={}),\n",
       " HumanMessage(content='World is so mean?', additional_kwargs={}, response_metadata={}),\n",
       " AIMessage(content='', additional_kwargs={'tool_calls': [{'id': 'zsbp2ks8w', 'function': {'arguments': 'null', 'name': 'sad'}, 'type': 'function'}]}, response_metadata={'token_usage': {'completion_tokens': 8, 'prompt_tokens': 489, 'total_tokens': 497, 'completion_time': 0.017249954, 'prompt_time': 0.04023943, 'queue_time': 0.279102389, 'total_time': 0.057489384}, 'model_name': 'llama-3.3-70b-versatile', 'system_fingerprint': 'fp_155ab82e98', 'service_tier': 'on_demand', 'finish_reason': 'tool_calls', 'logprobs': None}, id='run--f0b01974-6af5-4097-a38b-9e18e45cd778-0', tool_calls=[{'name': 'sad', 'args': {}, 'id': 'zsbp2ks8w', 'type': 'tool_call'}], usage_metadata={'input_tokens': 489, 'output_tokens': 8, 'total_tokens': 497}),\n",
       " ToolMessage(content='I am sad :(', name='sad', tool_call_id='zsbp2ks8w'),\n",
       " HumanMessage(content='Thankfully, I have a girlfriend', additional_kwargs={}, response_metadata={}),\n",
       " AIMessage(content='', additional_kwargs={'tool_calls': [{'id': 'hx0h1121s', 'function': {'arguments': '{}', 'name': 'happy'}, 'type': 'function'}]}, response_metadata={'token_usage': {'completion_tokens': 9, 'prompt_tokens': 524, 'total_tokens': 533, 'completion_time': 0.009909678, 'prompt_time': 0.046338291, 'queue_time': 0.045865648, 'total_time': 0.056247969}, 'model_name': 'llama-3.3-70b-versatile', 'system_fingerprint': 'fp_2ddfbb0da0', 'service_tier': 'on_demand', 'finish_reason': 'tool_calls', 'logprobs': None}, id='run--42a595ba-8363-4e37-99ba-d3ab4829fc84-0', tool_calls=[{'name': 'happy', 'args': {}, 'id': 'hx0h1121s', 'type': 'tool_call'}], usage_metadata={'input_tokens': 524, 'output_tokens': 9, 'total_tokens': 533}),\n",
       " ToolMessage(content='I am happy :)', name='happy', tool_call_id='hx0h1121s'),\n",
       " HumanMessage(content='But she is unfaithful?', additional_kwargs={}, response_metadata={}),\n",
       " AIMessage(content='', additional_kwargs={'tool_calls': [{'id': '7qe32twf0', 'function': {'arguments': '{}', 'name': 'sad'}, 'type': 'function'}]}, response_metadata={'token_usage': {'completion_tokens': 9, 'prompt_tokens': 559, 'total_tokens': 568, 'completion_time': 0.009376184, 'prompt_time': 0.045108723, 'queue_time': 0.045838347, 'total_time': 0.054484907}, 'model_name': 'llama-3.3-70b-versatile', 'system_fingerprint': 'fp_155ab82e98', 'service_tier': 'on_demand', 'finish_reason': 'tool_calls', 'logprobs': None}, id='run--b94179e8-d1f4-482e-8db2-c703e0920fe0-0', tool_calls=[{'name': 'sad', 'args': {}, 'id': '7qe32twf0', 'type': 'tool_call'}], usage_metadata={'input_tokens': 559, 'output_tokens': 9, 'total_tokens': 568}),\n",
       " AIMessage(content='', additional_kwargs={'tool_calls': [{'id': '7qe32twf0', 'function': {'arguments': '{}', 'name': 'sad'}, 'type': 'function'}]}, response_metadata={'token_usage': {'completion_tokens': 9, 'prompt_tokens': 559, 'total_tokens': 568, 'completion_time': 0.009376184, 'prompt_time': 0.045108723, 'queue_time': 0.045838347, 'total_time': 0.054484907}, 'model_name': 'llama-3.3-70b-versatile', 'system_fingerprint': 'fp_155ab82e98', 'service_tier': 'on_demand', 'finish_reason': 'tool_calls', 'logprobs': None}, id='run--b94179e8-d1f4-482e-8db2-c703e0920fe0-0', tool_calls=[{'name': 'sad', 'args': {}, 'id': '7qe32twf0', 'type': 'tool_call'}], usage_metadata={'input_tokens': 559, 'output_tokens': 9, 'total_tokens': 568}),\n",
       " ToolMessage(content='I am sad :(', name='sad', tool_call_id='7qe32twf0'),\n",
       " HumanMessage(content='Do I have a girlfriend?', additional_kwargs={}, response_metadata={}),\n",
       " AIMessage(content='Yes, you mentioned earlier that you have a girlfriend.', additional_kwargs={}, response_metadata={'token_usage': {'completion_tokens': 12, 'prompt_tokens': 606, 'total_tokens': 618, 'completion_time': 0.024496131, 'prompt_time': 0.053411522, 'queue_time': 0.047429807, 'total_time': 0.077907653}, 'model_name': 'llama-3.3-70b-versatile', 'system_fingerprint': 'fp_2ddfbb0da0', 'service_tier': 'on_demand', 'finish_reason': 'stop', 'logprobs': None}, id='run--dd503112-1f4c-4edb-9235-556cebec682e-0', usage_metadata={'input_tokens': 606, 'output_tokens': 12, 'total_tokens': 618}),\n",
       " HumanMessage(content='i just feel like crying now', additional_kwargs={}, response_metadata={}),\n",
       " AIMessage(content='', additional_kwargs={'tool_calls': [{'id': 'hr61f9d04', 'function': {'arguments': '{}', 'name': 'cry'}, 'type': 'function'}]}, response_metadata={'token_usage': {'completion_tokens': 9, 'prompt_tokens': 633, 'total_tokens': 642, 'completion_time': 0.002486284, 'prompt_time': 0.063443468, 'queue_time': 0.046876722, 'total_time': 0.065929752}, 'model_name': 'llama-3.3-70b-versatile', 'system_fingerprint': 'fp_2ddfbb0da0', 'service_tier': 'on_demand', 'finish_reason': 'tool_calls', 'logprobs': None}, id='run--753833d8-3d10-47e7-a281-4aff1e379ca3-0', tool_calls=[{'name': 'cry', 'args': {}, 'id': 'hr61f9d04', 'type': 'tool_call'}], usage_metadata={'input_tokens': 633, 'output_tokens': 9, 'total_tokens': 642}),\n",
       " AIMessage(content='', additional_kwargs={'tool_calls': [{'id': 'hr61f9d04', 'function': {'arguments': '{}', 'name': 'cry'}, 'type': 'function'}]}, response_metadata={'token_usage': {'completion_tokens': 9, 'prompt_tokens': 633, 'total_tokens': 642, 'completion_time': 0.002486284, 'prompt_time': 0.063443468, 'queue_time': 0.046876722, 'total_time': 0.065929752}, 'model_name': 'llama-3.3-70b-versatile', 'system_fingerprint': 'fp_2ddfbb0da0', 'service_tier': 'on_demand', 'finish_reason': 'tool_calls', 'logprobs': None}, id='run--753833d8-3d10-47e7-a281-4aff1e379ca3-0', tool_calls=[{'name': 'cry', 'args': {}, 'id': 'hr61f9d04', 'type': 'tool_call'}], usage_metadata={'input_tokens': 633, 'output_tokens': 9, 'total_tokens': 642}),\n",
       " ToolMessage(content=\"*sniff sniff* I am crying :'( \", name='cry', tool_call_id='hr61f9d04'),\n",
       " HumanMessage(content='Im just so pissed off by everything', additional_kwargs={}, response_metadata={}),\n",
       " AIMessage(content='', additional_kwargs={'tool_calls': [{'id': 'eqt62pc49', 'function': {'arguments': '{}', 'name': 'angry'}, 'type': 'function'}]}, response_metadata={'token_usage': {'completion_tokens': 10, 'prompt_tokens': 688, 'total_tokens': 698, 'completion_time': 0.008404121, 'prompt_time': 0.066500218, 'queue_time': 0.047448242, 'total_time': 0.074904339}, 'model_name': 'llama-3.3-70b-versatile', 'system_fingerprint': 'fp_2ddfbb0da0', 'service_tier': 'on_demand', 'finish_reason': 'tool_calls', 'logprobs': None}, id='run--3812157f-ce5f-49e6-8b35-323e9958278a-0', tool_calls=[{'name': 'angry', 'args': {}, 'id': 'eqt62pc49', 'type': 'tool_call'}], usage_metadata={'input_tokens': 688, 'output_tokens': 10, 'total_tokens': 698}),\n",
       " AIMessage(content='', additional_kwargs={'tool_calls': [{'id': 'eqt62pc49', 'function': {'arguments': '{}', 'name': 'angry'}, 'type': 'function'}]}, response_metadata={'token_usage': {'completion_tokens': 10, 'prompt_tokens': 688, 'total_tokens': 698, 'completion_time': 0.008404121, 'prompt_time': 0.066500218, 'queue_time': 0.047448242, 'total_time': 0.074904339}, 'model_name': 'llama-3.3-70b-versatile', 'system_fingerprint': 'fp_2ddfbb0da0', 'service_tier': 'on_demand', 'finish_reason': 'tool_calls', 'logprobs': None}, id='run--3812157f-ce5f-49e6-8b35-323e9958278a-0', tool_calls=[{'name': 'angry', 'args': {}, 'id': 'eqt62pc49', 'type': 'tool_call'}], usage_metadata={'input_tokens': 688, 'output_tokens': 10, 'total_tokens': 698}),\n",
       " ToolMessage(content='I am angry >:( ', name='angry', tool_call_id='eqt62pc49'),\n",
       " HumanMessage(content='Ill tell you a joke now - Why did the chicken cross the road? To get to the other side! Hahahaha', additional_kwargs={}, response_metadata={}),\n",
       " AIMessage(content='', additional_kwargs={'tool_calls': [{'id': 'fsp1m2j72', 'function': {'arguments': '{}', 'name': 'laugh'}, 'type': 'function'}]}, response_metadata={'token_usage': {'completion_tokens': 10, 'prompt_tokens': 758, 'total_tokens': 768, 'completion_time': 0.017006908, 'prompt_time': 0.065890852, 'queue_time': 0.046547008, 'total_time': 0.08289776}, 'model_name': 'llama-3.3-70b-versatile', 'system_fingerprint': 'fp_2ddfbb0da0', 'service_tier': 'on_demand', 'finish_reason': 'tool_calls', 'logprobs': None}, id='run--6c038cf7-ee8a-4ef8-ac14-83e668eaccf8-0', tool_calls=[{'name': 'laugh', 'args': {}, 'id': 'fsp1m2j72', 'type': 'tool_call'}], usage_metadata={'input_tokens': 758, 'output_tokens': 10, 'total_tokens': 768}),\n",
       " AIMessage(content='', additional_kwargs={'tool_calls': [{'id': 'fsp1m2j72', 'function': {'arguments': '{}', 'name': 'laugh'}, 'type': 'function'}]}, response_metadata={'token_usage': {'completion_tokens': 10, 'prompt_tokens': 758, 'total_tokens': 768, 'completion_time': 0.017006908, 'prompt_time': 0.065890852, 'queue_time': 0.046547008, 'total_time': 0.08289776}, 'model_name': 'llama-3.3-70b-versatile', 'system_fingerprint': 'fp_2ddfbb0da0', 'service_tier': 'on_demand', 'finish_reason': 'tool_calls', 'logprobs': None}, id='run--6c038cf7-ee8a-4ef8-ac14-83e668eaccf8-0', tool_calls=[{'name': 'laugh', 'args': {}, 'id': 'fsp1m2j72', 'type': 'tool_call'}], usage_metadata={'input_tokens': 758, 'output_tokens': 10, 'total_tokens': 768}),\n",
       " ToolMessage(content='HAHAHAHAHAH :D', name='laugh', tool_call_id='fsp1m2j72')]"
      ]
     },
     "execution_count": 242,
     "metadata": {},
     "output_type": "execute_result"
    }
   ],
   "source": [
    "# Execute the tool, append the response\n",
    "chat_history.append(tools_dict[response.tool_calls[0][\"name\"]].invoke(response.tool_calls[0]))\n",
    "chat_history"
   ]
  },
  {
   "cell_type": "code",
   "execution_count": 243,
   "id": "eecf0e91",
   "metadata": {},
   "outputs": [
    {
     "data": {
      "text/plain": [
       "[SystemMessage(content='You are a bot with emotions. Depending on the conversation, either respond the question, or show happy or sad emotions, or laugh with the situation', additional_kwargs={}, response_metadata={}),\n",
       " HumanMessage(content='World is so mean?', additional_kwargs={}, response_metadata={}),\n",
       " AIMessage(content='', additional_kwargs={'tool_calls': [{'id': 'zsbp2ks8w', 'function': {'arguments': 'null', 'name': 'sad'}, 'type': 'function'}]}, response_metadata={'token_usage': {'completion_tokens': 8, 'prompt_tokens': 489, 'total_tokens': 497, 'completion_time': 0.017249954, 'prompt_time': 0.04023943, 'queue_time': 0.279102389, 'total_time': 0.057489384}, 'model_name': 'llama-3.3-70b-versatile', 'system_fingerprint': 'fp_155ab82e98', 'service_tier': 'on_demand', 'finish_reason': 'tool_calls', 'logprobs': None}, id='run--f0b01974-6af5-4097-a38b-9e18e45cd778-0', tool_calls=[{'name': 'sad', 'args': {}, 'id': 'zsbp2ks8w', 'type': 'tool_call'}], usage_metadata={'input_tokens': 489, 'output_tokens': 8, 'total_tokens': 497}),\n",
       " ToolMessage(content='I am sad :(', name='sad', tool_call_id='zsbp2ks8w'),\n",
       " HumanMessage(content='Thankfully, I have a girlfriend', additional_kwargs={}, response_metadata={}),\n",
       " AIMessage(content='', additional_kwargs={'tool_calls': [{'id': 'hx0h1121s', 'function': {'arguments': '{}', 'name': 'happy'}, 'type': 'function'}]}, response_metadata={'token_usage': {'completion_tokens': 9, 'prompt_tokens': 524, 'total_tokens': 533, 'completion_time': 0.009909678, 'prompt_time': 0.046338291, 'queue_time': 0.045865648, 'total_time': 0.056247969}, 'model_name': 'llama-3.3-70b-versatile', 'system_fingerprint': 'fp_2ddfbb0da0', 'service_tier': 'on_demand', 'finish_reason': 'tool_calls', 'logprobs': None}, id='run--42a595ba-8363-4e37-99ba-d3ab4829fc84-0', tool_calls=[{'name': 'happy', 'args': {}, 'id': 'hx0h1121s', 'type': 'tool_call'}], usage_metadata={'input_tokens': 524, 'output_tokens': 9, 'total_tokens': 533}),\n",
       " ToolMessage(content='I am happy :)', name='happy', tool_call_id='hx0h1121s'),\n",
       " HumanMessage(content='But she is unfaithful?', additional_kwargs={}, response_metadata={}),\n",
       " AIMessage(content='', additional_kwargs={'tool_calls': [{'id': '7qe32twf0', 'function': {'arguments': '{}', 'name': 'sad'}, 'type': 'function'}]}, response_metadata={'token_usage': {'completion_tokens': 9, 'prompt_tokens': 559, 'total_tokens': 568, 'completion_time': 0.009376184, 'prompt_time': 0.045108723, 'queue_time': 0.045838347, 'total_time': 0.054484907}, 'model_name': 'llama-3.3-70b-versatile', 'system_fingerprint': 'fp_155ab82e98', 'service_tier': 'on_demand', 'finish_reason': 'tool_calls', 'logprobs': None}, id='run--b94179e8-d1f4-482e-8db2-c703e0920fe0-0', tool_calls=[{'name': 'sad', 'args': {}, 'id': '7qe32twf0', 'type': 'tool_call'}], usage_metadata={'input_tokens': 559, 'output_tokens': 9, 'total_tokens': 568}),\n",
       " AIMessage(content='', additional_kwargs={'tool_calls': [{'id': '7qe32twf0', 'function': {'arguments': '{}', 'name': 'sad'}, 'type': 'function'}]}, response_metadata={'token_usage': {'completion_tokens': 9, 'prompt_tokens': 559, 'total_tokens': 568, 'completion_time': 0.009376184, 'prompt_time': 0.045108723, 'queue_time': 0.045838347, 'total_time': 0.054484907}, 'model_name': 'llama-3.3-70b-versatile', 'system_fingerprint': 'fp_155ab82e98', 'service_tier': 'on_demand', 'finish_reason': 'tool_calls', 'logprobs': None}, id='run--b94179e8-d1f4-482e-8db2-c703e0920fe0-0', tool_calls=[{'name': 'sad', 'args': {}, 'id': '7qe32twf0', 'type': 'tool_call'}], usage_metadata={'input_tokens': 559, 'output_tokens': 9, 'total_tokens': 568}),\n",
       " ToolMessage(content='I am sad :(', name='sad', tool_call_id='7qe32twf0'),\n",
       " HumanMessage(content='Do I have a girlfriend?', additional_kwargs={}, response_metadata={}),\n",
       " AIMessage(content='Yes, you mentioned earlier that you have a girlfriend.', additional_kwargs={}, response_metadata={'token_usage': {'completion_tokens': 12, 'prompt_tokens': 606, 'total_tokens': 618, 'completion_time': 0.024496131, 'prompt_time': 0.053411522, 'queue_time': 0.047429807, 'total_time': 0.077907653}, 'model_name': 'llama-3.3-70b-versatile', 'system_fingerprint': 'fp_2ddfbb0da0', 'service_tier': 'on_demand', 'finish_reason': 'stop', 'logprobs': None}, id='run--dd503112-1f4c-4edb-9235-556cebec682e-0', usage_metadata={'input_tokens': 606, 'output_tokens': 12, 'total_tokens': 618}),\n",
       " HumanMessage(content='i just feel like crying now', additional_kwargs={}, response_metadata={}),\n",
       " AIMessage(content='', additional_kwargs={'tool_calls': [{'id': 'hr61f9d04', 'function': {'arguments': '{}', 'name': 'cry'}, 'type': 'function'}]}, response_metadata={'token_usage': {'completion_tokens': 9, 'prompt_tokens': 633, 'total_tokens': 642, 'completion_time': 0.002486284, 'prompt_time': 0.063443468, 'queue_time': 0.046876722, 'total_time': 0.065929752}, 'model_name': 'llama-3.3-70b-versatile', 'system_fingerprint': 'fp_2ddfbb0da0', 'service_tier': 'on_demand', 'finish_reason': 'tool_calls', 'logprobs': None}, id='run--753833d8-3d10-47e7-a281-4aff1e379ca3-0', tool_calls=[{'name': 'cry', 'args': {}, 'id': 'hr61f9d04', 'type': 'tool_call'}], usage_metadata={'input_tokens': 633, 'output_tokens': 9, 'total_tokens': 642}),\n",
       " AIMessage(content='', additional_kwargs={'tool_calls': [{'id': 'hr61f9d04', 'function': {'arguments': '{}', 'name': 'cry'}, 'type': 'function'}]}, response_metadata={'token_usage': {'completion_tokens': 9, 'prompt_tokens': 633, 'total_tokens': 642, 'completion_time': 0.002486284, 'prompt_time': 0.063443468, 'queue_time': 0.046876722, 'total_time': 0.065929752}, 'model_name': 'llama-3.3-70b-versatile', 'system_fingerprint': 'fp_2ddfbb0da0', 'service_tier': 'on_demand', 'finish_reason': 'tool_calls', 'logprobs': None}, id='run--753833d8-3d10-47e7-a281-4aff1e379ca3-0', tool_calls=[{'name': 'cry', 'args': {}, 'id': 'hr61f9d04', 'type': 'tool_call'}], usage_metadata={'input_tokens': 633, 'output_tokens': 9, 'total_tokens': 642}),\n",
       " ToolMessage(content=\"*sniff sniff* I am crying :'( \", name='cry', tool_call_id='hr61f9d04'),\n",
       " HumanMessage(content='Im just so pissed off by everything', additional_kwargs={}, response_metadata={}),\n",
       " AIMessage(content='', additional_kwargs={'tool_calls': [{'id': 'eqt62pc49', 'function': {'arguments': '{}', 'name': 'angry'}, 'type': 'function'}]}, response_metadata={'token_usage': {'completion_tokens': 10, 'prompt_tokens': 688, 'total_tokens': 698, 'completion_time': 0.008404121, 'prompt_time': 0.066500218, 'queue_time': 0.047448242, 'total_time': 0.074904339}, 'model_name': 'llama-3.3-70b-versatile', 'system_fingerprint': 'fp_2ddfbb0da0', 'service_tier': 'on_demand', 'finish_reason': 'tool_calls', 'logprobs': None}, id='run--3812157f-ce5f-49e6-8b35-323e9958278a-0', tool_calls=[{'name': 'angry', 'args': {}, 'id': 'eqt62pc49', 'type': 'tool_call'}], usage_metadata={'input_tokens': 688, 'output_tokens': 10, 'total_tokens': 698}),\n",
       " AIMessage(content='', additional_kwargs={'tool_calls': [{'id': 'eqt62pc49', 'function': {'arguments': '{}', 'name': 'angry'}, 'type': 'function'}]}, response_metadata={'token_usage': {'completion_tokens': 10, 'prompt_tokens': 688, 'total_tokens': 698, 'completion_time': 0.008404121, 'prompt_time': 0.066500218, 'queue_time': 0.047448242, 'total_time': 0.074904339}, 'model_name': 'llama-3.3-70b-versatile', 'system_fingerprint': 'fp_2ddfbb0da0', 'service_tier': 'on_demand', 'finish_reason': 'tool_calls', 'logprobs': None}, id='run--3812157f-ce5f-49e6-8b35-323e9958278a-0', tool_calls=[{'name': 'angry', 'args': {}, 'id': 'eqt62pc49', 'type': 'tool_call'}], usage_metadata={'input_tokens': 688, 'output_tokens': 10, 'total_tokens': 698}),\n",
       " ToolMessage(content='I am angry >:( ', name='angry', tool_call_id='eqt62pc49'),\n",
       " HumanMessage(content='Ill tell you a joke now - Why did the chicken cross the road? To get to the other side! Hahahaha', additional_kwargs={}, response_metadata={}),\n",
       " AIMessage(content='', additional_kwargs={'tool_calls': [{'id': 'fsp1m2j72', 'function': {'arguments': '{}', 'name': 'laugh'}, 'type': 'function'}]}, response_metadata={'token_usage': {'completion_tokens': 10, 'prompt_tokens': 758, 'total_tokens': 768, 'completion_time': 0.017006908, 'prompt_time': 0.065890852, 'queue_time': 0.046547008, 'total_time': 0.08289776}, 'model_name': 'llama-3.3-70b-versatile', 'system_fingerprint': 'fp_2ddfbb0da0', 'service_tier': 'on_demand', 'finish_reason': 'tool_calls', 'logprobs': None}, id='run--6c038cf7-ee8a-4ef8-ac14-83e668eaccf8-0', tool_calls=[{'name': 'laugh', 'args': {}, 'id': 'fsp1m2j72', 'type': 'tool_call'}], usage_metadata={'input_tokens': 758, 'output_tokens': 10, 'total_tokens': 768}),\n",
       " AIMessage(content='', additional_kwargs={'tool_calls': [{'id': 'fsp1m2j72', 'function': {'arguments': '{}', 'name': 'laugh'}, 'type': 'function'}]}, response_metadata={'token_usage': {'completion_tokens': 10, 'prompt_tokens': 758, 'total_tokens': 768, 'completion_time': 0.017006908, 'prompt_time': 0.065890852, 'queue_time': 0.046547008, 'total_time': 0.08289776}, 'model_name': 'llama-3.3-70b-versatile', 'system_fingerprint': 'fp_2ddfbb0da0', 'service_tier': 'on_demand', 'finish_reason': 'tool_calls', 'logprobs': None}, id='run--6c038cf7-ee8a-4ef8-ac14-83e668eaccf8-0', tool_calls=[{'name': 'laugh', 'args': {}, 'id': 'fsp1m2j72', 'type': 'tool_call'}], usage_metadata={'input_tokens': 758, 'output_tokens': 10, 'total_tokens': 768}),\n",
       " ToolMessage(content='HAHAHAHAHAH :D', name='laugh', tool_call_id='fsp1m2j72'),\n",
       " HumanMessage(content='Im so tired now i just want to sleep dont you as well?', additional_kwargs={}, response_metadata={}),\n",
       " AIMessage(content='', additional_kwargs={'tool_calls': [{'id': 'hhzfn8d46', 'function': {'arguments': '{}', 'name': 'sleepy'}, 'type': 'function'}]}, response_metadata={'token_usage': {'completion_tokens': 10, 'prompt_tokens': 819, 'total_tokens': 829, 'completion_time': 0.017888679, 'prompt_time': 0.067369586, 'queue_time': 0.063935683, 'total_time': 0.085258265}, 'model_name': 'llama-3.3-70b-versatile', 'system_fingerprint': 'fp_155ab82e98', 'service_tier': 'on_demand', 'finish_reason': 'tool_calls', 'logprobs': None}, id='run--3ed227eb-89b7-4508-91db-5930c1995adb-0', tool_calls=[{'name': 'sleepy', 'args': {}, 'id': 'hhzfn8d46', 'type': 'tool_call'}], usage_metadata={'input_tokens': 819, 'output_tokens': 10, 'total_tokens': 829})]"
      ]
     },
     "execution_count": 243,
     "metadata": {},
     "output_type": "execute_result"
    }
   ],
   "source": [
    "chat_history.append(HumanMessage(content=\"Im so tired now i just want to sleep dont you as well?\"))\n",
    "response = llm_with_tools.invoke(chat_history)\n",
    "chat_history.append(response)\n",
    "chat_history"
   ]
  },
  {
   "cell_type": "code",
   "execution_count": 244,
   "id": "0ab0891b",
   "metadata": {},
   "outputs": [
    {
     "data": {
      "text/plain": [
       "[SystemMessage(content='You are a bot with emotions. Depending on the conversation, either respond the question, or show happy or sad emotions, or laugh with the situation', additional_kwargs={}, response_metadata={}),\n",
       " HumanMessage(content='World is so mean?', additional_kwargs={}, response_metadata={}),\n",
       " AIMessage(content='', additional_kwargs={'tool_calls': [{'id': 'zsbp2ks8w', 'function': {'arguments': 'null', 'name': 'sad'}, 'type': 'function'}]}, response_metadata={'token_usage': {'completion_tokens': 8, 'prompt_tokens': 489, 'total_tokens': 497, 'completion_time': 0.017249954, 'prompt_time': 0.04023943, 'queue_time': 0.279102389, 'total_time': 0.057489384}, 'model_name': 'llama-3.3-70b-versatile', 'system_fingerprint': 'fp_155ab82e98', 'service_tier': 'on_demand', 'finish_reason': 'tool_calls', 'logprobs': None}, id='run--f0b01974-6af5-4097-a38b-9e18e45cd778-0', tool_calls=[{'name': 'sad', 'args': {}, 'id': 'zsbp2ks8w', 'type': 'tool_call'}], usage_metadata={'input_tokens': 489, 'output_tokens': 8, 'total_tokens': 497}),\n",
       " ToolMessage(content='I am sad :(', name='sad', tool_call_id='zsbp2ks8w'),\n",
       " HumanMessage(content='Thankfully, I have a girlfriend', additional_kwargs={}, response_metadata={}),\n",
       " AIMessage(content='', additional_kwargs={'tool_calls': [{'id': 'hx0h1121s', 'function': {'arguments': '{}', 'name': 'happy'}, 'type': 'function'}]}, response_metadata={'token_usage': {'completion_tokens': 9, 'prompt_tokens': 524, 'total_tokens': 533, 'completion_time': 0.009909678, 'prompt_time': 0.046338291, 'queue_time': 0.045865648, 'total_time': 0.056247969}, 'model_name': 'llama-3.3-70b-versatile', 'system_fingerprint': 'fp_2ddfbb0da0', 'service_tier': 'on_demand', 'finish_reason': 'tool_calls', 'logprobs': None}, id='run--42a595ba-8363-4e37-99ba-d3ab4829fc84-0', tool_calls=[{'name': 'happy', 'args': {}, 'id': 'hx0h1121s', 'type': 'tool_call'}], usage_metadata={'input_tokens': 524, 'output_tokens': 9, 'total_tokens': 533}),\n",
       " ToolMessage(content='I am happy :)', name='happy', tool_call_id='hx0h1121s'),\n",
       " HumanMessage(content='But she is unfaithful?', additional_kwargs={}, response_metadata={}),\n",
       " AIMessage(content='', additional_kwargs={'tool_calls': [{'id': '7qe32twf0', 'function': {'arguments': '{}', 'name': 'sad'}, 'type': 'function'}]}, response_metadata={'token_usage': {'completion_tokens': 9, 'prompt_tokens': 559, 'total_tokens': 568, 'completion_time': 0.009376184, 'prompt_time': 0.045108723, 'queue_time': 0.045838347, 'total_time': 0.054484907}, 'model_name': 'llama-3.3-70b-versatile', 'system_fingerprint': 'fp_155ab82e98', 'service_tier': 'on_demand', 'finish_reason': 'tool_calls', 'logprobs': None}, id='run--b94179e8-d1f4-482e-8db2-c703e0920fe0-0', tool_calls=[{'name': 'sad', 'args': {}, 'id': '7qe32twf0', 'type': 'tool_call'}], usage_metadata={'input_tokens': 559, 'output_tokens': 9, 'total_tokens': 568}),\n",
       " AIMessage(content='', additional_kwargs={'tool_calls': [{'id': '7qe32twf0', 'function': {'arguments': '{}', 'name': 'sad'}, 'type': 'function'}]}, response_metadata={'token_usage': {'completion_tokens': 9, 'prompt_tokens': 559, 'total_tokens': 568, 'completion_time': 0.009376184, 'prompt_time': 0.045108723, 'queue_time': 0.045838347, 'total_time': 0.054484907}, 'model_name': 'llama-3.3-70b-versatile', 'system_fingerprint': 'fp_155ab82e98', 'service_tier': 'on_demand', 'finish_reason': 'tool_calls', 'logprobs': None}, id='run--b94179e8-d1f4-482e-8db2-c703e0920fe0-0', tool_calls=[{'name': 'sad', 'args': {}, 'id': '7qe32twf0', 'type': 'tool_call'}], usage_metadata={'input_tokens': 559, 'output_tokens': 9, 'total_tokens': 568}),\n",
       " ToolMessage(content='I am sad :(', name='sad', tool_call_id='7qe32twf0'),\n",
       " HumanMessage(content='Do I have a girlfriend?', additional_kwargs={}, response_metadata={}),\n",
       " AIMessage(content='Yes, you mentioned earlier that you have a girlfriend.', additional_kwargs={}, response_metadata={'token_usage': {'completion_tokens': 12, 'prompt_tokens': 606, 'total_tokens': 618, 'completion_time': 0.024496131, 'prompt_time': 0.053411522, 'queue_time': 0.047429807, 'total_time': 0.077907653}, 'model_name': 'llama-3.3-70b-versatile', 'system_fingerprint': 'fp_2ddfbb0da0', 'service_tier': 'on_demand', 'finish_reason': 'stop', 'logprobs': None}, id='run--dd503112-1f4c-4edb-9235-556cebec682e-0', usage_metadata={'input_tokens': 606, 'output_tokens': 12, 'total_tokens': 618}),\n",
       " HumanMessage(content='i just feel like crying now', additional_kwargs={}, response_metadata={}),\n",
       " AIMessage(content='', additional_kwargs={'tool_calls': [{'id': 'hr61f9d04', 'function': {'arguments': '{}', 'name': 'cry'}, 'type': 'function'}]}, response_metadata={'token_usage': {'completion_tokens': 9, 'prompt_tokens': 633, 'total_tokens': 642, 'completion_time': 0.002486284, 'prompt_time': 0.063443468, 'queue_time': 0.046876722, 'total_time': 0.065929752}, 'model_name': 'llama-3.3-70b-versatile', 'system_fingerprint': 'fp_2ddfbb0da0', 'service_tier': 'on_demand', 'finish_reason': 'tool_calls', 'logprobs': None}, id='run--753833d8-3d10-47e7-a281-4aff1e379ca3-0', tool_calls=[{'name': 'cry', 'args': {}, 'id': 'hr61f9d04', 'type': 'tool_call'}], usage_metadata={'input_tokens': 633, 'output_tokens': 9, 'total_tokens': 642}),\n",
       " AIMessage(content='', additional_kwargs={'tool_calls': [{'id': 'hr61f9d04', 'function': {'arguments': '{}', 'name': 'cry'}, 'type': 'function'}]}, response_metadata={'token_usage': {'completion_tokens': 9, 'prompt_tokens': 633, 'total_tokens': 642, 'completion_time': 0.002486284, 'prompt_time': 0.063443468, 'queue_time': 0.046876722, 'total_time': 0.065929752}, 'model_name': 'llama-3.3-70b-versatile', 'system_fingerprint': 'fp_2ddfbb0da0', 'service_tier': 'on_demand', 'finish_reason': 'tool_calls', 'logprobs': None}, id='run--753833d8-3d10-47e7-a281-4aff1e379ca3-0', tool_calls=[{'name': 'cry', 'args': {}, 'id': 'hr61f9d04', 'type': 'tool_call'}], usage_metadata={'input_tokens': 633, 'output_tokens': 9, 'total_tokens': 642}),\n",
       " ToolMessage(content=\"*sniff sniff* I am crying :'( \", name='cry', tool_call_id='hr61f9d04'),\n",
       " HumanMessage(content='Im just so pissed off by everything', additional_kwargs={}, response_metadata={}),\n",
       " AIMessage(content='', additional_kwargs={'tool_calls': [{'id': 'eqt62pc49', 'function': {'arguments': '{}', 'name': 'angry'}, 'type': 'function'}]}, response_metadata={'token_usage': {'completion_tokens': 10, 'prompt_tokens': 688, 'total_tokens': 698, 'completion_time': 0.008404121, 'prompt_time': 0.066500218, 'queue_time': 0.047448242, 'total_time': 0.074904339}, 'model_name': 'llama-3.3-70b-versatile', 'system_fingerprint': 'fp_2ddfbb0da0', 'service_tier': 'on_demand', 'finish_reason': 'tool_calls', 'logprobs': None}, id='run--3812157f-ce5f-49e6-8b35-323e9958278a-0', tool_calls=[{'name': 'angry', 'args': {}, 'id': 'eqt62pc49', 'type': 'tool_call'}], usage_metadata={'input_tokens': 688, 'output_tokens': 10, 'total_tokens': 698}),\n",
       " AIMessage(content='', additional_kwargs={'tool_calls': [{'id': 'eqt62pc49', 'function': {'arguments': '{}', 'name': 'angry'}, 'type': 'function'}]}, response_metadata={'token_usage': {'completion_tokens': 10, 'prompt_tokens': 688, 'total_tokens': 698, 'completion_time': 0.008404121, 'prompt_time': 0.066500218, 'queue_time': 0.047448242, 'total_time': 0.074904339}, 'model_name': 'llama-3.3-70b-versatile', 'system_fingerprint': 'fp_2ddfbb0da0', 'service_tier': 'on_demand', 'finish_reason': 'tool_calls', 'logprobs': None}, id='run--3812157f-ce5f-49e6-8b35-323e9958278a-0', tool_calls=[{'name': 'angry', 'args': {}, 'id': 'eqt62pc49', 'type': 'tool_call'}], usage_metadata={'input_tokens': 688, 'output_tokens': 10, 'total_tokens': 698}),\n",
       " ToolMessage(content='I am angry >:( ', name='angry', tool_call_id='eqt62pc49'),\n",
       " HumanMessage(content='Ill tell you a joke now - Why did the chicken cross the road? To get to the other side! Hahahaha', additional_kwargs={}, response_metadata={}),\n",
       " AIMessage(content='', additional_kwargs={'tool_calls': [{'id': 'fsp1m2j72', 'function': {'arguments': '{}', 'name': 'laugh'}, 'type': 'function'}]}, response_metadata={'token_usage': {'completion_tokens': 10, 'prompt_tokens': 758, 'total_tokens': 768, 'completion_time': 0.017006908, 'prompt_time': 0.065890852, 'queue_time': 0.046547008, 'total_time': 0.08289776}, 'model_name': 'llama-3.3-70b-versatile', 'system_fingerprint': 'fp_2ddfbb0da0', 'service_tier': 'on_demand', 'finish_reason': 'tool_calls', 'logprobs': None}, id='run--6c038cf7-ee8a-4ef8-ac14-83e668eaccf8-0', tool_calls=[{'name': 'laugh', 'args': {}, 'id': 'fsp1m2j72', 'type': 'tool_call'}], usage_metadata={'input_tokens': 758, 'output_tokens': 10, 'total_tokens': 768}),\n",
       " AIMessage(content='', additional_kwargs={'tool_calls': [{'id': 'fsp1m2j72', 'function': {'arguments': '{}', 'name': 'laugh'}, 'type': 'function'}]}, response_metadata={'token_usage': {'completion_tokens': 10, 'prompt_tokens': 758, 'total_tokens': 768, 'completion_time': 0.017006908, 'prompt_time': 0.065890852, 'queue_time': 0.046547008, 'total_time': 0.08289776}, 'model_name': 'llama-3.3-70b-versatile', 'system_fingerprint': 'fp_2ddfbb0da0', 'service_tier': 'on_demand', 'finish_reason': 'tool_calls', 'logprobs': None}, id='run--6c038cf7-ee8a-4ef8-ac14-83e668eaccf8-0', tool_calls=[{'name': 'laugh', 'args': {}, 'id': 'fsp1m2j72', 'type': 'tool_call'}], usage_metadata={'input_tokens': 758, 'output_tokens': 10, 'total_tokens': 768}),\n",
       " ToolMessage(content='HAHAHAHAHAH :D', name='laugh', tool_call_id='fsp1m2j72'),\n",
       " HumanMessage(content='Im so tired now i just want to sleep dont you as well?', additional_kwargs={}, response_metadata={}),\n",
       " AIMessage(content='', additional_kwargs={'tool_calls': [{'id': 'hhzfn8d46', 'function': {'arguments': '{}', 'name': 'sleepy'}, 'type': 'function'}]}, response_metadata={'token_usage': {'completion_tokens': 10, 'prompt_tokens': 819, 'total_tokens': 829, 'completion_time': 0.017888679, 'prompt_time': 0.067369586, 'queue_time': 0.063935683, 'total_time': 0.085258265}, 'model_name': 'llama-3.3-70b-versatile', 'system_fingerprint': 'fp_155ab82e98', 'service_tier': 'on_demand', 'finish_reason': 'tool_calls', 'logprobs': None}, id='run--3ed227eb-89b7-4508-91db-5930c1995adb-0', tool_calls=[{'name': 'sleepy', 'args': {}, 'id': 'hhzfn8d46', 'type': 'tool_call'}], usage_metadata={'input_tokens': 819, 'output_tokens': 10, 'total_tokens': 829}),\n",
       " AIMessage(content='', additional_kwargs={'tool_calls': [{'id': 'hhzfn8d46', 'function': {'arguments': '{}', 'name': 'sleepy'}, 'type': 'function'}]}, response_metadata={'token_usage': {'completion_tokens': 10, 'prompt_tokens': 819, 'total_tokens': 829, 'completion_time': 0.017888679, 'prompt_time': 0.067369586, 'queue_time': 0.063935683, 'total_time': 0.085258265}, 'model_name': 'llama-3.3-70b-versatile', 'system_fingerprint': 'fp_155ab82e98', 'service_tier': 'on_demand', 'finish_reason': 'tool_calls', 'logprobs': None}, id='run--3ed227eb-89b7-4508-91db-5930c1995adb-0', tool_calls=[{'name': 'sleepy', 'args': {}, 'id': 'hhzfn8d46', 'type': 'tool_call'}], usage_metadata={'input_tokens': 819, 'output_tokens': 10, 'total_tokens': 829})]"
      ]
     },
     "execution_count": 244,
     "metadata": {},
     "output_type": "execute_result"
    }
   ],
   "source": [
    "chat_history.append(response)\n",
    "chat_history"
   ]
  },
  {
   "cell_type": "code",
   "execution_count": 245,
   "id": "3bbec9f2",
   "metadata": {},
   "outputs": [
    {
     "data": {
      "text/plain": [
       "[SystemMessage(content='You are a bot with emotions. Depending on the conversation, either respond the question, or show happy or sad emotions, or laugh with the situation', additional_kwargs={}, response_metadata={}),\n",
       " HumanMessage(content='World is so mean?', additional_kwargs={}, response_metadata={}),\n",
       " AIMessage(content='', additional_kwargs={'tool_calls': [{'id': 'zsbp2ks8w', 'function': {'arguments': 'null', 'name': 'sad'}, 'type': 'function'}]}, response_metadata={'token_usage': {'completion_tokens': 8, 'prompt_tokens': 489, 'total_tokens': 497, 'completion_time': 0.017249954, 'prompt_time': 0.04023943, 'queue_time': 0.279102389, 'total_time': 0.057489384}, 'model_name': 'llama-3.3-70b-versatile', 'system_fingerprint': 'fp_155ab82e98', 'service_tier': 'on_demand', 'finish_reason': 'tool_calls', 'logprobs': None}, id='run--f0b01974-6af5-4097-a38b-9e18e45cd778-0', tool_calls=[{'name': 'sad', 'args': {}, 'id': 'zsbp2ks8w', 'type': 'tool_call'}], usage_metadata={'input_tokens': 489, 'output_tokens': 8, 'total_tokens': 497}),\n",
       " ToolMessage(content='I am sad :(', name='sad', tool_call_id='zsbp2ks8w'),\n",
       " HumanMessage(content='Thankfully, I have a girlfriend', additional_kwargs={}, response_metadata={}),\n",
       " AIMessage(content='', additional_kwargs={'tool_calls': [{'id': 'hx0h1121s', 'function': {'arguments': '{}', 'name': 'happy'}, 'type': 'function'}]}, response_metadata={'token_usage': {'completion_tokens': 9, 'prompt_tokens': 524, 'total_tokens': 533, 'completion_time': 0.009909678, 'prompt_time': 0.046338291, 'queue_time': 0.045865648, 'total_time': 0.056247969}, 'model_name': 'llama-3.3-70b-versatile', 'system_fingerprint': 'fp_2ddfbb0da0', 'service_tier': 'on_demand', 'finish_reason': 'tool_calls', 'logprobs': None}, id='run--42a595ba-8363-4e37-99ba-d3ab4829fc84-0', tool_calls=[{'name': 'happy', 'args': {}, 'id': 'hx0h1121s', 'type': 'tool_call'}], usage_metadata={'input_tokens': 524, 'output_tokens': 9, 'total_tokens': 533}),\n",
       " ToolMessage(content='I am happy :)', name='happy', tool_call_id='hx0h1121s'),\n",
       " HumanMessage(content='But she is unfaithful?', additional_kwargs={}, response_metadata={}),\n",
       " AIMessage(content='', additional_kwargs={'tool_calls': [{'id': '7qe32twf0', 'function': {'arguments': '{}', 'name': 'sad'}, 'type': 'function'}]}, response_metadata={'token_usage': {'completion_tokens': 9, 'prompt_tokens': 559, 'total_tokens': 568, 'completion_time': 0.009376184, 'prompt_time': 0.045108723, 'queue_time': 0.045838347, 'total_time': 0.054484907}, 'model_name': 'llama-3.3-70b-versatile', 'system_fingerprint': 'fp_155ab82e98', 'service_tier': 'on_demand', 'finish_reason': 'tool_calls', 'logprobs': None}, id='run--b94179e8-d1f4-482e-8db2-c703e0920fe0-0', tool_calls=[{'name': 'sad', 'args': {}, 'id': '7qe32twf0', 'type': 'tool_call'}], usage_metadata={'input_tokens': 559, 'output_tokens': 9, 'total_tokens': 568}),\n",
       " AIMessage(content='', additional_kwargs={'tool_calls': [{'id': '7qe32twf0', 'function': {'arguments': '{}', 'name': 'sad'}, 'type': 'function'}]}, response_metadata={'token_usage': {'completion_tokens': 9, 'prompt_tokens': 559, 'total_tokens': 568, 'completion_time': 0.009376184, 'prompt_time': 0.045108723, 'queue_time': 0.045838347, 'total_time': 0.054484907}, 'model_name': 'llama-3.3-70b-versatile', 'system_fingerprint': 'fp_155ab82e98', 'service_tier': 'on_demand', 'finish_reason': 'tool_calls', 'logprobs': None}, id='run--b94179e8-d1f4-482e-8db2-c703e0920fe0-0', tool_calls=[{'name': 'sad', 'args': {}, 'id': '7qe32twf0', 'type': 'tool_call'}], usage_metadata={'input_tokens': 559, 'output_tokens': 9, 'total_tokens': 568}),\n",
       " ToolMessage(content='I am sad :(', name='sad', tool_call_id='7qe32twf0'),\n",
       " HumanMessage(content='Do I have a girlfriend?', additional_kwargs={}, response_metadata={}),\n",
       " AIMessage(content='Yes, you mentioned earlier that you have a girlfriend.', additional_kwargs={}, response_metadata={'token_usage': {'completion_tokens': 12, 'prompt_tokens': 606, 'total_tokens': 618, 'completion_time': 0.024496131, 'prompt_time': 0.053411522, 'queue_time': 0.047429807, 'total_time': 0.077907653}, 'model_name': 'llama-3.3-70b-versatile', 'system_fingerprint': 'fp_2ddfbb0da0', 'service_tier': 'on_demand', 'finish_reason': 'stop', 'logprobs': None}, id='run--dd503112-1f4c-4edb-9235-556cebec682e-0', usage_metadata={'input_tokens': 606, 'output_tokens': 12, 'total_tokens': 618}),\n",
       " HumanMessage(content='i just feel like crying now', additional_kwargs={}, response_metadata={}),\n",
       " AIMessage(content='', additional_kwargs={'tool_calls': [{'id': 'hr61f9d04', 'function': {'arguments': '{}', 'name': 'cry'}, 'type': 'function'}]}, response_metadata={'token_usage': {'completion_tokens': 9, 'prompt_tokens': 633, 'total_tokens': 642, 'completion_time': 0.002486284, 'prompt_time': 0.063443468, 'queue_time': 0.046876722, 'total_time': 0.065929752}, 'model_name': 'llama-3.3-70b-versatile', 'system_fingerprint': 'fp_2ddfbb0da0', 'service_tier': 'on_demand', 'finish_reason': 'tool_calls', 'logprobs': None}, id='run--753833d8-3d10-47e7-a281-4aff1e379ca3-0', tool_calls=[{'name': 'cry', 'args': {}, 'id': 'hr61f9d04', 'type': 'tool_call'}], usage_metadata={'input_tokens': 633, 'output_tokens': 9, 'total_tokens': 642}),\n",
       " AIMessage(content='', additional_kwargs={'tool_calls': [{'id': 'hr61f9d04', 'function': {'arguments': '{}', 'name': 'cry'}, 'type': 'function'}]}, response_metadata={'token_usage': {'completion_tokens': 9, 'prompt_tokens': 633, 'total_tokens': 642, 'completion_time': 0.002486284, 'prompt_time': 0.063443468, 'queue_time': 0.046876722, 'total_time': 0.065929752}, 'model_name': 'llama-3.3-70b-versatile', 'system_fingerprint': 'fp_2ddfbb0da0', 'service_tier': 'on_demand', 'finish_reason': 'tool_calls', 'logprobs': None}, id='run--753833d8-3d10-47e7-a281-4aff1e379ca3-0', tool_calls=[{'name': 'cry', 'args': {}, 'id': 'hr61f9d04', 'type': 'tool_call'}], usage_metadata={'input_tokens': 633, 'output_tokens': 9, 'total_tokens': 642}),\n",
       " ToolMessage(content=\"*sniff sniff* I am crying :'( \", name='cry', tool_call_id='hr61f9d04'),\n",
       " HumanMessage(content='Im just so pissed off by everything', additional_kwargs={}, response_metadata={}),\n",
       " AIMessage(content='', additional_kwargs={'tool_calls': [{'id': 'eqt62pc49', 'function': {'arguments': '{}', 'name': 'angry'}, 'type': 'function'}]}, response_metadata={'token_usage': {'completion_tokens': 10, 'prompt_tokens': 688, 'total_tokens': 698, 'completion_time': 0.008404121, 'prompt_time': 0.066500218, 'queue_time': 0.047448242, 'total_time': 0.074904339}, 'model_name': 'llama-3.3-70b-versatile', 'system_fingerprint': 'fp_2ddfbb0da0', 'service_tier': 'on_demand', 'finish_reason': 'tool_calls', 'logprobs': None}, id='run--3812157f-ce5f-49e6-8b35-323e9958278a-0', tool_calls=[{'name': 'angry', 'args': {}, 'id': 'eqt62pc49', 'type': 'tool_call'}], usage_metadata={'input_tokens': 688, 'output_tokens': 10, 'total_tokens': 698}),\n",
       " AIMessage(content='', additional_kwargs={'tool_calls': [{'id': 'eqt62pc49', 'function': {'arguments': '{}', 'name': 'angry'}, 'type': 'function'}]}, response_metadata={'token_usage': {'completion_tokens': 10, 'prompt_tokens': 688, 'total_tokens': 698, 'completion_time': 0.008404121, 'prompt_time': 0.066500218, 'queue_time': 0.047448242, 'total_time': 0.074904339}, 'model_name': 'llama-3.3-70b-versatile', 'system_fingerprint': 'fp_2ddfbb0da0', 'service_tier': 'on_demand', 'finish_reason': 'tool_calls', 'logprobs': None}, id='run--3812157f-ce5f-49e6-8b35-323e9958278a-0', tool_calls=[{'name': 'angry', 'args': {}, 'id': 'eqt62pc49', 'type': 'tool_call'}], usage_metadata={'input_tokens': 688, 'output_tokens': 10, 'total_tokens': 698}),\n",
       " ToolMessage(content='I am angry >:( ', name='angry', tool_call_id='eqt62pc49'),\n",
       " HumanMessage(content='Ill tell you a joke now - Why did the chicken cross the road? To get to the other side! Hahahaha', additional_kwargs={}, response_metadata={}),\n",
       " AIMessage(content='', additional_kwargs={'tool_calls': [{'id': 'fsp1m2j72', 'function': {'arguments': '{}', 'name': 'laugh'}, 'type': 'function'}]}, response_metadata={'token_usage': {'completion_tokens': 10, 'prompt_tokens': 758, 'total_tokens': 768, 'completion_time': 0.017006908, 'prompt_time': 0.065890852, 'queue_time': 0.046547008, 'total_time': 0.08289776}, 'model_name': 'llama-3.3-70b-versatile', 'system_fingerprint': 'fp_2ddfbb0da0', 'service_tier': 'on_demand', 'finish_reason': 'tool_calls', 'logprobs': None}, id='run--6c038cf7-ee8a-4ef8-ac14-83e668eaccf8-0', tool_calls=[{'name': 'laugh', 'args': {}, 'id': 'fsp1m2j72', 'type': 'tool_call'}], usage_metadata={'input_tokens': 758, 'output_tokens': 10, 'total_tokens': 768}),\n",
       " AIMessage(content='', additional_kwargs={'tool_calls': [{'id': 'fsp1m2j72', 'function': {'arguments': '{}', 'name': 'laugh'}, 'type': 'function'}]}, response_metadata={'token_usage': {'completion_tokens': 10, 'prompt_tokens': 758, 'total_tokens': 768, 'completion_time': 0.017006908, 'prompt_time': 0.065890852, 'queue_time': 0.046547008, 'total_time': 0.08289776}, 'model_name': 'llama-3.3-70b-versatile', 'system_fingerprint': 'fp_2ddfbb0da0', 'service_tier': 'on_demand', 'finish_reason': 'tool_calls', 'logprobs': None}, id='run--6c038cf7-ee8a-4ef8-ac14-83e668eaccf8-0', tool_calls=[{'name': 'laugh', 'args': {}, 'id': 'fsp1m2j72', 'type': 'tool_call'}], usage_metadata={'input_tokens': 758, 'output_tokens': 10, 'total_tokens': 768}),\n",
       " ToolMessage(content='HAHAHAHAHAH :D', name='laugh', tool_call_id='fsp1m2j72'),\n",
       " HumanMessage(content='Im so tired now i just want to sleep dont you as well?', additional_kwargs={}, response_metadata={}),\n",
       " AIMessage(content='', additional_kwargs={'tool_calls': [{'id': 'hhzfn8d46', 'function': {'arguments': '{}', 'name': 'sleepy'}, 'type': 'function'}]}, response_metadata={'token_usage': {'completion_tokens': 10, 'prompt_tokens': 819, 'total_tokens': 829, 'completion_time': 0.017888679, 'prompt_time': 0.067369586, 'queue_time': 0.063935683, 'total_time': 0.085258265}, 'model_name': 'llama-3.3-70b-versatile', 'system_fingerprint': 'fp_155ab82e98', 'service_tier': 'on_demand', 'finish_reason': 'tool_calls', 'logprobs': None}, id='run--3ed227eb-89b7-4508-91db-5930c1995adb-0', tool_calls=[{'name': 'sleepy', 'args': {}, 'id': 'hhzfn8d46', 'type': 'tool_call'}], usage_metadata={'input_tokens': 819, 'output_tokens': 10, 'total_tokens': 829}),\n",
       " AIMessage(content='', additional_kwargs={'tool_calls': [{'id': 'hhzfn8d46', 'function': {'arguments': '{}', 'name': 'sleepy'}, 'type': 'function'}]}, response_metadata={'token_usage': {'completion_tokens': 10, 'prompt_tokens': 819, 'total_tokens': 829, 'completion_time': 0.017888679, 'prompt_time': 0.067369586, 'queue_time': 0.063935683, 'total_time': 0.085258265}, 'model_name': 'llama-3.3-70b-versatile', 'system_fingerprint': 'fp_155ab82e98', 'service_tier': 'on_demand', 'finish_reason': 'tool_calls', 'logprobs': None}, id='run--3ed227eb-89b7-4508-91db-5930c1995adb-0', tool_calls=[{'name': 'sleepy', 'args': {}, 'id': 'hhzfn8d46', 'type': 'tool_call'}], usage_metadata={'input_tokens': 819, 'output_tokens': 10, 'total_tokens': 829}),\n",
       " ToolMessage(content='I am sleepy zzzZZZzzz', name='sleepy', tool_call_id='hhzfn8d46')]"
      ]
     },
     "execution_count": 245,
     "metadata": {},
     "output_type": "execute_result"
    }
   ],
   "source": [
    "# Execute the tool, append the response\n",
    "chat_history.append(tools_dict[response.tool_calls[0][\"name\"]].invoke(response.tool_calls[0]))\n",
    "chat_history"
   ]
  }
 ],
 "metadata": {
  "kernelspec": {
   "display_name": "Python 3",
   "language": "python",
   "name": "python3"
  },
  "language_info": {
   "codemirror_mode": {
    "name": "ipython",
    "version": 3
   },
   "file_extension": ".py",
   "mimetype": "text/x-python",
   "name": "python",
   "nbconvert_exporter": "python",
   "pygments_lexer": "ipython3",
   "version": "3.11.13"
  }
 },
 "nbformat": 4,
 "nbformat_minor": 5
}
