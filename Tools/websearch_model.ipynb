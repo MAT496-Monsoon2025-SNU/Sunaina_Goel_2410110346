{
 "cells": [
  {
   "cell_type": "code",
   "execution_count": 2,
   "id": "52b72174",
   "metadata": {},
   "outputs": [
    {
     "data": {
      "text/plain": [
       "True"
      ]
     },
     "execution_count": 2,
     "metadata": {},
     "output_type": "execute_result"
    }
   ],
   "source": [
    "import os\n",
    "from dotenv import load_dotenv\n",
    "load_dotenv(override=True)"
   ]
  },
  {
   "cell_type": "code",
   "execution_count": 3,
   "id": "5336f1d4",
   "metadata": {},
   "outputs": [
    {
     "name": "stdout",
     "output_type": "stream",
     "text": [
      "Requirement already satisfied: langchain in /Users/sunainagoel/Downloads/llm/.conda/lib/python3.11/site-packages (0.3.27)\n",
      "Requirement already satisfied: langchain-community in /Users/sunainagoel/Downloads/llm/.conda/lib/python3.11/site-packages (0.3.29)\n",
      "Requirement already satisfied: langchain-groq in /Users/sunainagoel/Downloads/llm/.conda/lib/python3.11/site-packages (0.3.7)\n",
      "Requirement already satisfied: python-dotenv in /Users/sunainagoel/Downloads/llm/.conda/lib/python3.11/site-packages (1.1.1)\n",
      "Requirement already satisfied: langchain-core<1.0.0,>=0.3.72 in /Users/sunainagoel/Downloads/llm/.conda/lib/python3.11/site-packages (from langchain) (0.3.76)\n",
      "Requirement already satisfied: langchain-text-splitters<1.0.0,>=0.3.9 in /Users/sunainagoel/Downloads/llm/.conda/lib/python3.11/site-packages (from langchain) (0.3.9)\n",
      "Requirement already satisfied: langsmith>=0.1.17 in /Users/sunainagoel/Downloads/llm/.conda/lib/python3.11/site-packages (from langchain) (0.3.45)\n",
      "Requirement already satisfied: pydantic<3.0.0,>=2.7.4 in /Users/sunainagoel/Downloads/llm/.conda/lib/python3.11/site-packages (from langchain) (2.11.7)\n",
      "Requirement already satisfied: SQLAlchemy<3,>=1.4 in /Users/sunainagoel/Downloads/llm/.conda/lib/python3.11/site-packages (from langchain) (2.0.41)\n",
      "Requirement already satisfied: requests<3,>=2 in /Users/sunainagoel/Downloads/llm/.conda/lib/python3.11/site-packages (from langchain) (2.32.5)\n",
      "Requirement already satisfied: PyYAML>=5.3 in /Users/sunainagoel/Downloads/llm/.conda/lib/python3.11/site-packages (from langchain) (6.0.2)\n",
      "Requirement already satisfied: tenacity!=8.4.0,<10.0.0,>=8.1.0 in /Users/sunainagoel/Downloads/llm/.conda/lib/python3.11/site-packages (from langchain-core<1.0.0,>=0.3.72->langchain) (9.1.2)\n",
      "Requirement already satisfied: jsonpatch<2.0,>=1.33 in /Users/sunainagoel/Downloads/llm/.conda/lib/python3.11/site-packages (from langchain-core<1.0.0,>=0.3.72->langchain) (1.33)\n",
      "Requirement already satisfied: typing-extensions>=4.7 in /Users/sunainagoel/Downloads/llm/.conda/lib/python3.11/site-packages (from langchain-core<1.0.0,>=0.3.72->langchain) (4.14.1)\n",
      "Requirement already satisfied: packaging>=23.2 in /Users/sunainagoel/Downloads/llm/.conda/lib/python3.11/site-packages (from langchain-core<1.0.0,>=0.3.72->langchain) (25.0)\n",
      "Requirement already satisfied: jsonpointer>=1.9 in /Users/sunainagoel/Downloads/llm/.conda/lib/python3.11/site-packages (from jsonpatch<2.0,>=1.33->langchain-core<1.0.0,>=0.3.72->langchain) (2.0)\n",
      "Requirement already satisfied: annotated-types>=0.6.0 in /Users/sunainagoel/Downloads/llm/.conda/lib/python3.11/site-packages (from pydantic<3.0.0,>=2.7.4->langchain) (0.7.0)\n",
      "Requirement already satisfied: pydantic-core==2.33.2 in /Users/sunainagoel/Downloads/llm/.conda/lib/python3.11/site-packages (from pydantic<3.0.0,>=2.7.4->langchain) (2.33.2)\n",
      "Requirement already satisfied: typing-inspection>=0.4.0 in /Users/sunainagoel/Downloads/llm/.conda/lib/python3.11/site-packages (from pydantic<3.0.0,>=2.7.4->langchain) (0.4.1)\n",
      "Requirement already satisfied: charset_normalizer<4,>=2 in /Users/sunainagoel/Downloads/llm/.conda/lib/python3.11/site-packages (from requests<3,>=2->langchain) (3.4.3)\n",
      "Requirement already satisfied: idna<4,>=2.5 in /Users/sunainagoel/Downloads/llm/.conda/lib/python3.11/site-packages (from requests<3,>=2->langchain) (3.10)\n",
      "Requirement already satisfied: urllib3<3,>=1.21.1 in /Users/sunainagoel/Downloads/llm/.conda/lib/python3.11/site-packages (from requests<3,>=2->langchain) (2.5.0)\n",
      "Requirement already satisfied: certifi>=2017.4.17 in /Users/sunainagoel/Downloads/llm/.conda/lib/python3.11/site-packages (from requests<3,>=2->langchain) (2025.8.3)\n",
      "Requirement already satisfied: aiohttp<4.0.0,>=3.8.3 in /Users/sunainagoel/Downloads/llm/.conda/lib/python3.11/site-packages (from langchain-community) (3.12.15)\n",
      "Requirement already satisfied: dataclasses-json<0.7,>=0.6.7 in /Users/sunainagoel/Downloads/llm/.conda/lib/python3.11/site-packages (from langchain-community) (0.6.7)\n",
      "Requirement already satisfied: pydantic-settings<3.0.0,>=2.10.1 in /Users/sunainagoel/Downloads/llm/.conda/lib/python3.11/site-packages (from langchain-community) (2.10.1)\n",
      "Requirement already satisfied: httpx-sse<1.0.0,>=0.4.0 in /Users/sunainagoel/Downloads/llm/.conda/lib/python3.11/site-packages (from langchain-community) (0.4.1)\n",
      "Requirement already satisfied: numpy>=1.26.2 in /Users/sunainagoel/Downloads/llm/.conda/lib/python3.11/site-packages (from langchain-community) (2.2.6)\n",
      "Requirement already satisfied: aiohappyeyeballs>=2.5.0 in /Users/sunainagoel/Downloads/llm/.conda/lib/python3.11/site-packages (from aiohttp<4.0.0,>=3.8.3->langchain-community) (2.6.1)\n",
      "Requirement already satisfied: aiosignal>=1.4.0 in /Users/sunainagoel/Downloads/llm/.conda/lib/python3.11/site-packages (from aiohttp<4.0.0,>=3.8.3->langchain-community) (1.4.0)\n",
      "Requirement already satisfied: attrs>=17.3.0 in /Users/sunainagoel/Downloads/llm/.conda/lib/python3.11/site-packages (from aiohttp<4.0.0,>=3.8.3->langchain-community) (25.3.0)\n",
      "Requirement already satisfied: frozenlist>=1.1.1 in /Users/sunainagoel/Downloads/llm/.conda/lib/python3.11/site-packages (from aiohttp<4.0.0,>=3.8.3->langchain-community) (1.7.0)\n",
      "Requirement already satisfied: multidict<7.0,>=4.5 in /Users/sunainagoel/Downloads/llm/.conda/lib/python3.11/site-packages (from aiohttp<4.0.0,>=3.8.3->langchain-community) (6.6.3)\n",
      "Requirement already satisfied: propcache>=0.2.0 in /Users/sunainagoel/Downloads/llm/.conda/lib/python3.11/site-packages (from aiohttp<4.0.0,>=3.8.3->langchain-community) (0.3.1)\n",
      "Requirement already satisfied: yarl<2.0,>=1.17.0 in /Users/sunainagoel/Downloads/llm/.conda/lib/python3.11/site-packages (from aiohttp<4.0.0,>=3.8.3->langchain-community) (1.20.1)\n",
      "Requirement already satisfied: marshmallow<4.0.0,>=3.18.0 in /Users/sunainagoel/Downloads/llm/.conda/lib/python3.11/site-packages (from dataclasses-json<0.7,>=0.6.7->langchain-community) (3.26.1)\n",
      "Requirement already satisfied: typing-inspect<1,>=0.4.0 in /Users/sunainagoel/Downloads/llm/.conda/lib/python3.11/site-packages (from dataclasses-json<0.7,>=0.6.7->langchain-community) (0.9.0)\n",
      "Requirement already satisfied: mypy-extensions>=0.3.0 in /Users/sunainagoel/Downloads/llm/.conda/lib/python3.11/site-packages (from typing-inspect<1,>=0.4.0->dataclasses-json<0.7,>=0.6.7->langchain-community) (1.1.0)\n",
      "Requirement already satisfied: groq<1,>=0.30.0 in /Users/sunainagoel/Downloads/llm/.conda/lib/python3.11/site-packages (from langchain-groq) (0.31.0)\n",
      "Requirement already satisfied: anyio<5,>=3.5.0 in /Users/sunainagoel/Downloads/llm/.conda/lib/python3.11/site-packages (from groq<1,>=0.30.0->langchain-groq) (4.10.0)\n",
      "Requirement already satisfied: distro<2,>=1.7.0 in /Users/sunainagoel/Downloads/llm/.conda/lib/python3.11/site-packages (from groq<1,>=0.30.0->langchain-groq) (1.9.0)\n",
      "Requirement already satisfied: httpx<1,>=0.23.0 in /Users/sunainagoel/Downloads/llm/.conda/lib/python3.11/site-packages (from groq<1,>=0.30.0->langchain-groq) (0.28.1)\n",
      "Requirement already satisfied: sniffio in /Users/sunainagoel/Downloads/llm/.conda/lib/python3.11/site-packages (from groq<1,>=0.30.0->langchain-groq) (1.3.1)\n",
      "Requirement already satisfied: httpcore==1.* in /Users/sunainagoel/Downloads/llm/.conda/lib/python3.11/site-packages (from httpx<1,>=0.23.0->groq<1,>=0.30.0->langchain-groq) (1.0.9)\n",
      "Requirement already satisfied: h11>=0.16 in /Users/sunainagoel/Downloads/llm/.conda/lib/python3.11/site-packages (from httpcore==1.*->httpx<1,>=0.23.0->groq<1,>=0.30.0->langchain-groq) (0.16.0)\n",
      "Requirement already satisfied: orjson<4.0.0,>=3.9.14 in /Users/sunainagoel/Downloads/llm/.conda/lib/python3.11/site-packages (from langsmith>=0.1.17->langchain) (3.10.14)\n",
      "Requirement already satisfied: requests-toolbelt<2.0.0,>=1.0.0 in /Users/sunainagoel/Downloads/llm/.conda/lib/python3.11/site-packages (from langsmith>=0.1.17->langchain) (1.0.0)\n",
      "Requirement already satisfied: zstandard<0.24.0,>=0.23.0 in /Users/sunainagoel/Downloads/llm/.conda/lib/python3.11/site-packages (from langsmith>=0.1.17->langchain) (0.23.0)\n",
      "Note: you may need to restart the kernel to use updated packages.\n"
     ]
    }
   ],
   "source": [
    "pip install langchain langchain-community langchain-groq python-dotenv"
   ]
  },
  {
   "cell_type": "code",
   "execution_count": 5,
   "id": "2af35067",
   "metadata": {},
   "outputs": [
    {
     "name": "stdout",
     "output_type": "stream",
     "text": [
      "Web-Browsing Agent\n",
      "\n",
      "\n",
      "Performing web search...\n",
      "\n",
      "Answer:\n",
      " content='To find the current weather in Delhi, you can check the following websites:\\n\\n1. Accuweather: https://www.accuweather.com/en/in/delhi/202396/weather-forecast/202396\\n2. Weather and Radar: https://www.weatherandradar.in/weather/delhi/18252928\\n3. BBC Weather: https://www.bbc.com/weather/1261481\\n\\nPlease visit one of these websites for the most up-to-date and accurate information on the current weather in Delhi.' additional_kwargs={} response_metadata={'token_usage': {'completion_tokens': 106, 'prompt_tokens': 133, 'total_tokens': 239, 'completion_time': 0.203619932, 'prompt_time': 0.013961432, 'queue_time': 0.051102017, 'total_time': 0.217581364}, 'model_name': 'llama-3.3-70b-versatile', 'system_fingerprint': 'fp_2ddfbb0da0', 'service_tier': 'on_demand', 'finish_reason': 'stop', 'logprobs': None} id='run--c8625872-dd03-4727-8181-aec9ace0a9da-0' usage_metadata={'input_tokens': 133, 'output_tokens': 106, 'total_tokens': 239}\n"
     ]
    }
   ],
   "source": [
    "import requests\n",
    "import json\n",
    "from langchain_core.prompts import PromptTemplate\n",
    "from langchain.chat_models import init_chat_model\n",
    "\n",
    "llm = init_chat_model(\"llama-3.3-70b-versatile\", model_provider=\"groq\")\n",
    "\n",
    "base_prompt = PromptTemplate.from_template(\n",
    "    \"Answer the following question concisely and accurately:\\n\\nQuestion: {question}\"\n",
    ")\n",
    "\n",
    "web_prompt = PromptTemplate.from_template(\n",
    "    \"You are given the following web search results:\\n\\n{web_content}\\n\\nUse them to answer the following question:\\n\\nQuestion: {question}\"\n",
    ")\n",
    "\n",
    "def web_search(query: str) -> str:\n",
    "    url = \"https://google.serper.dev/search\"\n",
    "    headers = {\n",
    "        \"X-API-KEY\": os.environ.get(\"SERPER_API_KEY\"),\n",
    "        \"Content-Type\": \"application/json\"\n",
    "    }\n",
    "    payload = {\n",
    "        \"q\": query,\n",
    "        \"gl\": \"in\"\n",
    "    }\n",
    "\n",
    "    response = requests.post(url, headers=headers, json=payload)\n",
    "\n",
    "    data_dict = response.json()\n",
    "    organic_results = data_dict.get('organic', [])\n",
    "\n",
    "    return \"\\n\\n\".join([\n",
    "        f\"{item.get('title', '')}\\n{item.get('link', '')}\"\n",
    "        for item in organic_results[:3]\n",
    "    ])\n",
    "\n",
    "def needs_web_search(query: str) -> bool:\n",
    "    trigger_keywords = [\"weather\", \"news\", \"today\", \"latest\", \"now\", \"current\",\n",
    "        \"temperature\", \"score\", \"headlines\", \"update\", \"live\", \"price\", \"stock\"]\n",
    "    return any(word in query.lower() for word in trigger_keywords)\n",
    "\n",
    "def web_browsing_agent(question: str) -> str:\n",
    "    if needs_web_search(question):\n",
    "        print(\"\\nPerforming web search...\")\n",
    "        web_content = web_search(question)\n",
    "        final_prompt = web_prompt.format(web_content=web_content, question=question)\n",
    "    else:\n",
    "        print(\"\\nUsing Groq LLM knowledge only...\")\n",
    "        final_prompt = base_prompt.format(question=question)\n",
    "\n",
    "    return llm.invoke(final_prompt)\n",
    "\n",
    "\n",
    "print(\"Web-Browsing Agent\\n\")\n",
    "question = \"What is the weather in Delhi today?\"\n",
    "answer = web_browsing_agent(question)\n",
    "print(\"\\nAnswer:\\n\", answer)"
   ]
  },
  {
   "cell_type": "code",
   "execution_count": 7,
   "id": "61538979",
   "metadata": {},
   "outputs": [
    {
     "name": "stdout",
     "output_type": "stream",
     "text": [
      "Web-Browsing Agent\n",
      "\n",
      "\n",
      "Using Groq LLM knowledge only...\n",
      "\n",
      "Answer:\n",
      " content='Argentina won the 2022 FIFA World Cup, defeating France 4-2 in a penalty shootout after the match ended 3-3 after extra time.' additional_kwargs={} response_metadata={'token_usage': {'completion_tokens': 33, 'prompt_tokens': 57, 'total_tokens': 90, 'completion_time': 0.024480913, 'prompt_time': 0.021284554, 'queue_time': 0.047035286, 'total_time': 0.045765467}, 'model_name': 'llama-3.3-70b-versatile', 'system_fingerprint': 'fp_2ddfbb0da0', 'service_tier': 'on_demand', 'finish_reason': 'stop', 'logprobs': None} id='run--47fe624b-456b-4ac6-9fac-266063990433-0' usage_metadata={'input_tokens': 57, 'output_tokens': 33, 'total_tokens': 90}\n"
     ]
    }
   ],
   "source": [
    "print(\"Web-Browsing Agent\\n\")\n",
    "question = \"Who won the world cup in 2022?\"\n",
    "answer = web_browsing_agent(question)\n",
    "print(\"\\nAnswer:\\n\", answer)"
   ]
  }
 ],
 "metadata": {
  "kernelspec": {
   "display_name": "Python 3",
   "language": "python",
   "name": "python3"
  },
  "language_info": {
   "codemirror_mode": {
    "name": "ipython",
    "version": 3
   },
   "file_extension": ".py",
   "mimetype": "text/x-python",
   "name": "python",
   "nbconvert_exporter": "python",
   "pygments_lexer": "ipython3",
   "version": "3.11.13"
  }
 },
 "nbformat": 4,
 "nbformat_minor": 5
}
