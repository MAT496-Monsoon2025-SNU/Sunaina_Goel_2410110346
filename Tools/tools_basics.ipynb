{
 "cells": [
  {
   "cell_type": "code",
   "execution_count": 26,
   "id": "ebc8be3a",
   "metadata": {},
   "outputs": [
    {
     "data": {
      "text/plain": [
       "True"
      ]
     },
     "execution_count": 26,
     "metadata": {},
     "output_type": "execute_result"
    }
   ],
   "source": [
    "from dotenv import load_dotenv\n",
    "load_dotenv(override=True)"
   ]
  },
  {
   "cell_type": "code",
   "execution_count": 27,
   "id": "c0c912d1",
   "metadata": {},
   "outputs": [],
   "source": [
    "import getpass\n",
    "import os\n",
    "\n",
    "if not os.environ.get(\"GROQ_API_KEY\"):\n",
    "  os.environ[\"GROQ_API_KEY\"] = getpass.getpass(\"Enter API key for Groq: \")\n",
    "\n",
    "from langchain.chat_models import init_chat_model\n",
    "\n",
    "llm = init_chat_model(\"llama-3.3-70b-versatile\", model_provider=\"groq\")"
   ]
  },
  {
   "cell_type": "code",
   "execution_count": 28,
   "id": "f87a0525",
   "metadata": {},
   "outputs": [
    {
     "name": "stdout",
     "output_type": "stream",
     "text": [
      "multiply\n",
      "Multiply two numbers.\n",
      "{'a': {'title': 'A', 'type': 'number'}, 'b': {'title': 'B', 'type': 'number'}}\n"
     ]
    }
   ],
   "source": [
    "from langchain_core.tools import tool\n",
    "\n",
    "\n",
    "@tool\n",
    "def multiply(a: float, b: float) -> float:\n",
    "    \"\"\"Multiply two numbers.\"\"\"\n",
    "    return a * b\n",
    "\n",
    "\n",
    "# Let's inspect some of the attributes associated with the tool.\n",
    "print(multiply.name)\n",
    "print(multiply.description)\n",
    "print(multiply.args)"
   ]
  },
  {
   "cell_type": "code",
   "execution_count": 29,
   "id": "c6bfa91f",
   "metadata": {},
   "outputs": [],
   "source": [
    "tools_list = [multiply]\n",
    "tools_dict = {t.name: t for t in tools_list} # comes in handy at the time of invokation"
   ]
  },
  {
   "cell_type": "code",
   "execution_count": 30,
   "id": "807bf67f",
   "metadata": {},
   "outputs": [],
   "source": [
    "# we create a tool calling Agent by binding a list of tools to the llm\n",
    "\n",
    "llm_with_tools = llm.bind_tools(tools_list)"
   ]
  },
  {
   "cell_type": "code",
   "execution_count": 31,
   "id": "e69d60ca",
   "metadata": {},
   "outputs": [
    {
     "data": {
      "text/plain": [
       "AIMessage(content='', additional_kwargs={'tool_calls': [{'id': 'zngz92he6', 'function': {'arguments': '{\"a\":10,\"b\":40}', 'name': 'multiply'}, 'type': 'function'}]}, response_metadata={'token_usage': {'completion_tokens': 19, 'prompt_tokens': 220, 'total_tokens': 239, 'completion_time': 0.070231139, 'prompt_time': 0.024965048, 'queue_time': 0.047254152, 'total_time': 0.095196187}, 'model_name': 'llama-3.3-70b-versatile', 'system_fingerprint': 'fp_2ddfbb0da0', 'service_tier': 'on_demand', 'finish_reason': 'tool_calls', 'logprobs': None}, id='run--6567cbc4-9113-4d39-a8e5-260151e17b17-0', tool_calls=[{'name': 'multiply', 'args': {'a': 10, 'b': 40}, 'id': 'zngz92he6', 'type': 'tool_call'}], usage_metadata={'input_tokens': 220, 'output_tokens': 19, 'total_tokens': 239})"
      ]
     },
     "execution_count": 31,
     "metadata": {},
     "output_type": "execute_result"
    }
   ],
   "source": [
    "response1 = llm_with_tools.invoke(\"What is 10 times 40?\")\n",
    "\n",
    "response1"
   ]
  },
  {
   "cell_type": "code",
   "execution_count": 32,
   "id": "90f180ef",
   "metadata": {},
   "outputs": [
    {
     "data": {
      "text/plain": [
       "[{'name': 'multiply',\n",
       "  'args': {'a': 10, 'b': 40},\n",
       "  'id': 'zngz92he6',\n",
       "  'type': 'tool_call'}]"
      ]
     },
     "execution_count": 32,
     "metadata": {},
     "output_type": "execute_result"
    }
   ],
   "source": [
    "response1.tool_calls"
   ]
  },
  {
   "cell_type": "code",
   "execution_count": 33,
   "id": "694dba7d",
   "metadata": {},
   "outputs": [
    {
     "data": {
      "text/plain": [
       "ToolMessage(content='400.0', name='multiply', tool_call_id='zngz92he6')"
      ]
     },
     "execution_count": 33,
     "metadata": {},
     "output_type": "execute_result"
    }
   ],
   "source": [
    "tools_dict[response1.tool_calls[0][\"name\"]].invoke(response1.tool_calls[0])"
   ]
  },
  {
   "cell_type": "markdown",
   "id": "27712e4d",
   "metadata": {},
   "source": [
    "SELF-EXERCISE"
   ]
  },
  {
   "cell_type": "code",
   "execution_count": 34,
   "id": "fa941412",
   "metadata": {},
   "outputs": [],
   "source": [
    "# Exercise: Modify the prompt in various ways\n",
    "#addition tool\n",
    "@tool\n",
    "def addition(a: float, b: float) -> float:\n",
    "    \"\"\"Add two numbers.\"\"\"\n",
    "    return a + b\n",
    "\n",
    "@tool\n",
    "def subtraction(a: float, b: float) -> float:\n",
    "    \"\"\"Subtract two numbers.\"\"\"\n",
    "    return a - b\n",
    "\n",
    "@tool\n",
    "def multiply(a: float, b: float) -> float:\n",
    "    \"\"\"Multiply two numbers.\"\"\"\n",
    "    return a * b\n",
    "\n",
    "@tool\n",
    "def division(a: float, b: float) -> float:\n",
    "    \"\"\"Divide two numbers.\"\"\"\n",
    "    return a / b\n",
    "\n",
    "tools_list = [addition, subtraction, multiply, division]\n",
    "tools_dict = {tool.name: tool for tool in tools_list}\n",
    "llm_with_tools = llm.bind_tools(tools_list)"
   ]
  },
  {
   "cell_type": "code",
   "execution_count": 35,
   "id": "cb60a455",
   "metadata": {},
   "outputs": [
    {
     "data": {
      "text/plain": [
       "ToolMessage(content='400.0', name='multiply', tool_call_id='639yn7ejj')"
      ]
     },
     "execution_count": 35,
     "metadata": {},
     "output_type": "execute_result"
    }
   ],
   "source": [
    "response1 = llm_with_tools.invoke(\"What is 10 times 40?\")\n",
    "response1.tool_calls\n",
    "tools_dict[response1.tool_calls[0][\"name\"]].invoke(response1.tool_calls[0])"
   ]
  },
  {
   "cell_type": "code",
   "execution_count": 36,
   "id": "0daed0e3",
   "metadata": {},
   "outputs": [
    {
     "data": {
      "text/plain": [
       "ToolMessage(content='50.0', name='addition', tool_call_id='jy8mcb5v3')"
      ]
     },
     "execution_count": 36,
     "metadata": {},
     "output_type": "execute_result"
    }
   ],
   "source": [
    "response2 = llm_with_tools.invoke(\"What is the sum of 10 and 40?\")\n",
    "response2.tool_calls\n",
    "\n",
    "tools_dict[response2.tool_calls[0][\"name\"]].invoke(response2.tool_calls[0])"
   ]
  },
  {
   "cell_type": "code",
   "execution_count": 37,
   "id": "23795033",
   "metadata": {},
   "outputs": [
    {
     "data": {
      "text/plain": [
       "ToolMessage(content='30.0', name='subtraction', tool_call_id='x8a3rrt4h')"
      ]
     },
     "execution_count": 37,
     "metadata": {},
     "output_type": "execute_result"
    }
   ],
   "source": [
    "response3 = llm_with_tools.invoke(\"What is the difference between 10 and 40?\")\n",
    "\n",
    "response3.tool_calls\n",
    "tools_dict[response3.tool_calls[0][\"name\"]].invoke(response3.tool_calls[0])"
   ]
  },
  {
   "cell_type": "code",
   "execution_count": 38,
   "id": "b459ae5c",
   "metadata": {},
   "outputs": [
    {
     "data": {
      "text/plain": [
       "ToolMessage(content='0.25', name='division', tool_call_id='m5nb0hkde')"
      ]
     },
     "execution_count": 38,
     "metadata": {},
     "output_type": "execute_result"
    }
   ],
   "source": [
    "response4 = llm_with_tools.invoke(\"What is 10 divided by 40?\")\n",
    "\n",
    "response4.tool_calls\n",
    "tools_dict[response4.tool_calls[0][\"name\"]].invoke(response4.tool_calls[0])"
   ]
  }
 ],
 "metadata": {
  "kernelspec": {
   "display_name": "Python 3",
   "language": "python",
   "name": "python3"
  },
  "language_info": {
   "codemirror_mode": {
    "name": "ipython",
    "version": 3
   },
   "file_extension": ".py",
   "mimetype": "text/x-python",
   "name": "python",
   "nbconvert_exporter": "python",
   "pygments_lexer": "ipython3",
   "version": "3.11.13"
  }
 },
 "nbformat": 4,
 "nbformat_minor": 5
}
