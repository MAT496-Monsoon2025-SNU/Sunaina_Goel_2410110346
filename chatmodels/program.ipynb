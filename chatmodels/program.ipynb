{
 "cells": [
  {
   "cell_type": "code",
   "execution_count": 10,
   "id": "e6e0ddb6",
   "metadata": {},
   "outputs": [
    {
     "data": {
      "text/plain": [
       "True"
      ]
     },
     "execution_count": 10,
     "metadata": {},
     "output_type": "execute_result"
    }
   ],
   "source": [
    "from dotenv import load_dotenv\n",
    "load_dotenv()"
   ]
  },
  {
   "cell_type": "code",
   "execution_count": 11,
   "id": "fd24512c",
   "metadata": {},
   "outputs": [
    {
     "name": "stdout",
     "output_type": "stream",
     "text": [
      "zsh:1: /Users/sunainagoel/Downloads/llm/.conda/bin/pip: bad interpreter: /Users/sunainagoel/llm/.conda/bin/python3.11: no such file or directory\n"
     ]
    }
   ],
   "source": [
    "!pip install -qU \"langchain[groq]\""
   ]
  },
  {
   "cell_type": "code",
   "execution_count": 12,
   "id": "4a94ea3a",
   "metadata": {},
   "outputs": [],
   "source": [
    "from langchain.chat_models import init_chat_model\n",
    "\n",
    "model = init_chat_model(\"llama-3.3-70b-versatile\", model_provider=\"groq\")"
   ]
  },
  {
   "cell_type": "code",
   "execution_count": 13,
   "id": "a07cb560",
   "metadata": {},
   "outputs": [
    {
     "data": {
      "text/plain": [
       "AIMessage(content=\"Not much! Just here and ready to chat. Is there something on your mind that you'd like to talk about or ask about? I'm all ears (or rather, all text).\", additional_kwargs={}, response_metadata={'token_usage': {'completion_tokens': 39, 'prompt_tokens': 38, 'total_tokens': 77, 'completion_time': 0.091461982, 'prompt_time': 0.020265785, 'queue_time': 0.051146145, 'total_time': 0.111727767}, 'model_name': 'llama-3.3-70b-versatile', 'system_fingerprint': 'fp_3f3b593e33', 'service_tier': 'on_demand', 'finish_reason': 'stop', 'logprobs': None}, id='run--62e0a457-e556-4162-87f4-8d3db680c1db-0', usage_metadata={'input_tokens': 38, 'output_tokens': 39, 'total_tokens': 77})"
      ]
     },
     "execution_count": 13,
     "metadata": {},
     "output_type": "execute_result"
    }
   ],
   "source": [
    "# A simple model call\n",
    "\n",
    "model.invoke(\"Whats up?\")"
   ]
  },
  {
   "cell_type": "code",
   "execution_count": 14,
   "id": "53443049",
   "metadata": {},
   "outputs": [
    {
     "data": {
      "text/plain": [
       "AIMessage(content='I\\'m an artificial intelligence model known as Llama. Llama stands for \"Large Language Model Meta AI.\"', additional_kwargs={}, response_metadata={'token_usage': {'completion_tokens': 23, 'prompt_tokens': 39, 'total_tokens': 62, 'completion_time': 0.021159412, 'prompt_time': 0.01059571, 'queue_time': 0.05165644, 'total_time': 0.031755122}, 'model_name': 'llama-3.3-70b-versatile', 'system_fingerprint': 'fp_2ddfbb0da0', 'service_tier': 'on_demand', 'finish_reason': 'stop', 'logprobs': None}, id='run--82183fa5-a4f5-4d5b-962e-59eb566e8bab-0', usage_metadata={'input_tokens': 39, 'output_tokens': 23, 'total_tokens': 62})"
      ]
     },
     "execution_count": 14,
     "metadata": {},
     "output_type": "execute_result"
    }
   ],
   "source": [
    "model.invoke(\"Who are you?\")"
   ]
  },
  {
   "cell_type": "code",
   "execution_count": 24,
   "id": "d3f6bbba",
   "metadata": {},
   "outputs": [
    {
     "data": {
      "text/plain": [
       "AIMessage(content='**Matrix Multiplication in Python**\\n=====================================\\n\\nThe following Python code defines a function `matrix_multiply` that takes two matrices as input and returns their product. It checks if the matrices are compatible for multiplication and raises an exception if they are not.\\n\\n```python\\nimport numpy as np\\n\\ndef matrix_multiply(A, B):\\n    \"\"\"\\n    Multiply two matrices A and B.\\n\\n    Args:\\n        A (list of lists): The first matrix.\\n        B (list of lists): The second matrix.\\n\\n    Returns:\\n        list of lists: The product of A and B.\\n\\n    Raises:\\n        ValueError: If the matrices are not compatible for multiplication.\\n    \"\"\"\\n    # Get the dimensions of the matrices\\n    num_rows_A = len(A)\\n    num_cols_A = len(A[0])\\n    num_rows_B = len(B)\\n    num_cols_B = len(B[0])\\n\\n    # Check if the matrices are compatible for multiplication\\n    if num_cols_A != num_rows_B:\\n        raise ValueError(\"Matrices are not compatible for multiplication\")\\n\\n    # Initialize the result matrix with zeros\\n    C = [[0 for _ in range(num_cols_B)] for _ in range(num_rows_A)]\\n\\n    # Perform matrix multiplication\\n    for i in range(num_rows_A):\\n        for j in range(num_cols_B):\\n            for k in range(num_cols_A):\\n                C[i][j] += A[i][k] * B[k][j]\\n\\n    return C\\n\\ndef main():\\n    # Example usage:\\n    A = [[1, 2, 3], [4, 5, 6]]\\n    B = [[7, 8], [9, 10], [11, 12]]\\n    try:\\n        C = matrix_multiply(A, B)\\n        print(\"Matrix A:\")\\n        for row in A:\\n            print(row)\\n        print(\"Matrix B:\")\\n        for row in B:\\n            print(row)\\n        print(\"Matrix A * Matrix B:\")\\n        for row in C:\\n            print(row)\\n    except ValueError as e:\\n        print(e)\\n\\n    # Example of incompatible matrices:\\n    A = [[1, 2], [3, 4]]\\n    B = [[5, 6, 7], [8, 9, 10], [11, 12, 13]]\\n    try:\\n        C = matrix_multiply(A, B)\\n        print(\"Matrix A * Matrix B:\")\\n        for row in C:\\n            print(row)\\n    except ValueError as e:\\n        print(e)\\n\\nif __name__ == \"__main__\":\\n    main()\\n```\\n\\nThis code defines a function `matrix_multiply` that takes two matrices `A` and `B` as input and returns their product. It first checks if the matrices are compatible for multiplication by comparing the number of columns in `A` with the number of rows in `B`. If they are not compatible, it raises a `ValueError`.\\n\\nThe `main` function demonstrates the usage of `matrix_multiply` with two examples: one with compatible matrices and one with incompatible matrices.\\n\\n**Using NumPy for Matrix Multiplication**\\n----------------------------------------\\n\\nAlternatively, you can use the NumPy library, which provides an efficient and convenient way to perform matrix multiplication. Here\\'s an example:\\n\\n```python\\nimport numpy as np\\n\\ndef matrix_multiply(A, B):\\n    try:\\n        return np.matmul(A, B)\\n    except ValueError as e:\\n        raise ValueError(\"Matrices are not compatible for multiplication\") from e\\n\\ndef main():\\n    # Example usage:\\n    A = np.array([[1, 2, 3], [4, 5, 6]])\\n    B = np.array([[7, 8], [9, 10], [11, 12]])\\n    try:\\n        C = matrix_multiply(A, B)\\n        print(\"Matrix A:\")\\n        print(A)\\n        print(\"Matrix B:\")\\n        print(B)\\n        print(\"Matrix A * Matrix B:\")\\n        print(C)\\n    except ValueError as e:\\n        print(e)\\n\\nif __name__ == \"__main__\":\\n    main()\\n```\\n\\nThis code uses the `np.matmul` function to perform matrix multiplication. If the matrices are not compatible, it raises a `ValueError`.', additional_kwargs={}, response_metadata={'token_usage': {'completion_tokens': 856, 'prompt_tokens': 66, 'total_tokens': 922, 'completion_time': 1.499172306, 'prompt_time': 0.019904778, 'queue_time': 0.050903981, 'total_time': 1.519077084}, 'model_name': 'llama-3.3-70b-versatile', 'system_fingerprint': 'fp_2ddfbb0da0', 'service_tier': 'on_demand', 'finish_reason': 'stop', 'logprobs': None}, id='run--52d2e94c-f86d-44c8-96d2-a04bc0746526-0', usage_metadata={'input_tokens': 66, 'output_tokens': 856, 'total_tokens': 922})"
      ]
     },
     "execution_count": 24,
     "metadata": {},
     "output_type": "execute_result"
    }
   ],
   "source": [
    "response = model.invoke(\"\"\" Write a python code which can multiply two matrix of arbitrary but compatible order. The code should throw exception if the matrix dimentsions are not compatible for multiplication\"\"\")\n",
    "\n",
    "response"
   ]
  },
  {
   "cell_type": "code",
   "execution_count": 25,
   "id": "6fa9988c",
   "metadata": {},
   "outputs": [
    {
     "name": "stdout",
     "output_type": "stream",
     "text": [
      "**Matrix Multiplication in Python**\n",
      "=====================================\n",
      "\n",
      "The following Python code defines a function `matrix_multiply` that takes two matrices as input and returns their product. It checks if the matrices are compatible for multiplication and raises an exception if they are not.\n",
      "\n",
      "```python\n",
      "import numpy as np\n",
      "\n",
      "def matrix_multiply(A, B):\n",
      "    \"\"\"\n",
      "    Multiply two matrices A and B.\n",
      "\n",
      "    Args:\n",
      "        A (list of lists): The first matrix.\n",
      "        B (list of lists): The second matrix.\n",
      "\n",
      "    Returns:\n",
      "        list of lists: The product of A and B.\n",
      "\n",
      "    Raises:\n",
      "        ValueError: If the matrices are not compatible for multiplication.\n",
      "    \"\"\"\n",
      "    # Get the dimensions of the matrices\n",
      "    num_rows_A = len(A)\n",
      "    num_cols_A = len(A[0])\n",
      "    num_rows_B = len(B)\n",
      "    num_cols_B = len(B[0])\n",
      "\n",
      "    # Check if the matrices are compatible for multiplication\n",
      "    if num_cols_A != num_rows_B:\n",
      "        raise ValueError(\"Matrices are not compatible for multiplication\")\n",
      "\n",
      "    # Initialize the result matrix with zeros\n",
      "    C = [[0 for _ in range(num_cols_B)] for _ in range(num_rows_A)]\n",
      "\n",
      "    # Perform matrix multiplication\n",
      "    for i in range(num_rows_A):\n",
      "        for j in range(num_cols_B):\n",
      "            for k in range(num_cols_A):\n",
      "                C[i][j] += A[i][k] * B[k][j]\n",
      "\n",
      "    return C\n",
      "\n",
      "def main():\n",
      "    # Example usage:\n",
      "    A = [[1, 2, 3], [4, 5, 6]]\n",
      "    B = [[7, 8], [9, 10], [11, 12]]\n",
      "    try:\n",
      "        C = matrix_multiply(A, B)\n",
      "        print(\"Matrix A:\")\n",
      "        for row in A:\n",
      "            print(row)\n",
      "        print(\"Matrix B:\")\n",
      "        for row in B:\n",
      "            print(row)\n",
      "        print(\"Matrix A * Matrix B:\")\n",
      "        for row in C:\n",
      "            print(row)\n",
      "    except ValueError as e:\n",
      "        print(e)\n",
      "\n",
      "    # Example of incompatible matrices:\n",
      "    A = [[1, 2], [3, 4]]\n",
      "    B = [[5, 6, 7], [8, 9, 10], [11, 12, 13]]\n",
      "    try:\n",
      "        C = matrix_multiply(A, B)\n",
      "        print(\"Matrix A * Matrix B:\")\n",
      "        for row in C:\n",
      "            print(row)\n",
      "    except ValueError as e:\n",
      "        print(e)\n",
      "\n",
      "if __name__ == \"__main__\":\n",
      "    main()\n",
      "```\n",
      "\n",
      "This code defines a function `matrix_multiply` that takes two matrices `A` and `B` as input and returns their product. It first checks if the matrices are compatible for multiplication by comparing the number of columns in `A` with the number of rows in `B`. If they are not compatible, it raises a `ValueError`.\n",
      "\n",
      "The `main` function demonstrates the usage of `matrix_multiply` with two examples: one with compatible matrices and one with incompatible matrices.\n",
      "\n",
      "**Using NumPy for Matrix Multiplication**\n",
      "----------------------------------------\n",
      "\n",
      "Alternatively, you can use the NumPy library, which provides an efficient and convenient way to perform matrix multiplication. Here's an example:\n",
      "\n",
      "```python\n",
      "import numpy as np\n",
      "\n",
      "def matrix_multiply(A, B):\n",
      "    try:\n",
      "        return np.matmul(A, B)\n",
      "    except ValueError as e:\n",
      "        raise ValueError(\"Matrices are not compatible for multiplication\") from e\n",
      "\n",
      "def main():\n",
      "    # Example usage:\n",
      "    A = np.array([[1, 2, 3], [4, 5, 6]])\n",
      "    B = np.array([[7, 8], [9, 10], [11, 12]])\n",
      "    try:\n",
      "        C = matrix_multiply(A, B)\n",
      "        print(\"Matrix A:\")\n",
      "        print(A)\n",
      "        print(\"Matrix B:\")\n",
      "        print(B)\n",
      "        print(\"Matrix A * Matrix B:\")\n",
      "        print(C)\n",
      "    except ValueError as e:\n",
      "        print(e)\n",
      "\n",
      "if __name__ == \"__main__\":\n",
      "    main()\n",
      "```\n",
      "\n",
      "This code uses the `np.matmul` function to perform matrix multiplication. If the matrices are not compatible, it raises a `ValueError`.\n"
     ]
    }
   ],
   "source": [
    "print(response.content)"
   ]
  },
  {
   "cell_type": "code",
   "execution_count": 26,
   "id": "4fc2cd0f",
   "metadata": {},
   "outputs": [
    {
     "data": {
      "text/plain": [
       "AIMessage(content='হাই!', additional_kwargs={}, response_metadata={'token_usage': {'completion_tokens': 6, 'prompt_tokens': 45, 'total_tokens': 51, 'completion_time': 0.001423241, 'prompt_time': 0.011386091, 'queue_time': 0.046855359, 'total_time': 0.012809332}, 'model_name': 'llama-3.3-70b-versatile', 'system_fingerprint': 'fp_2ddfbb0da0', 'service_tier': 'on_demand', 'finish_reason': 'stop', 'logprobs': None}, id='run--5662460a-a9d7-4988-86c1-572af0876df8-0', usage_metadata={'input_tokens': 45, 'output_tokens': 6, 'total_tokens': 51})"
      ]
     },
     "execution_count": 26,
     "metadata": {},
     "output_type": "execute_result"
    }
   ],
   "source": [
    "# invoking to build a converstation style call\n",
    "\n",
    "from langchain_core.messages import HumanMessage, SystemMessage\n",
    "\n",
    "messages = [\n",
    "    SystemMessage(\"Translate the following from English into Bengali\"), # try punjabi, or any other Indian language\n",
    "    HumanMessage(\"hi!\"),\n",
    "]\n",
    "\n",
    "model.invoke(messages)"
   ]
  },
  {
   "cell_type": "code",
   "execution_count": 27,
   "id": "db5014c4",
   "metadata": {},
   "outputs": [
    {
     "data": {
      "text/plain": [
       "AIMessage(content='**Finding the Maximum of n Numbers in Python**\\n====================================================\\n\\nHere\\'s a simple Python function that finds the maximum of n numbers:\\n\\n```python\\ndef find_max(numbers):\\n    \"\"\"\\n    Finds the maximum of a list of numbers.\\n\\n    Args:\\n        numbers (list): A list of numbers.\\n\\n    Returns:\\n        int: The maximum number in the list.\\n    \"\"\"\\n    return max(numbers)\\n\\n# Example usage:\\nnumbers = [12, 45, 7, 23, 56, 89, 34]\\nmax_number = find_max(numbers)\\nprint(\"The maximum number is:\", max_number)\\n```\\n\\n**Alternative Implementation without Built-in `max` Function**\\n-----------------------------------------------------------\\n\\nIf you want to implement the maximum finding logic manually, you can use the following code:\\n\\n```python\\ndef find_max_manual(numbers):\\n    \"\"\"\\n    Finds the maximum of a list of numbers manually.\\n\\n    Args:\\n        numbers (list): A list of numbers.\\n\\n    Returns:\\n        int: The maximum number in the list.\\n    \"\"\"\\n    max_num = numbers[0]\\n    for num in numbers[1:]:\\n        if num > max_num:\\n            max_num = num\\n    return max_num\\n\\n# Example usage:\\nnumbers = [12, 45, 7, 23, 56, 89, 34]\\nmax_number = find_max_manual(numbers)\\nprint(\"The maximum number is:\", max_number)\\n```\\n\\n**Using NumPy Library**\\n----------------------\\n\\nIf you\\'re working with large datasets, you can use the NumPy library to find the maximum number:\\n\\n```python\\nimport numpy as np\\n\\ndef find_max_numpy(numbers):\\n    \"\"\"\\n    Finds the maximum of a list of numbers using NumPy.\\n\\n    Args:\\n        numbers (list): A list of numbers.\\n\\n    Returns:\\n        int: The maximum number in the list.\\n    \"\"\"\\n    return np.max(numbers)\\n\\n# Example usage:\\nnumbers = [12, 45, 7, 23, 56, 89, 34]\\nmax_number = find_max_numpy(numbers)\\nprint(\"The maximum number is:\", max_number)\\n```', additional_kwargs={}, response_metadata={'token_usage': {'completion_tokens': 427, 'prompt_tokens': 47, 'total_tokens': 474, 'completion_time': 0.772606825, 'prompt_time': 0.011271822, 'queue_time': 0.051135568, 'total_time': 0.783878647}, 'model_name': 'llama-3.3-70b-versatile', 'system_fingerprint': 'fp_2ddfbb0da0', 'service_tier': 'on_demand', 'finish_reason': 'stop', 'logprobs': None}, id='run--e7e5a1fa-73f1-45db-98ed-d6fe6241b976-0', usage_metadata={'input_tokens': 47, 'output_tokens': 427, 'total_tokens': 474})"
      ]
     },
     "execution_count": 27,
     "metadata": {},
     "output_type": "execute_result"
    }
   ],
   "source": [
    "messages = [\n",
    "    SystemMessage(\"Generate python code for given tasks\"),\n",
    "    HumanMessage(\"Find max of given n numbers\"),\n",
    "]\n",
    "\n",
    "response = model.invoke(messages)\n",
    "\n",
    "response"
   ]
  },
  {
   "cell_type": "code",
   "execution_count": 28,
   "id": "a684a02a",
   "metadata": {},
   "outputs": [
    {
     "name": "stdout",
     "output_type": "stream",
     "text": [
      "**Finding the Maximum of n Numbers in Python**\n",
      "====================================================\n",
      "\n",
      "Here's a simple Python function that finds the maximum of n numbers:\n",
      "\n",
      "```python\n",
      "def find_max(numbers):\n",
      "    \"\"\"\n",
      "    Finds the maximum of a list of numbers.\n",
      "\n",
      "    Args:\n",
      "        numbers (list): A list of numbers.\n",
      "\n",
      "    Returns:\n",
      "        int: The maximum number in the list.\n",
      "    \"\"\"\n",
      "    return max(numbers)\n",
      "\n",
      "# Example usage:\n",
      "numbers = [12, 45, 7, 23, 56, 89, 34]\n",
      "max_number = find_max(numbers)\n",
      "print(\"The maximum number is:\", max_number)\n",
      "```\n",
      "\n",
      "**Alternative Implementation without Built-in `max` Function**\n",
      "-----------------------------------------------------------\n",
      "\n",
      "If you want to implement the maximum finding logic manually, you can use the following code:\n",
      "\n",
      "```python\n",
      "def find_max_manual(numbers):\n",
      "    \"\"\"\n",
      "    Finds the maximum of a list of numbers manually.\n",
      "\n",
      "    Args:\n",
      "        numbers (list): A list of numbers.\n",
      "\n",
      "    Returns:\n",
      "        int: The maximum number in the list.\n",
      "    \"\"\"\n",
      "    max_num = numbers[0]\n",
      "    for num in numbers[1:]:\n",
      "        if num > max_num:\n",
      "            max_num = num\n",
      "    return max_num\n",
      "\n",
      "# Example usage:\n",
      "numbers = [12, 45, 7, 23, 56, 89, 34]\n",
      "max_number = find_max_manual(numbers)\n",
      "print(\"The maximum number is:\", max_number)\n",
      "```\n",
      "\n",
      "**Using NumPy Library**\n",
      "----------------------\n",
      "\n",
      "If you're working with large datasets, you can use the NumPy library to find the maximum number:\n",
      "\n",
      "```python\n",
      "import numpy as np\n",
      "\n",
      "def find_max_numpy(numbers):\n",
      "    \"\"\"\n",
      "    Finds the maximum of a list of numbers using NumPy.\n",
      "\n",
      "    Args:\n",
      "        numbers (list): A list of numbers.\n",
      "\n",
      "    Returns:\n",
      "        int: The maximum number in the list.\n",
      "    \"\"\"\n",
      "    return np.max(numbers)\n",
      "\n",
      "# Example usage:\n",
      "numbers = [12, 45, 7, 23, 56, 89, 34]\n",
      "max_number = find_max_numpy(numbers)\n",
      "print(\"The maximum number is:\", max_number)\n",
      "```\n"
     ]
    }
   ],
   "source": [
    "print(response.content)\n"
   ]
  },
  {
   "cell_type": "code",
   "execution_count": 29,
   "id": "5d00a8f2",
   "metadata": {},
   "outputs": [
    {
     "name": "stdout",
     "output_type": "stream",
     "text": [
      "|It|'s| nice| to| meet| you|.| Is| there| something| I| can| help| you| with| or| would| you| like| to| chat|?||"
     ]
    }
   ],
   "source": [
    "# streaming example\n",
    "import time\n",
    "\n",
    "for token in model.stream(\"hi\"):\n",
    "    time.sleep(0.1)\n",
    "    print(token.content, end=\"|\")"
   ]
  },
  {
   "cell_type": "code",
   "execution_count": 30,
   "id": "763bdb64",
   "metadata": {},
   "outputs": [
    {
     "data": {
      "text/plain": [
       "AIMessage(content='Hello. How can I assist you today?', additional_kwargs={}, response_metadata={'token_usage': {'completion_tokens': 10, 'prompt_tokens': 36, 'total_tokens': 46, 'completion_time': 0.009872779, 'prompt_time': 0.015498366, 'queue_time': 0.045781764, 'total_time': 0.025371145}, 'model_name': 'llama-3.3-70b-versatile', 'system_fingerprint': 'fp_2ddfbb0da0', 'service_tier': 'on_demand', 'finish_reason': 'stop', 'logprobs': None}, id='run--102496b0-cd5c-4c96-9ed3-0d1e40d6e86c-0', usage_metadata={'input_tokens': 36, 'output_tokens': 10, 'total_tokens': 46})"
      ]
     },
     "execution_count": 30,
     "metadata": {},
     "output_type": "execute_result"
    }
   ],
   "source": [
    "model.invoke(\"Hello\")"
   ]
  },
  {
   "cell_type": "code",
   "execution_count": 31,
   "id": "aa427908",
   "metadata": {},
   "outputs": [
    {
     "data": {
      "text/plain": [
       "AIMessage(content='Hello. How can I assist you today?', additional_kwargs={}, response_metadata={'token_usage': {'completion_tokens': 10, 'prompt_tokens': 36, 'total_tokens': 46, 'completion_time': 0.010229876, 'prompt_time': 0.010386973, 'queue_time': 0.051492836, 'total_time': 0.020616849}, 'model_name': 'llama-3.3-70b-versatile', 'system_fingerprint': 'fp_2ddfbb0da0', 'service_tier': 'on_demand', 'finish_reason': 'stop', 'logprobs': None}, id='run--a9ad5aea-3793-42ad-8a54-550b5571dd62-0', usage_metadata={'input_tokens': 36, 'output_tokens': 10, 'total_tokens': 46})"
      ]
     },
     "execution_count": 31,
     "metadata": {},
     "output_type": "execute_result"
    }
   ],
   "source": [
    "model.invoke([{\"role\": \"user\", \"content\": \"Hello\"}])\n"
   ]
  },
  {
   "cell_type": "code",
   "execution_count": 32,
   "id": "49aa952b",
   "metadata": {},
   "outputs": [
    {
     "data": {
      "text/plain": [
       "AIMessage(content='Hello. How can I assist you today?', additional_kwargs={}, response_metadata={'token_usage': {'completion_tokens': 10, 'prompt_tokens': 36, 'total_tokens': 46, 'completion_time': 0.010579911, 'prompt_time': 0.01062186, 'queue_time': 0.05126464, 'total_time': 0.021201771}, 'model_name': 'llama-3.3-70b-versatile', 'system_fingerprint': 'fp_2ddfbb0da0', 'service_tier': 'on_demand', 'finish_reason': 'stop', 'logprobs': None}, id='run--7b724d27-82ea-4d2c-8b64-93a802dcf89d-0', usage_metadata={'input_tokens': 36, 'output_tokens': 10, 'total_tokens': 46})"
      ]
     },
     "execution_count": 32,
     "metadata": {},
     "output_type": "execute_result"
    }
   ],
   "source": [
    "model.invoke([HumanMessage(\"Hello\")])\n"
   ]
  },
  {
   "cell_type": "code",
   "execution_count": 33,
   "id": "4b794ff7",
   "metadata": {},
   "outputs": [
    {
     "data": {
      "text/plain": [
       "AIMessage(content=\"It's nice to meet you. Is there something I can help you with or would you like to chat?\", additional_kwargs={}, response_metadata={'token_usage': {'completion_tokens': 23, 'prompt_tokens': 36, 'total_tokens': 59, 'completion_time': 0.033958437, 'prompt_time': 0.011038576, 'queue_time': 0.044526434, 'total_time': 0.044997013}, 'model_name': 'llama-3.3-70b-versatile', 'system_fingerprint': 'fp_3f3b593e33', 'service_tier': 'on_demand', 'finish_reason': 'stop', 'logprobs': None}, id='run--1f2be961-6b43-42e5-af94-bab75aaab86c-0', usage_metadata={'input_tokens': 36, 'output_tokens': 23, 'total_tokens': 59})"
      ]
     },
     "execution_count": 33,
     "metadata": {},
     "output_type": "execute_result"
    }
   ],
   "source": [
    "model.invoke(\"hi\")"
   ]
  },
  {
   "cell_type": "code",
   "execution_count": 34,
   "id": "9954053b",
   "metadata": {},
   "outputs": [
    {
     "data": {
      "text/plain": [
       "<generator object BaseChatModel.stream at 0x107eb1540>"
      ]
     },
     "execution_count": 34,
     "metadata": {},
     "output_type": "execute_result"
    }
   ],
   "source": [
    "model.stream(\"hi\")"
   ]
  }
 ],
 "metadata": {
  "kernelspec": {
   "display_name": "Python 3",
   "language": "python",
   "name": "python3"
  },
  "language_info": {
   "codemirror_mode": {
    "name": "ipython",
    "version": 3
   },
   "file_extension": ".py",
   "mimetype": "text/x-python",
   "name": "python",
   "nbconvert_exporter": "python",
   "pygments_lexer": "ipython3",
   "version": "3.11.13"
  }
 },
 "nbformat": 4,
 "nbformat_minor": 5
}
