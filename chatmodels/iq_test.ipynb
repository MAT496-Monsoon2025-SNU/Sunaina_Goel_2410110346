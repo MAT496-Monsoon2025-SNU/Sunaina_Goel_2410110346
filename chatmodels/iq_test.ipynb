{
 "cells": [
  {
   "cell_type": "code",
   "execution_count": 5,
   "id": "326a7a27",
   "metadata": {},
   "outputs": [
    {
     "data": {
      "text/plain": [
       "True"
      ]
     },
     "execution_count": 5,
     "metadata": {},
     "output_type": "execute_result"
    }
   ],
   "source": [
    "from dotenv import load_dotenv\n",
    "load_dotenv()"
   ]
  },
  {
   "cell_type": "code",
   "execution_count": 6,
   "id": "e99dfa71",
   "metadata": {},
   "outputs": [],
   "source": [
    "from langchain.chat_models import init_chat_model\n",
    "\n",
    "model = init_chat_model(\"llama-3.3-70b-versatile\", model_provider=\"groq\")"
   ]
  },
  {
   "cell_type": "code",
   "execution_count": 10,
   "id": "7d8d47ab",
   "metadata": {},
   "outputs": [
    {
     "data": {
      "text/plain": [
       "AIMessage(content=\"Here's a classic IQ test question:\\n\\n**Question:** A bat and a ball together cost $1.10. The bat costs $1.00 more than the ball. How much does the ball cost?\\n\\n**Answer:** $0.05\\n\\n**Explanation:** Let's say the ball costs x cents. Since the bat costs $1.00 more than the ball, the bat costs x + $1.00. The total cost of the bat and the ball together is $1.10, so we can set up the equation:\\n\\nx + (x + $1.00) = $1.10\\n\\nCombine like terms:\\n\\n2x + $1.00 = $1.10\\n\\nSubtract $1.00 from both sides:\\n\\n2x = $0.10\\n\\nDivide both sides by 2:\\n\\nx = $0.05\\n\\nTherefore, the ball costs $0.05, or 5 cents.\\n\\nThis question tests the ability to think logically and solve a simple algebraic equation, which is a key aspect of intelligence quotient (IQ) tests.\", additional_kwargs={}, response_metadata={'token_usage': {'completion_tokens': 220, 'prompt_tokens': 50, 'total_tokens': 270, 'completion_time': 0.394141147, 'prompt_time': 0.011657041, 'queue_time': 0.044329749, 'total_time': 0.405798188}, 'model_name': 'llama-3.3-70b-versatile', 'system_fingerprint': 'fp_3f3b593e33', 'service_tier': 'on_demand', 'finish_reason': 'stop', 'logprobs': None}, id='run--99613646-e5ef-4940-986e-da64cf825ef5-0', usage_metadata={'input_tokens': 50, 'output_tokens': 220, 'total_tokens': 270})"
      ]
     },
     "execution_count": 10,
     "metadata": {},
     "output_type": "execute_result"
    }
   ],
   "source": [
    "response = model.invoke(\"\"\" Suggest a question to test someone's IQ. Also give the answer.\"\"\")\n",
    "\n",
    "response"
   ]
  },
  {
   "cell_type": "code",
   "execution_count": 11,
   "id": "116e52ac",
   "metadata": {},
   "outputs": [
    {
     "name": "stdout",
     "output_type": "stream",
     "text": [
      "Here's a classic IQ test question:\n",
      "\n",
      "**Question:** A bat and a ball together cost $1.10. The bat costs $1.00 more than the ball. How much does the ball cost?\n",
      "\n",
      "**Answer:** $0.05\n",
      "\n",
      "**Explanation:** Let's say the ball costs x cents. Since the bat costs $1.00 more than the ball, the bat costs x + $1.00. The total cost of the bat and the ball together is $1.10, so we can set up the equation:\n",
      "\n",
      "x + (x + $1.00) = $1.10\n",
      "\n",
      "Combine like terms:\n",
      "\n",
      "2x + $1.00 = $1.10\n",
      "\n",
      "Subtract $1.00 from both sides:\n",
      "\n",
      "2x = $0.10\n",
      "\n",
      "Divide both sides by 2:\n",
      "\n",
      "x = $0.05\n",
      "\n",
      "Therefore, the ball costs $0.05, or 5 cents.\n",
      "\n",
      "This question tests the ability to think logically and solve a simple algebraic equation, which is a key aspect of intelligence quotient (IQ) tests.\n"
     ]
    }
   ],
   "source": [
    "print(response.content)"
   ]
  },
  {
   "cell_type": "code",
   "execution_count": 12,
   "id": "2f223cbd",
   "metadata": {},
   "outputs": [
    {
     "name": "stdout",
     "output_type": "stream",
     "text": [
      "Let's say the ball costs x cents. Since the bat costs $1.00 more than the ball, the bat costs x + $1.00.\n",
      "\n",
      "The total cost of the bat and the ball is $1.10, so we can set up the equation:\n",
      "\n",
      "x + (x + $1.00) = $1.10\n",
      "\n",
      "Combine like terms:\n",
      "\n",
      "2x + $1.00 = $1.10\n",
      "\n",
      "Subtract $1.00 from both sides:\n",
      "\n",
      "2x = $0.10\n",
      "\n",
      "Divide both sides by 2:\n",
      "\n",
      "x = $0.05\n",
      "\n",
      "So, the ball costs 5 cents.\n"
     ]
    }
   ],
   "source": [
    "from langchain.chat_models import init_chat_model\n",
    "\n",
    "model2 = init_chat_model(\"llama-3.3-70b-versatile\", model_provider=\"groq\")\n",
    "response = model2.invoke(\"\"\" A bat and a ball together cost $1.10. The bat costs $1.00 more than the ball. How much does the ball cost?\"\"\")\n",
    "\n",
    "print(response.content)"
   ]
  }
 ],
 "metadata": {
  "kernelspec": {
   "display_name": "Python 3",
   "language": "python",
   "name": "python3"
  },
  "language_info": {
   "codemirror_mode": {
    "name": "ipython",
    "version": 3
   },
   "file_extension": ".py",
   "mimetype": "text/x-python",
   "name": "python",
   "nbconvert_exporter": "python",
   "pygments_lexer": "ipython3",
   "version": "3.11.13"
  }
 },
 "nbformat": 4,
 "nbformat_minor": 5
}
